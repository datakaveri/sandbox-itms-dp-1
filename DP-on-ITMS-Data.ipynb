{
 "cells": [
  {
   "cell_type": "markdown",
   "id": "9c4f1c0b",
   "metadata": {},
   "source": [
    "# Queries in ITMS Dataset"
   ]
  },
  {
   "cell_type": "markdown",
   "id": "c07efd07",
   "metadata": {},
   "source": [
    "The following notebook is seperated into 5 parts\n",
    "1. Pre Processing of ITMS Dataset\n",
    "2. Selecting H3index\n",
    "3. Queries\n",
    "4. Interactive Graphs\n",
    "5. Calculating Cumulative Epsilon"
   ]
  },
  {
   "cell_type": "markdown",
   "id": "380ee8ac",
   "metadata": {},
   "source": [
    "## 1. Pre Processing the ITMS Dataset"
   ]
  },
  {
   "cell_type": "markdown",
   "id": "6443c933",
   "metadata": {},
   "source": [
    "##### We take the following steps to pre-process the data. \n",
    "1. Extract Latitude and Longitude values from the location.coordinates attribute\n",
    "2. Choose the H3 resolution and assign H3 index value to each record (based on Latitude and Longitude values in the record)\n",
    "3. Convert the observationDatetime string attribute into a datetime python object (to help in processing the record based on the value of the datetime object).\n",
    "4. Divide a day into Time Slots. Create a column called TimeSlot which will contain the Time Slot at which the data is recorded.\n",
    "5. Select the records that belong to dates spanning from 15th November 2021 to 15th December 2021 to obtain one month data. \n",
    "6. Within this subset, select the records from 'BeginHour' (starting hour of the day for analyzing the data) to 'EndHour'. \n",
    "6. Create a column named HAT (to denote Hexagon and Time slot) which denotes a combination of the H3index and the Time Slot. For example, a record having H3 index 8742d9d69ffffff and Time Slot number 20 will have a HAT id as 20-8742d9d69ffffff.\n"
   ]
  },
  {
   "cell_type": "markdown",
   "id": "5447fb0e",
   "metadata": {},
   "source": [
    "### Loading the dataset"
   ]
  },
  {
   "cell_type": "markdown",
   "id": "0fefe06a",
   "metadata": {},
   "source": [
    "We consider the intelligent transport management system (ITMS) dataset from Surat city for our case study involving differentially private release of statistics. This dataset consists of records generated from transit buses operating in the city. The parameters reported by the buses include licence plate number, instantaneous speed, observationDateTime and location-coordinates (latitude and longitude)."
   ]
  },
  {
   "cell_type": "markdown",
   "id": "ed784c99",
   "metadata": {},
   "source": [
    "#### Read the raw dataset"
   ]
  },
  {
   "cell_type": "code",
   "execution_count": 1,
   "id": "89860f1f",
   "metadata": {},
   "outputs": [],
   "source": [
    "import pandas as pd\n",
    "import numpy as np\n",
    "import h3\n",
    "import warnings\n",
    "\n",
    "warnings.filterwarnings('ignore')\n",
    "\n",
    "dataNovDec = pd.read_csv('data-NovDec.csv')"
   ]
  },
  {
   "cell_type": "markdown",
   "id": "5d27852e",
   "metadata": {},
   "source": [
    "#### Compress the Dataset and store it in a csv file"
   ]
  },
  {
   "cell_type": "code",
   "execution_count": 2,
   "id": "0d83491b",
   "metadata": {},
   "outputs": [
    {
     "name": "stdout",
     "output_type": "stream",
     "text": [
      "13296107\n"
     ]
    }
   ],
   "source": [
    "dataNovDec = dataNovDec.loc[:,~dataNovDec.columns.str.match(\"Unnamed\")]\n",
    "dataNovDec = dataNovDec[['speed','observationDateTime','license_plate','location.coordinates']]\n",
    "\n",
    "dataNovDec.to_csv('CompressedRawDataset.csv',index=False)\n",
    "n_tot = len(dataNovDec)\n",
    "print(n_tot)"
   ]
  },
  {
   "cell_type": "markdown",
   "id": "f28bb3c9",
   "metadata": {},
   "source": [
    "#### Uncomment the below code in case you directly want to load the CompressedDataset.csv file\n"
   ]
  },
  {
   "cell_type": "code",
   "execution_count": 1,
   "id": "1dc692e9",
   "metadata": {},
   "outputs": [],
   "source": [
    "import pandas as pd\n",
    "import numpy as np\n",
    "import h3\n",
    "import warnings\n",
    "\n",
    "warnings.filterwarnings('ignore')\n",
    "\n",
    "dataNovDec = pd.read_csv('https://iudx-cat-sandbox-dev.s3.ap-south-1.amazonaws.com/dp-itms-1/CompressedRawDataset.csv')\n",
    "n_tot = len(dataNovDec)"
   ]
  },
  {
   "cell_type": "markdown",
   "id": "be531e0a",
   "metadata": {},
   "source": [
    "### Displaying Dataset"
   ]
  },
  {
   "cell_type": "code",
   "execution_count": 2,
   "id": "e7d30eb2",
   "metadata": {},
   "outputs": [
    {
     "data": {
      "text/html": [
       "<div>\n",
       "<style scoped>\n",
       "    .dataframe tbody tr th:only-of-type {\n",
       "        vertical-align: middle;\n",
       "    }\n",
       "\n",
       "    .dataframe tbody tr th {\n",
       "        vertical-align: top;\n",
       "    }\n",
       "\n",
       "    .dataframe thead th {\n",
       "        text-align: right;\n",
       "    }\n",
       "</style>\n",
       "<table border=\"1\" class=\"dataframe\">\n",
       "  <thead>\n",
       "    <tr style=\"text-align: right;\">\n",
       "      <th></th>\n",
       "      <th>speed</th>\n",
       "      <th>observationDateTime</th>\n",
       "      <th>license_plate</th>\n",
       "      <th>location.coordinates</th>\n",
       "    </tr>\n",
       "  </thead>\n",
       "  <tbody>\n",
       "    <tr>\n",
       "      <th>0</th>\n",
       "      <td>16.0</td>\n",
       "      <td>2021-11-15 09:00:13+05:30</td>\n",
       "      <td>GJ05BX3472</td>\n",
       "      <td>[72.877571, 21.15876]</td>\n",
       "    </tr>\n",
       "    <tr>\n",
       "      <th>1</th>\n",
       "      <td>0.0</td>\n",
       "      <td>2021-11-15 09:00:32+05:30</td>\n",
       "      <td>GJ05BX3472</td>\n",
       "      <td>[72.876953, 21.15876]</td>\n",
       "    </tr>\n",
       "    <tr>\n",
       "      <th>2</th>\n",
       "      <td>0.0</td>\n",
       "      <td>2021-11-15 09:00:40+05:30</td>\n",
       "      <td>GJ05BX3244</td>\n",
       "      <td>[72.85242, 21.125909]</td>\n",
       "    </tr>\n",
       "    <tr>\n",
       "      <th>3</th>\n",
       "      <td>26.0</td>\n",
       "      <td>2021-11-15 09:00:41+05:30</td>\n",
       "      <td>GJ05BX2081</td>\n",
       "      <td>[72.846272, 21.194402]</td>\n",
       "    </tr>\n",
       "    <tr>\n",
       "      <th>4</th>\n",
       "      <td>35.0</td>\n",
       "      <td>2021-11-15 09:00:44+05:30</td>\n",
       "      <td>GJ05BX3399</td>\n",
       "      <td>[72.861092, 21.186351]</td>\n",
       "    </tr>\n",
       "  </tbody>\n",
       "</table>\n",
       "</div>"
      ],
      "text/plain": [
       "   speed        observationDateTime license_plate    location.coordinates\n",
       "0   16.0  2021-11-15 09:00:13+05:30    GJ05BX3472   [72.877571, 21.15876]\n",
       "1    0.0  2021-11-15 09:00:32+05:30    GJ05BX3472   [72.876953, 21.15876]\n",
       "2    0.0  2021-11-15 09:00:40+05:30    GJ05BX3244   [72.85242, 21.125909]\n",
       "3   26.0  2021-11-15 09:00:41+05:30    GJ05BX2081  [72.846272, 21.194402]\n",
       "4   35.0  2021-11-15 09:00:44+05:30    GJ05BX3399  [72.861092, 21.186351]"
      ]
     },
     "execution_count": 2,
     "metadata": {},
     "output_type": "execute_result"
    }
   ],
   "source": [
    "dataNovDec.head()"
   ]
  },
  {
   "cell_type": "code",
   "execution_count": 3,
   "id": "71e820e5",
   "metadata": {},
   "outputs": [
    {
     "data": {
      "text/html": [
       "<div>\n",
       "<style scoped>\n",
       "    .dataframe tbody tr th:only-of-type {\n",
       "        vertical-align: middle;\n",
       "    }\n",
       "\n",
       "    .dataframe tbody tr th {\n",
       "        vertical-align: top;\n",
       "    }\n",
       "\n",
       "    .dataframe thead th {\n",
       "        text-align: right;\n",
       "    }\n",
       "</style>\n",
       "<table border=\"1\" class=\"dataframe\">\n",
       "  <thead>\n",
       "    <tr style=\"text-align: right;\">\n",
       "      <th></th>\n",
       "      <th>speed</th>\n",
       "      <th>observationDateTime</th>\n",
       "      <th>license_plate</th>\n",
       "      <th>location.coordinates</th>\n",
       "    </tr>\n",
       "  </thead>\n",
       "  <tbody>\n",
       "    <tr>\n",
       "      <th>13296102</th>\n",
       "      <td>28.0</td>\n",
       "      <td>2021-12-15 20:46:12+05:30</td>\n",
       "      <td>GJ05CU2012</td>\n",
       "      <td>[72.789559, 21.224388]</td>\n",
       "    </tr>\n",
       "    <tr>\n",
       "      <th>13296103</th>\n",
       "      <td>0.0</td>\n",
       "      <td>2021-12-15 20:46:13+05:30</td>\n",
       "      <td>GJ05CU1366</td>\n",
       "      <td>[72.870982, 21.175778]</td>\n",
       "    </tr>\n",
       "    <tr>\n",
       "      <th>13296104</th>\n",
       "      <td>2.0</td>\n",
       "      <td>2021-12-15 20:46:13+05:30</td>\n",
       "      <td>GJ05CU2414</td>\n",
       "      <td>[72.84249, 21.19919]</td>\n",
       "    </tr>\n",
       "    <tr>\n",
       "      <th>13296105</th>\n",
       "      <td>22.0</td>\n",
       "      <td>2021-12-15 20:46:14+05:30</td>\n",
       "      <td>GJ05CU2147</td>\n",
       "      <td>[72.838805, 21.203108]</td>\n",
       "    </tr>\n",
       "    <tr>\n",
       "      <th>13296106</th>\n",
       "      <td>15.0</td>\n",
       "      <td>2021-12-15 20:46:14+05:30</td>\n",
       "      <td>GJ05CU2192</td>\n",
       "      <td>[72.863316, 21.150773]</td>\n",
       "    </tr>\n",
       "  </tbody>\n",
       "</table>\n",
       "</div>"
      ],
      "text/plain": [
       "          speed        observationDateTime license_plate  \\\n",
       "13296102   28.0  2021-12-15 20:46:12+05:30    GJ05CU2012   \n",
       "13296103    0.0  2021-12-15 20:46:13+05:30    GJ05CU1366   \n",
       "13296104    2.0  2021-12-15 20:46:13+05:30    GJ05CU2414   \n",
       "13296105   22.0  2021-12-15 20:46:14+05:30    GJ05CU2147   \n",
       "13296106   15.0  2021-12-15 20:46:14+05:30    GJ05CU2192   \n",
       "\n",
       "            location.coordinates  \n",
       "13296102  [72.789559, 21.224388]  \n",
       "13296103  [72.870982, 21.175778]  \n",
       "13296104    [72.84249, 21.19919]  \n",
       "13296105  [72.838805, 21.203108]  \n",
       "13296106  [72.863316, 21.150773]  "
      ]
     },
     "execution_count": 3,
     "metadata": {},
     "output_type": "execute_result"
    }
   ],
   "source": [
    "dataNovDec.tail()"
   ]
  },
  {
   "cell_type": "markdown",
   "id": "735689ad",
   "metadata": {},
   "source": [
    "## User Configurable Parameters\n",
    "\n",
    "### H3R: H3 Resolution (Higher Resolution implies smaller Hexagon Size)\n",
    "###### Recommended Values for H3R: 6, 7, 8. \n",
    "\n",
    "### TSR_minutes: Time Slot Resolution in minutes (Eg: TSR_minutes = 30 implies each slot is of 30 minutes)\n",
    "###### Recommended Values for TSR_minutes: 30, 60, 120\n",
    "\n",
    "### BeginHour: Starting Hour of the day (from when we want to observe the statistics)\n",
    "### EndHour: Ending Hour of the day (when the observation ends)\n",
    "###### The BeginHour and EndHour take absolute hour values. Eg. if we are interested in the time range 9am to 9pm, then BeginHour = 9 and EndHour = 21. Recommended Range 9 <= BeginHour < EndHour <= 21\n"
   ]
  },
  {
   "cell_type": "code",
   "execution_count": 5,
   "id": "fdfa7e41",
   "metadata": {},
   "outputs": [],
   "source": [
    "# import json\n",
    "\n",
    "# configFile = 'configDP.json'\n",
    "# with open(configFile, 'r') as cfile:\n",
    "#     dataDict = json.load(cfile)\n",
    "    \n",
    "# H3R = dataDict['h3IndexResolution']\n",
    "# TSR_minutes = dataDict['timeslotResolution']\n",
    "# BeginHour = dataDict['beginHour']\n",
    "# EndHour = dataDict['endHour']\n",
    "\n",
    "H3R = 7\n",
    "TSR_minutes = 60\n",
    "BeginHour = 9\n",
    "EndHour = 21"
   ]
  },
  {
   "cell_type": "markdown",
   "id": "ab6af9bb",
   "metadata": {},
   "source": [
    "### Splitting Latitude and Longitude"
   ]
  },
  {
   "cell_type": "code",
   "execution_count": 6,
   "id": "7c0b0085",
   "metadata": {},
   "outputs": [],
   "source": [
    "lat_lon = dataNovDec['location.coordinates']\n",
    "split_lat_lon = lat_lon.str.strip('[]').str.split(', ')\n",
    "\n",
    "lon = split_lat_lon.apply(lambda x: x[0])\n",
    "lat = split_lat_lon.apply(lambda x: x[1])\n",
    "\n",
    "# print(lat[0])\n",
    "# print(lon[0])"
   ]
  },
  {
   "cell_type": "markdown",
   "id": "55bda20c",
   "metadata": {},
   "source": [
    "### Assigning H3index based on latitude and longitude"
   ]
  },
  {
   "cell_type": "markdown",
   "id": "ef0da91d",
   "metadata": {},
   "source": [
    "We use the H3 is a geospatial indexing system (developed by Uber) that partitions the world into hexagonal cells. A latitude and longitude pair can be transformed to a 64-bit H3 index, identifying a hexagonal cell.\n"
   ]
  },
  {
   "cell_type": "markdown",
   "id": "c88e9a94",
   "metadata": {},
   "source": [
    "We choose resolution as 7 over 6 and 8 as when we use 8 resolution the size of h3indices is smaller and the number of h3indices that are selected is only 11%.We dont prefer resolution 6 as each h3index is approximately 36 km square. Resolution 7 is the best trade off in terms of size of each h3index and number of h3indices that can be selected"
   ]
  },
  {
   "cell_type": "code",
   "execution_count": 7,
   "id": "3b590d17",
   "metadata": {},
   "outputs": [],
   "source": [
    "h3index = [None]*n_tot\n",
    "\n",
    "# use the H3 Resolution value (H3R) loaded from the config file\n",
    "for i in range(n_tot):\n",
    "    h3index[i] = h3.geo_to_h3(lat=float(lat[i]),lng=float(lon[i]),resolution=H3R)\n",
    "    \n"
   ]
  },
  {
   "cell_type": "code",
   "execution_count": 8,
   "id": "f7454134",
   "metadata": {},
   "outputs": [],
   "source": [
    "dataNovDec['h3index'] = h3index\n"
   ]
  },
  {
   "cell_type": "code",
   "execution_count": 9,
   "id": "60bf1d3e",
   "metadata": {},
   "outputs": [
    {
     "data": {
      "text/html": [
       "<div>\n",
       "<style scoped>\n",
       "    .dataframe tbody tr th:only-of-type {\n",
       "        vertical-align: middle;\n",
       "    }\n",
       "\n",
       "    .dataframe tbody tr th {\n",
       "        vertical-align: top;\n",
       "    }\n",
       "\n",
       "    .dataframe thead th {\n",
       "        text-align: right;\n",
       "    }\n",
       "</style>\n",
       "<table border=\"1\" class=\"dataframe\">\n",
       "  <thead>\n",
       "    <tr style=\"text-align: right;\">\n",
       "      <th></th>\n",
       "      <th>speed</th>\n",
       "      <th>observationDateTime</th>\n",
       "      <th>license_plate</th>\n",
       "      <th>location.coordinates</th>\n",
       "      <th>h3index</th>\n",
       "    </tr>\n",
       "  </thead>\n",
       "  <tbody>\n",
       "    <tr>\n",
       "      <th>0</th>\n",
       "      <td>16.0</td>\n",
       "      <td>2021-11-15 09:00:13+05:30</td>\n",
       "      <td>GJ05BX3472</td>\n",
       "      <td>[72.877571, 21.15876]</td>\n",
       "      <td>8742d9894ffffff</td>\n",
       "    </tr>\n",
       "    <tr>\n",
       "      <th>1</th>\n",
       "      <td>0.0</td>\n",
       "      <td>2021-11-15 09:00:32+05:30</td>\n",
       "      <td>GJ05BX3472</td>\n",
       "      <td>[72.876953, 21.15876]</td>\n",
       "      <td>8742d9894ffffff</td>\n",
       "    </tr>\n",
       "    <tr>\n",
       "      <th>2</th>\n",
       "      <td>0.0</td>\n",
       "      <td>2021-11-15 09:00:40+05:30</td>\n",
       "      <td>GJ05BX3244</td>\n",
       "      <td>[72.85242, 21.125909]</td>\n",
       "      <td>8742d9d4bffffff</td>\n",
       "    </tr>\n",
       "    <tr>\n",
       "      <th>3</th>\n",
       "      <td>26.0</td>\n",
       "      <td>2021-11-15 09:00:41+05:30</td>\n",
       "      <td>GJ05BX2081</td>\n",
       "      <td>[72.846272, 21.194402]</td>\n",
       "      <td>8742d98b4ffffff</td>\n",
       "    </tr>\n",
       "    <tr>\n",
       "      <th>4</th>\n",
       "      <td>35.0</td>\n",
       "      <td>2021-11-15 09:00:44+05:30</td>\n",
       "      <td>GJ05BX3399</td>\n",
       "      <td>[72.861092, 21.186351]</td>\n",
       "      <td>8742d98b0ffffff</td>\n",
       "    </tr>\n",
       "  </tbody>\n",
       "</table>\n",
       "</div>"
      ],
      "text/plain": [
       "   speed        observationDateTime license_plate    location.coordinates  \\\n",
       "0   16.0  2021-11-15 09:00:13+05:30    GJ05BX3472   [72.877571, 21.15876]   \n",
       "1    0.0  2021-11-15 09:00:32+05:30    GJ05BX3472   [72.876953, 21.15876]   \n",
       "2    0.0  2021-11-15 09:00:40+05:30    GJ05BX3244   [72.85242, 21.125909]   \n",
       "3   26.0  2021-11-15 09:00:41+05:30    GJ05BX2081  [72.846272, 21.194402]   \n",
       "4   35.0  2021-11-15 09:00:44+05:30    GJ05BX3399  [72.861092, 21.186351]   \n",
       "\n",
       "           h3index  \n",
       "0  8742d9894ffffff  \n",
       "1  8742d9894ffffff  \n",
       "2  8742d9d4bffffff  \n",
       "3  8742d98b4ffffff  \n",
       "4  8742d98b0ffffff  "
      ]
     },
     "execution_count": 9,
     "metadata": {},
     "output_type": "execute_result"
    }
   ],
   "source": [
    "dataNovDec.head()"
   ]
  },
  {
   "cell_type": "code",
   "execution_count": 10,
   "id": "0c8137aa",
   "metadata": {},
   "outputs": [
    {
     "name": "stdout",
     "output_type": "stream",
     "text": [
      "117\n"
     ]
    }
   ],
   "source": [
    "print(len(pd.unique(dataNovDec['h3index'])))"
   ]
  },
  {
   "cell_type": "markdown",
   "id": "3aca259e",
   "metadata": {},
   "source": [
    "### Splitting the observation Date Time into a Date and Time Column"
   ]
  },
  {
   "cell_type": "code",
   "execution_count": 11,
   "id": "0afaed05",
   "metadata": {},
   "outputs": [
    {
     "data": {
      "text/html": [
       "<div>\n",
       "<style scoped>\n",
       "    .dataframe tbody tr th:only-of-type {\n",
       "        vertical-align: middle;\n",
       "    }\n",
       "\n",
       "    .dataframe tbody tr th {\n",
       "        vertical-align: top;\n",
       "    }\n",
       "\n",
       "    .dataframe thead th {\n",
       "        text-align: right;\n",
       "    }\n",
       "</style>\n",
       "<table border=\"1\" class=\"dataframe\">\n",
       "  <thead>\n",
       "    <tr style=\"text-align: right;\">\n",
       "      <th></th>\n",
       "      <th>speed</th>\n",
       "      <th>observationDateTime</th>\n",
       "      <th>license_plate</th>\n",
       "      <th>location.coordinates</th>\n",
       "      <th>h3index</th>\n",
       "      <th>Date</th>\n",
       "      <th>Time</th>\n",
       "    </tr>\n",
       "  </thead>\n",
       "  <tbody>\n",
       "    <tr>\n",
       "      <th>0</th>\n",
       "      <td>16.0</td>\n",
       "      <td>2021-11-15 09:00:13+05:30</td>\n",
       "      <td>GJ05BX3472</td>\n",
       "      <td>[72.877571, 21.15876]</td>\n",
       "      <td>8742d9894ffffff</td>\n",
       "      <td>2021-11-15</td>\n",
       "      <td>09:00:13</td>\n",
       "    </tr>\n",
       "    <tr>\n",
       "      <th>1</th>\n",
       "      <td>0.0</td>\n",
       "      <td>2021-11-15 09:00:32+05:30</td>\n",
       "      <td>GJ05BX3472</td>\n",
       "      <td>[72.876953, 21.15876]</td>\n",
       "      <td>8742d9894ffffff</td>\n",
       "      <td>2021-11-15</td>\n",
       "      <td>09:00:32</td>\n",
       "    </tr>\n",
       "    <tr>\n",
       "      <th>2</th>\n",
       "      <td>0.0</td>\n",
       "      <td>2021-11-15 09:00:40+05:30</td>\n",
       "      <td>GJ05BX3244</td>\n",
       "      <td>[72.85242, 21.125909]</td>\n",
       "      <td>8742d9d4bffffff</td>\n",
       "      <td>2021-11-15</td>\n",
       "      <td>09:00:40</td>\n",
       "    </tr>\n",
       "    <tr>\n",
       "      <th>3</th>\n",
       "      <td>26.0</td>\n",
       "      <td>2021-11-15 09:00:41+05:30</td>\n",
       "      <td>GJ05BX2081</td>\n",
       "      <td>[72.846272, 21.194402]</td>\n",
       "      <td>8742d98b4ffffff</td>\n",
       "      <td>2021-11-15</td>\n",
       "      <td>09:00:41</td>\n",
       "    </tr>\n",
       "    <tr>\n",
       "      <th>4</th>\n",
       "      <td>35.0</td>\n",
       "      <td>2021-11-15 09:00:44+05:30</td>\n",
       "      <td>GJ05BX3399</td>\n",
       "      <td>[72.861092, 21.186351]</td>\n",
       "      <td>8742d98b0ffffff</td>\n",
       "      <td>2021-11-15</td>\n",
       "      <td>09:00:44</td>\n",
       "    </tr>\n",
       "  </tbody>\n",
       "</table>\n",
       "</div>"
      ],
      "text/plain": [
       "   speed        observationDateTime license_plate    location.coordinates  \\\n",
       "0   16.0  2021-11-15 09:00:13+05:30    GJ05BX3472   [72.877571, 21.15876]   \n",
       "1    0.0  2021-11-15 09:00:32+05:30    GJ05BX3472   [72.876953, 21.15876]   \n",
       "2    0.0  2021-11-15 09:00:40+05:30    GJ05BX3244   [72.85242, 21.125909]   \n",
       "3   26.0  2021-11-15 09:00:41+05:30    GJ05BX2081  [72.846272, 21.194402]   \n",
       "4   35.0  2021-11-15 09:00:44+05:30    GJ05BX3399  [72.861092, 21.186351]   \n",
       "\n",
       "           h3index        Date      Time  \n",
       "0  8742d9894ffffff  2021-11-15  09:00:13  \n",
       "1  8742d9894ffffff  2021-11-15  09:00:32  \n",
       "2  8742d9d4bffffff  2021-11-15  09:00:40  \n",
       "3  8742d98b4ffffff  2021-11-15  09:00:41  \n",
       "4  8742d98b0ffffff  2021-11-15  09:00:44  "
      ]
     },
     "execution_count": 11,
     "metadata": {},
     "output_type": "execute_result"
    }
   ],
   "source": [
    "#dataJanMar['Date'] = pd.to_datetime(dataJanMar['observationDateTime'], errors='coerce')\n",
    "dataNovDec['Date'] = pd.to_datetime(dataNovDec['observationDateTime']).dt.date\n",
    "dataNovDec['Time'] = pd.to_datetime(dataNovDec['observationDateTime']).dt.time\n",
    "\n",
    "dataNovDec.head()"
   ]
  },
  {
   "cell_type": "markdown",
   "id": "742e0fd9",
   "metadata": {},
   "source": [
    "### Select records from \"BeginHour\" to \"EndHour\""
   ]
  },
  {
   "cell_type": "code",
   "execution_count": 12,
   "id": "5946d21d",
   "metadata": {},
   "outputs": [],
   "source": [
    "dt = dataNovDec['Time']\n",
    "dataNovDec['hour'] = dt.apply(lambda x: x.hour)\n",
    "dataNovDec['minute']  = dt.apply(lambda x: x.minute)\n",
    "\n",
    "# Use the BeginHour and EndHour variables (from the config file) to select the records\n",
    "dataNovDec = dataNovDec[(dataNovDec['hour']>= BeginHour) & (dataNovDec['hour']< EndHour)]"
   ]
  },
  {
   "cell_type": "code",
   "execution_count": 13,
   "id": "e6cbeafb",
   "metadata": {},
   "outputs": [
    {
     "data": {
      "text/html": [
       "<div>\n",
       "<style scoped>\n",
       "    .dataframe tbody tr th:only-of-type {\n",
       "        vertical-align: middle;\n",
       "    }\n",
       "\n",
       "    .dataframe tbody tr th {\n",
       "        vertical-align: top;\n",
       "    }\n",
       "\n",
       "    .dataframe thead th {\n",
       "        text-align: right;\n",
       "    }\n",
       "</style>\n",
       "<table border=\"1\" class=\"dataframe\">\n",
       "  <thead>\n",
       "    <tr style=\"text-align: right;\">\n",
       "      <th></th>\n",
       "      <th>speed</th>\n",
       "      <th>observationDateTime</th>\n",
       "      <th>license_plate</th>\n",
       "      <th>location.coordinates</th>\n",
       "      <th>h3index</th>\n",
       "      <th>Date</th>\n",
       "      <th>Time</th>\n",
       "      <th>hour</th>\n",
       "      <th>minute</th>\n",
       "    </tr>\n",
       "  </thead>\n",
       "  <tbody>\n",
       "    <tr>\n",
       "      <th>0</th>\n",
       "      <td>16.0</td>\n",
       "      <td>2021-11-15 09:00:13+05:30</td>\n",
       "      <td>GJ05BX3472</td>\n",
       "      <td>[72.877571, 21.15876]</td>\n",
       "      <td>8742d9894ffffff</td>\n",
       "      <td>2021-11-15</td>\n",
       "      <td>09:00:13</td>\n",
       "      <td>9</td>\n",
       "      <td>0</td>\n",
       "    </tr>\n",
       "    <tr>\n",
       "      <th>1</th>\n",
       "      <td>0.0</td>\n",
       "      <td>2021-11-15 09:00:32+05:30</td>\n",
       "      <td>GJ05BX3472</td>\n",
       "      <td>[72.876953, 21.15876]</td>\n",
       "      <td>8742d9894ffffff</td>\n",
       "      <td>2021-11-15</td>\n",
       "      <td>09:00:32</td>\n",
       "      <td>9</td>\n",
       "      <td>0</td>\n",
       "    </tr>\n",
       "    <tr>\n",
       "      <th>2</th>\n",
       "      <td>0.0</td>\n",
       "      <td>2021-11-15 09:00:40+05:30</td>\n",
       "      <td>GJ05BX3244</td>\n",
       "      <td>[72.85242, 21.125909]</td>\n",
       "      <td>8742d9d4bffffff</td>\n",
       "      <td>2021-11-15</td>\n",
       "      <td>09:00:40</td>\n",
       "      <td>9</td>\n",
       "      <td>0</td>\n",
       "    </tr>\n",
       "    <tr>\n",
       "      <th>3</th>\n",
       "      <td>26.0</td>\n",
       "      <td>2021-11-15 09:00:41+05:30</td>\n",
       "      <td>GJ05BX2081</td>\n",
       "      <td>[72.846272, 21.194402]</td>\n",
       "      <td>8742d98b4ffffff</td>\n",
       "      <td>2021-11-15</td>\n",
       "      <td>09:00:41</td>\n",
       "      <td>9</td>\n",
       "      <td>0</td>\n",
       "    </tr>\n",
       "    <tr>\n",
       "      <th>4</th>\n",
       "      <td>35.0</td>\n",
       "      <td>2021-11-15 09:00:44+05:30</td>\n",
       "      <td>GJ05BX3399</td>\n",
       "      <td>[72.861092, 21.186351]</td>\n",
       "      <td>8742d98b0ffffff</td>\n",
       "      <td>2021-11-15</td>\n",
       "      <td>09:00:44</td>\n",
       "      <td>9</td>\n",
       "      <td>0</td>\n",
       "    </tr>\n",
       "  </tbody>\n",
       "</table>\n",
       "</div>"
      ],
      "text/plain": [
       "   speed        observationDateTime license_plate    location.coordinates  \\\n",
       "0   16.0  2021-11-15 09:00:13+05:30    GJ05BX3472   [72.877571, 21.15876]   \n",
       "1    0.0  2021-11-15 09:00:32+05:30    GJ05BX3472   [72.876953, 21.15876]   \n",
       "2    0.0  2021-11-15 09:00:40+05:30    GJ05BX3244   [72.85242, 21.125909]   \n",
       "3   26.0  2021-11-15 09:00:41+05:30    GJ05BX2081  [72.846272, 21.194402]   \n",
       "4   35.0  2021-11-15 09:00:44+05:30    GJ05BX3399  [72.861092, 21.186351]   \n",
       "\n",
       "           h3index        Date      Time  hour  minute  \n",
       "0  8742d9894ffffff  2021-11-15  09:00:13     9       0  \n",
       "1  8742d9894ffffff  2021-11-15  09:00:32     9       0  \n",
       "2  8742d9d4bffffff  2021-11-15  09:00:40     9       0  \n",
       "3  8742d98b4ffffff  2021-11-15  09:00:41     9       0  \n",
       "4  8742d98b0ffffff  2021-11-15  09:00:44     9       0  "
      ]
     },
     "execution_count": 13,
     "metadata": {},
     "output_type": "execute_result"
    }
   ],
   "source": [
    "dataNovDec.head()"
   ]
  },
  {
   "cell_type": "code",
   "execution_count": 14,
   "id": "3575d311",
   "metadata": {},
   "outputs": [
    {
     "data": {
      "text/html": [
       "<div>\n",
       "<style scoped>\n",
       "    .dataframe tbody tr th:only-of-type {\n",
       "        vertical-align: middle;\n",
       "    }\n",
       "\n",
       "    .dataframe tbody tr th {\n",
       "        vertical-align: top;\n",
       "    }\n",
       "\n",
       "    .dataframe thead th {\n",
       "        text-align: right;\n",
       "    }\n",
       "</style>\n",
       "<table border=\"1\" class=\"dataframe\">\n",
       "  <thead>\n",
       "    <tr style=\"text-align: right;\">\n",
       "      <th></th>\n",
       "      <th>speed</th>\n",
       "      <th>observationDateTime</th>\n",
       "      <th>license_plate</th>\n",
       "      <th>location.coordinates</th>\n",
       "      <th>h3index</th>\n",
       "      <th>Date</th>\n",
       "      <th>Time</th>\n",
       "      <th>hour</th>\n",
       "      <th>minute</th>\n",
       "    </tr>\n",
       "  </thead>\n",
       "  <tbody>\n",
       "    <tr>\n",
       "      <th>13296102</th>\n",
       "      <td>28.0</td>\n",
       "      <td>2021-12-15 20:46:12+05:30</td>\n",
       "      <td>GJ05CU2012</td>\n",
       "      <td>[72.789559, 21.224388]</td>\n",
       "      <td>8742d9991ffffff</td>\n",
       "      <td>2021-12-15</td>\n",
       "      <td>20:46:12</td>\n",
       "      <td>20</td>\n",
       "      <td>46</td>\n",
       "    </tr>\n",
       "    <tr>\n",
       "      <th>13296103</th>\n",
       "      <td>0.0</td>\n",
       "      <td>2021-12-15 20:46:13+05:30</td>\n",
       "      <td>GJ05CU1366</td>\n",
       "      <td>[72.870982, 21.175778]</td>\n",
       "      <td>8742d98b2ffffff</td>\n",
       "      <td>2021-12-15</td>\n",
       "      <td>20:46:13</td>\n",
       "      <td>20</td>\n",
       "      <td>46</td>\n",
       "    </tr>\n",
       "    <tr>\n",
       "      <th>13296104</th>\n",
       "      <td>2.0</td>\n",
       "      <td>2021-12-15 20:46:13+05:30</td>\n",
       "      <td>GJ05CU2414</td>\n",
       "      <td>[72.84249, 21.19919]</td>\n",
       "      <td>8742d98b4ffffff</td>\n",
       "      <td>2021-12-15</td>\n",
       "      <td>20:46:13</td>\n",
       "      <td>20</td>\n",
       "      <td>46</td>\n",
       "    </tr>\n",
       "    <tr>\n",
       "      <th>13296105</th>\n",
       "      <td>22.0</td>\n",
       "      <td>2021-12-15 20:46:14+05:30</td>\n",
       "      <td>GJ05CU2147</td>\n",
       "      <td>[72.838805, 21.203108]</td>\n",
       "      <td>8742d98b4ffffff</td>\n",
       "      <td>2021-12-15</td>\n",
       "      <td>20:46:14</td>\n",
       "      <td>20</td>\n",
       "      <td>46</td>\n",
       "    </tr>\n",
       "    <tr>\n",
       "      <th>13296106</th>\n",
       "      <td>15.0</td>\n",
       "      <td>2021-12-15 20:46:14+05:30</td>\n",
       "      <td>GJ05CU2192</td>\n",
       "      <td>[72.863316, 21.150773]</td>\n",
       "      <td>8742d9d49ffffff</td>\n",
       "      <td>2021-12-15</td>\n",
       "      <td>20:46:14</td>\n",
       "      <td>20</td>\n",
       "      <td>46</td>\n",
       "    </tr>\n",
       "  </tbody>\n",
       "</table>\n",
       "</div>"
      ],
      "text/plain": [
       "          speed        observationDateTime license_plate  \\\n",
       "13296102   28.0  2021-12-15 20:46:12+05:30    GJ05CU2012   \n",
       "13296103    0.0  2021-12-15 20:46:13+05:30    GJ05CU1366   \n",
       "13296104    2.0  2021-12-15 20:46:13+05:30    GJ05CU2414   \n",
       "13296105   22.0  2021-12-15 20:46:14+05:30    GJ05CU2147   \n",
       "13296106   15.0  2021-12-15 20:46:14+05:30    GJ05CU2192   \n",
       "\n",
       "            location.coordinates          h3index        Date      Time  hour  \\\n",
       "13296102  [72.789559, 21.224388]  8742d9991ffffff  2021-12-15  20:46:12    20   \n",
       "13296103  [72.870982, 21.175778]  8742d98b2ffffff  2021-12-15  20:46:13    20   \n",
       "13296104    [72.84249, 21.19919]  8742d98b4ffffff  2021-12-15  20:46:13    20   \n",
       "13296105  [72.838805, 21.203108]  8742d98b4ffffff  2021-12-15  20:46:14    20   \n",
       "13296106  [72.863316, 21.150773]  8742d9d49ffffff  2021-12-15  20:46:14    20   \n",
       "\n",
       "          minute  \n",
       "13296102      46  \n",
       "13296103      46  \n",
       "13296104      46  \n",
       "13296105      46  \n",
       "13296106      46  "
      ]
     },
     "execution_count": 14,
     "metadata": {},
     "output_type": "execute_result"
    }
   ],
   "source": [
    "dataNovDec.tail()"
   ]
  },
  {
   "cell_type": "markdown",
   "id": "62313f9c",
   "metadata": {},
   "source": [
    "### Create TimeSlots based on TimeSlotResolution"
   ]
  },
  {
   "cell_type": "code",
   "execution_count": 15,
   "id": "047143a3",
   "metadata": {},
   "outputs": [
    {
     "data": {
      "text/plain": [
       "12.0"
      ]
     },
     "execution_count": 15,
     "metadata": {},
     "output_type": "execute_result"
    }
   ],
   "source": [
    "dataNovDec['TimeStamp'] = (dataNovDec['hour'] - BeginHour)*60 + dataNovDec['minute']\n",
    "\n",
    "# Use the Time Slot Resolution (TSR_minutes) value loaded from the config file\n",
    "dataNovDec['TimeSlot'] = dataNovDec['TimeStamp'].floordiv(TSR_minutes, fill_value=0) + 1\n",
    "\n",
    "dataNovDec.drop(columns = ['hour','minute','TimeStamp','location.coordinates','observationDateTime','Time'], inplace = True)\n",
    "\n",
    "TotalTimeSlots = np.ceil(((EndHour - BeginHour)*60)/TSR_minutes)\n",
    "TotalTimeSlots"
   ]
  },
  {
   "cell_type": "markdown",
   "id": "3eae9b27",
   "metadata": {},
   "source": [
    "### HAT is defined as H3index and Time Slot\n",
    "#### For example if h3index = 8742d999affffff and Time Slot = 9, the HAT is 9 8742d999affffff"
   ]
  },
  {
   "cell_type": "code",
   "execution_count": 16,
   "id": "63fd1b4a",
   "metadata": {},
   "outputs": [],
   "source": [
    "dataNovDec['HAT'] = dataNovDec['TimeSlot'].astype(str) + '-' + dataNovDec['h3index']"
   ]
  },
  {
   "cell_type": "code",
   "execution_count": 17,
   "id": "5493b7ac",
   "metadata": {},
   "outputs": [
    {
     "data": {
      "text/html": [
       "<div>\n",
       "<style scoped>\n",
       "    .dataframe tbody tr th:only-of-type {\n",
       "        vertical-align: middle;\n",
       "    }\n",
       "\n",
       "    .dataframe tbody tr th {\n",
       "        vertical-align: top;\n",
       "    }\n",
       "\n",
       "    .dataframe thead th {\n",
       "        text-align: right;\n",
       "    }\n",
       "</style>\n",
       "<table border=\"1\" class=\"dataframe\">\n",
       "  <thead>\n",
       "    <tr style=\"text-align: right;\">\n",
       "      <th></th>\n",
       "      <th>speed</th>\n",
       "      <th>license_plate</th>\n",
       "      <th>h3index</th>\n",
       "      <th>Date</th>\n",
       "      <th>TimeSlot</th>\n",
       "      <th>HAT</th>\n",
       "    </tr>\n",
       "  </thead>\n",
       "  <tbody>\n",
       "    <tr>\n",
       "      <th>0</th>\n",
       "      <td>16.0</td>\n",
       "      <td>GJ05BX3472</td>\n",
       "      <td>8742d9894ffffff</td>\n",
       "      <td>2021-11-15</td>\n",
       "      <td>1</td>\n",
       "      <td>1-8742d9894ffffff</td>\n",
       "    </tr>\n",
       "    <tr>\n",
       "      <th>1</th>\n",
       "      <td>0.0</td>\n",
       "      <td>GJ05BX3472</td>\n",
       "      <td>8742d9894ffffff</td>\n",
       "      <td>2021-11-15</td>\n",
       "      <td>1</td>\n",
       "      <td>1-8742d9894ffffff</td>\n",
       "    </tr>\n",
       "    <tr>\n",
       "      <th>2</th>\n",
       "      <td>0.0</td>\n",
       "      <td>GJ05BX3244</td>\n",
       "      <td>8742d9d4bffffff</td>\n",
       "      <td>2021-11-15</td>\n",
       "      <td>1</td>\n",
       "      <td>1-8742d9d4bffffff</td>\n",
       "    </tr>\n",
       "    <tr>\n",
       "      <th>3</th>\n",
       "      <td>26.0</td>\n",
       "      <td>GJ05BX2081</td>\n",
       "      <td>8742d98b4ffffff</td>\n",
       "      <td>2021-11-15</td>\n",
       "      <td>1</td>\n",
       "      <td>1-8742d98b4ffffff</td>\n",
       "    </tr>\n",
       "    <tr>\n",
       "      <th>4</th>\n",
       "      <td>35.0</td>\n",
       "      <td>GJ05BX3399</td>\n",
       "      <td>8742d98b0ffffff</td>\n",
       "      <td>2021-11-15</td>\n",
       "      <td>1</td>\n",
       "      <td>1-8742d98b0ffffff</td>\n",
       "    </tr>\n",
       "  </tbody>\n",
       "</table>\n",
       "</div>"
      ],
      "text/plain": [
       "   speed license_plate          h3index        Date  TimeSlot  \\\n",
       "0   16.0    GJ05BX3472  8742d9894ffffff  2021-11-15         1   \n",
       "1    0.0    GJ05BX3472  8742d9894ffffff  2021-11-15         1   \n",
       "2    0.0    GJ05BX3244  8742d9d4bffffff  2021-11-15         1   \n",
       "3   26.0    GJ05BX2081  8742d98b4ffffff  2021-11-15         1   \n",
       "4   35.0    GJ05BX3399  8742d98b0ffffff  2021-11-15         1   \n",
       "\n",
       "                 HAT  \n",
       "0  1-8742d9894ffffff  \n",
       "1  1-8742d9894ffffff  \n",
       "2  1-8742d9d4bffffff  \n",
       "3  1-8742d98b4ffffff  \n",
       "4  1-8742d98b0ffffff  "
      ]
     },
     "execution_count": 17,
     "metadata": {},
     "output_type": "execute_result"
    }
   ],
   "source": [
    "dataNovDec.head()"
   ]
  },
  {
   "cell_type": "code",
   "execution_count": 18,
   "id": "43362c11",
   "metadata": {},
   "outputs": [
    {
     "data": {
      "text/html": [
       "<div>\n",
       "<style scoped>\n",
       "    .dataframe tbody tr th:only-of-type {\n",
       "        vertical-align: middle;\n",
       "    }\n",
       "\n",
       "    .dataframe tbody tr th {\n",
       "        vertical-align: top;\n",
       "    }\n",
       "\n",
       "    .dataframe thead th {\n",
       "        text-align: right;\n",
       "    }\n",
       "</style>\n",
       "<table border=\"1\" class=\"dataframe\">\n",
       "  <thead>\n",
       "    <tr style=\"text-align: right;\">\n",
       "      <th></th>\n",
       "      <th>speed</th>\n",
       "      <th>license_plate</th>\n",
       "      <th>h3index</th>\n",
       "      <th>Date</th>\n",
       "      <th>TimeSlot</th>\n",
       "      <th>HAT</th>\n",
       "    </tr>\n",
       "  </thead>\n",
       "  <tbody>\n",
       "    <tr>\n",
       "      <th>13296102</th>\n",
       "      <td>28.0</td>\n",
       "      <td>GJ05CU2012</td>\n",
       "      <td>8742d9991ffffff</td>\n",
       "      <td>2021-12-15</td>\n",
       "      <td>12</td>\n",
       "      <td>12-8742d9991ffffff</td>\n",
       "    </tr>\n",
       "    <tr>\n",
       "      <th>13296103</th>\n",
       "      <td>0.0</td>\n",
       "      <td>GJ05CU1366</td>\n",
       "      <td>8742d98b2ffffff</td>\n",
       "      <td>2021-12-15</td>\n",
       "      <td>12</td>\n",
       "      <td>12-8742d98b2ffffff</td>\n",
       "    </tr>\n",
       "    <tr>\n",
       "      <th>13296104</th>\n",
       "      <td>2.0</td>\n",
       "      <td>GJ05CU2414</td>\n",
       "      <td>8742d98b4ffffff</td>\n",
       "      <td>2021-12-15</td>\n",
       "      <td>12</td>\n",
       "      <td>12-8742d98b4ffffff</td>\n",
       "    </tr>\n",
       "    <tr>\n",
       "      <th>13296105</th>\n",
       "      <td>22.0</td>\n",
       "      <td>GJ05CU2147</td>\n",
       "      <td>8742d98b4ffffff</td>\n",
       "      <td>2021-12-15</td>\n",
       "      <td>12</td>\n",
       "      <td>12-8742d98b4ffffff</td>\n",
       "    </tr>\n",
       "    <tr>\n",
       "      <th>13296106</th>\n",
       "      <td>15.0</td>\n",
       "      <td>GJ05CU2192</td>\n",
       "      <td>8742d9d49ffffff</td>\n",
       "      <td>2021-12-15</td>\n",
       "      <td>12</td>\n",
       "      <td>12-8742d9d49ffffff</td>\n",
       "    </tr>\n",
       "  </tbody>\n",
       "</table>\n",
       "</div>"
      ],
      "text/plain": [
       "          speed license_plate          h3index        Date  TimeSlot  \\\n",
       "13296102   28.0    GJ05CU2012  8742d9991ffffff  2021-12-15        12   \n",
       "13296103    0.0    GJ05CU1366  8742d98b2ffffff  2021-12-15        12   \n",
       "13296104    2.0    GJ05CU2414  8742d98b4ffffff  2021-12-15        12   \n",
       "13296105   22.0    GJ05CU2147  8742d98b4ffffff  2021-12-15        12   \n",
       "13296106   15.0    GJ05CU2192  8742d9d49ffffff  2021-12-15        12   \n",
       "\n",
       "                         HAT  \n",
       "13296102  12-8742d9991ffffff  \n",
       "13296103  12-8742d98b2ffffff  \n",
       "13296104  12-8742d98b4ffffff  \n",
       "13296105  12-8742d98b4ffffff  \n",
       "13296106  12-8742d9d49ffffff  "
      ]
     },
     "execution_count": 18,
     "metadata": {},
     "output_type": "execute_result"
    }
   ],
   "source": [
    "dataNovDec.tail()"
   ]
  },
  {
   "cell_type": "code",
   "execution_count": 19,
   "id": "742c2a30",
   "metadata": {
    "scrolled": true
   },
   "outputs": [
    {
     "name": "stdout",
     "output_type": "stream",
     "text": [
      "1213\n"
     ]
    }
   ],
   "source": [
    "print(len(pd.unique(dataNovDec['HAT'])))"
   ]
  },
  {
   "cell_type": "markdown",
   "id": "17a09864",
   "metadata": {},
   "source": [
    "### Splitting the dataset according to our definition\n",
    "#### The date is set as 15th Novemeber 2021 to 15th December 2021"
   ]
  },
  {
   "cell_type": "code",
   "execution_count": 20,
   "id": "ec0655c7",
   "metadata": {},
   "outputs": [],
   "source": [
    "start_date = pd.to_datetime(\"2021-11-15\").date()\n",
    "end_date = pd.to_datetime(\"2021-12-15\").date()\n",
    "data = dataNovDec[(dataNovDec['Date']>= start_date) & (dataNovDec['Date'] <= end_date)]"
   ]
  },
  {
   "cell_type": "markdown",
   "id": "0b74e2fb",
   "metadata": {},
   "source": [
    "## 2. Choosing H3index\n",
    "### Base Condition  = Has average more than 10 Unique Buses Every Day for all Time Slots from 9 am to 9 pm"
   ]
  },
  {
   "cell_type": "markdown",
   "id": "a07f1ead",
   "metadata": {},
   "source": [
    "The H3indices are given below and the number of H3indices are mentioned below too"
   ]
  },
  {
   "cell_type": "code",
   "execution_count": 21,
   "id": "7fa3571b",
   "metadata": {},
   "outputs": [
    {
     "name": "stdout",
     "output_type": "stream",
     "text": [
      "['8742d9894ffffff' '8742d9d4bffffff' '8742d98b4ffffff' '8742d98b0ffffff'\n",
      " '8742d98b5ffffff' '8742d9d48ffffff' '8742d999affffff' '8742d98a0ffffff'\n",
      " '8742d9d69ffffff' '8742d9c64ffffff' '8742d9998ffffff' '8742d9d09ffffff'\n",
      " '8742d9d6effffff' '8742d9d6bffffff' '8742d98b2ffffff' '8742d98a2ffffff'\n",
      " '8742d999bffffff' '8742d98b6ffffff' '8742d998affffff' '8742d999cffffff'\n",
      " '8742d9992ffffff' '8742d9d61ffffff' '8742d9d65ffffff' '8742d98a3ffffff'\n",
      " '8742d9d6dffffff' '8742d9d4dffffff' '8742d9d4cffffff' '8742d9d41ffffff'\n",
      " '8742d9d6affffff' '8742d98acffffff' '8742d9991ffffff' '8742d98b1ffffff'\n",
      " '8742d9886ffffff' '8742d9993ffffff' '8742d9832ffffff' '8742d9999ffffff'\n",
      " '8742d999effffff' '8742d99a5ffffff' '8742d9c62ffffff' '8742d9d63ffffff'\n",
      " '8742d9d49ffffff' '8742d98aeffffff' '8742d9d68ffffff' '8742d9c66ffffff'\n",
      " '8742d9d6cffffff' '8742d9896ffffff' '8742d98b3ffffff' '8742d989dffffff'\n",
      " '8742d9d45ffffff' '8742d9d71ffffff' '8742dd6caffffff' '8742d9982ffffff'\n",
      " '8742dd6dcffffff' '8742d98a1ffffff' '8742d98adffffff' '8742d9d4affffff'\n",
      " '8742d9d44ffffff' '8742dd6d9ffffff' '8742d9882ffffff' '8742d98a6ffffff'\n",
      " '8742d999dffffff' '8742d9d64ffffff' '8742d9d4effffff' '8742d9883ffffff'\n",
      " '8742d9836ffffff' '8742d9830ffffff' '8742d9d43ffffff' '8742d98aaffffff'\n",
      " '8742d9990ffffff' '8742d9d40ffffff' '8742d9d0dffffff' '8742d9d73ffffff'\n",
      " '8742d9d59ffffff' '8742d9833ffffff' '8742d9d72ffffff' '8742d9d46ffffff'\n",
      " '8742d9c75ffffff' '8742dd6ddffffff' '8742d9986ffffff' '8742d9984ffffff'\n",
      " '8742d9983ffffff' '8742d998dffffff' '8742d99a2ffffff' '8742d9814ffffff'\n",
      " '8742d998effffff' '8742d9988ffffff' '8742d99a0ffffff' '8742d98a4ffffff'\n",
      " '8742d9989ffffff' '8742d9d58ffffff' '8742d9d54ffffff' '8742dd64bffffff'\n",
      " '8742d9816ffffff' '8742d98a5ffffff' '8742d998bffffff' '8742d9815ffffff'\n",
      " '8742d9995ffffff' '8742dd6d1ffffff' '8759310ecffffff' '8742d9c60ffffff'\n",
      " '8742d9d42ffffff' '8742d98a9ffffff' '8742d98f4ffffff' '8742d9d5dffffff'\n",
      " '8742d9d62ffffff' '875931073ffffff' '8759310eeffffff' '8742d9d70ffffff'\n",
      " '875931052ffffff' '875931064ffffff' '8742d9813ffffff' '875931055ffffff'\n",
      " '8742dd6c2ffffff' '875931071ffffff' '8742d988effffff' '8742d9884ffffff'\n",
      " '8742d9810ffffff']\n",
      "117\n"
     ]
    }
   ],
   "source": [
    "data1 = data\n",
    "h3index = data1['h3index'].unique()\n",
    "print(h3index)\n",
    "print(len(h3index))\n"
   ]
  },
  {
   "cell_type": "markdown",
   "id": "669bcc64",
   "metadata": {},
   "source": [
    "We groupby the Data by TimeSlot, Date and H3index with the aggregation function counting the number of unique license plate. 'e' dataframe depicts the number of unique buses per TimeSlot, Date and H3index"
   ]
  },
  {
   "cell_type": "code",
   "execution_count": 22,
   "id": "6813186f",
   "metadata": {},
   "outputs": [
    {
     "data": {
      "text/html": [
       "<div>\n",
       "<style scoped>\n",
       "    .dataframe tbody tr th:only-of-type {\n",
       "        vertical-align: middle;\n",
       "    }\n",
       "\n",
       "    .dataframe tbody tr th {\n",
       "        vertical-align: top;\n",
       "    }\n",
       "\n",
       "    .dataframe thead th {\n",
       "        text-align: right;\n",
       "    }\n",
       "</style>\n",
       "<table border=\"1\" class=\"dataframe\">\n",
       "  <thead>\n",
       "    <tr style=\"text-align: right;\">\n",
       "      <th></th>\n",
       "      <th>h3index</th>\n",
       "      <th>TimeSlot</th>\n",
       "      <th>Date</th>\n",
       "      <th>NumUniqueBusesDay</th>\n",
       "    </tr>\n",
       "  </thead>\n",
       "  <tbody>\n",
       "    <tr>\n",
       "      <th>0</th>\n",
       "      <td>8742d9810ffffff</td>\n",
       "      <td>12</td>\n",
       "      <td>2021-12-15</td>\n",
       "      <td>1</td>\n",
       "    </tr>\n",
       "    <tr>\n",
       "      <th>1</th>\n",
       "      <td>8742d9813ffffff</td>\n",
       "      <td>1</td>\n",
       "      <td>2021-11-26</td>\n",
       "      <td>1</td>\n",
       "    </tr>\n",
       "    <tr>\n",
       "      <th>2</th>\n",
       "      <td>8742d9814ffffff</td>\n",
       "      <td>1</td>\n",
       "      <td>2021-11-15</td>\n",
       "      <td>2</td>\n",
       "    </tr>\n",
       "    <tr>\n",
       "      <th>3</th>\n",
       "      <td>8742d9814ffffff</td>\n",
       "      <td>1</td>\n",
       "      <td>2021-11-16</td>\n",
       "      <td>1</td>\n",
       "    </tr>\n",
       "    <tr>\n",
       "      <th>4</th>\n",
       "      <td>8742d9814ffffff</td>\n",
       "      <td>1</td>\n",
       "      <td>2021-11-17</td>\n",
       "      <td>2</td>\n",
       "    </tr>\n",
       "    <tr>\n",
       "      <th>...</th>\n",
       "      <td>...</td>\n",
       "      <td>...</td>\n",
       "      <td>...</td>\n",
       "      <td>...</td>\n",
       "    </tr>\n",
       "    <tr>\n",
       "      <th>26596</th>\n",
       "      <td>875931073ffffff</td>\n",
       "      <td>6</td>\n",
       "      <td>2021-11-19</td>\n",
       "      <td>1</td>\n",
       "    </tr>\n",
       "    <tr>\n",
       "      <th>26597</th>\n",
       "      <td>875931073ffffff</td>\n",
       "      <td>9</td>\n",
       "      <td>2021-11-22</td>\n",
       "      <td>1</td>\n",
       "    </tr>\n",
       "    <tr>\n",
       "      <th>26598</th>\n",
       "      <td>8759310ecffffff</td>\n",
       "      <td>9</td>\n",
       "      <td>2021-11-16</td>\n",
       "      <td>1</td>\n",
       "    </tr>\n",
       "    <tr>\n",
       "      <th>26599</th>\n",
       "      <td>8759310ecffffff</td>\n",
       "      <td>10</td>\n",
       "      <td>2021-12-05</td>\n",
       "      <td>1</td>\n",
       "    </tr>\n",
       "    <tr>\n",
       "      <th>26600</th>\n",
       "      <td>8759310eeffffff</td>\n",
       "      <td>10</td>\n",
       "      <td>2021-11-21</td>\n",
       "      <td>1</td>\n",
       "    </tr>\n",
       "  </tbody>\n",
       "</table>\n",
       "<p>26601 rows × 4 columns</p>\n",
       "</div>"
      ],
      "text/plain": [
       "               h3index  TimeSlot        Date  NumUniqueBusesDay\n",
       "0      8742d9810ffffff        12  2021-12-15                  1\n",
       "1      8742d9813ffffff         1  2021-11-26                  1\n",
       "2      8742d9814ffffff         1  2021-11-15                  2\n",
       "3      8742d9814ffffff         1  2021-11-16                  1\n",
       "4      8742d9814ffffff         1  2021-11-17                  2\n",
       "...                ...       ...         ...                ...\n",
       "26596  875931073ffffff         6  2021-11-19                  1\n",
       "26597  875931073ffffff         9  2021-11-22                  1\n",
       "26598  8759310ecffffff         9  2021-11-16                  1\n",
       "26599  8759310ecffffff        10  2021-12-05                  1\n",
       "26600  8759310eeffffff        10  2021-11-21                  1\n",
       "\n",
       "[26601 rows x 4 columns]"
      ]
     },
     "execution_count": 22,
     "metadata": {},
     "output_type": "execute_result"
    }
   ],
   "source": [
    "e = data1.groupby(['h3index','TimeSlot','Date']).agg({'license_plate': 'nunique'}).reset_index()\n",
    "e.rename(columns = {'license_plate':'NumUniqueBusesDay'}, inplace = True)\n",
    "e"
   ]
  },
  {
   "cell_type": "markdown",
   "id": "1bf5da58",
   "metadata": {},
   "source": [
    "The 'e' dataframe is now grouped as the sum of license_plate across dates. Therefore the dataframe 'f' depicts the sum of unique license plate for 31 days per Time Slot and H3index (HAT)"
   ]
  },
  {
   "cell_type": "code",
   "execution_count": 23,
   "id": "254975ad",
   "metadata": {},
   "outputs": [
    {
     "data": {
      "text/html": [
       "<div>\n",
       "<style scoped>\n",
       "    .dataframe tbody tr th:only-of-type {\n",
       "        vertical-align: middle;\n",
       "    }\n",
       "\n",
       "    .dataframe tbody tr th {\n",
       "        vertical-align: top;\n",
       "    }\n",
       "\n",
       "    .dataframe thead th {\n",
       "        text-align: right;\n",
       "    }\n",
       "</style>\n",
       "<table border=\"1\" class=\"dataframe\">\n",
       "  <thead>\n",
       "    <tr style=\"text-align: right;\">\n",
       "      <th></th>\n",
       "      <th>h3index</th>\n",
       "      <th>TimeSlot</th>\n",
       "      <th>NumUniqueBusesMonth</th>\n",
       "    </tr>\n",
       "  </thead>\n",
       "  <tbody>\n",
       "    <tr>\n",
       "      <th>0</th>\n",
       "      <td>8742d9810ffffff</td>\n",
       "      <td>12</td>\n",
       "      <td>1</td>\n",
       "    </tr>\n",
       "    <tr>\n",
       "      <th>1</th>\n",
       "      <td>8742d9813ffffff</td>\n",
       "      <td>1</td>\n",
       "      <td>1</td>\n",
       "    </tr>\n",
       "    <tr>\n",
       "      <th>2</th>\n",
       "      <td>8742d9814ffffff</td>\n",
       "      <td>1</td>\n",
       "      <td>25</td>\n",
       "    </tr>\n",
       "    <tr>\n",
       "      <th>3</th>\n",
       "      <td>8742d9814ffffff</td>\n",
       "      <td>2</td>\n",
       "      <td>35</td>\n",
       "    </tr>\n",
       "    <tr>\n",
       "      <th>4</th>\n",
       "      <td>8742d9814ffffff</td>\n",
       "      <td>3</td>\n",
       "      <td>29</td>\n",
       "    </tr>\n",
       "    <tr>\n",
       "      <th>...</th>\n",
       "      <td>...</td>\n",
       "      <td>...</td>\n",
       "      <td>...</td>\n",
       "    </tr>\n",
       "    <tr>\n",
       "      <th>1208</th>\n",
       "      <td>875931073ffffff</td>\n",
       "      <td>6</td>\n",
       "      <td>1</td>\n",
       "    </tr>\n",
       "    <tr>\n",
       "      <th>1209</th>\n",
       "      <td>875931073ffffff</td>\n",
       "      <td>9</td>\n",
       "      <td>1</td>\n",
       "    </tr>\n",
       "    <tr>\n",
       "      <th>1210</th>\n",
       "      <td>8759310ecffffff</td>\n",
       "      <td>9</td>\n",
       "      <td>1</td>\n",
       "    </tr>\n",
       "    <tr>\n",
       "      <th>1211</th>\n",
       "      <td>8759310ecffffff</td>\n",
       "      <td>10</td>\n",
       "      <td>1</td>\n",
       "    </tr>\n",
       "    <tr>\n",
       "      <th>1212</th>\n",
       "      <td>8759310eeffffff</td>\n",
       "      <td>10</td>\n",
       "      <td>1</td>\n",
       "    </tr>\n",
       "  </tbody>\n",
       "</table>\n",
       "<p>1213 rows × 3 columns</p>\n",
       "</div>"
      ],
      "text/plain": [
       "              h3index  TimeSlot  NumUniqueBusesMonth\n",
       "0     8742d9810ffffff        12                    1\n",
       "1     8742d9813ffffff         1                    1\n",
       "2     8742d9814ffffff         1                   25\n",
       "3     8742d9814ffffff         2                   35\n",
       "4     8742d9814ffffff         3                   29\n",
       "...               ...       ...                  ...\n",
       "1208  875931073ffffff         6                    1\n",
       "1209  875931073ffffff         9                    1\n",
       "1210  8759310ecffffff         9                    1\n",
       "1211  8759310ecffffff        10                    1\n",
       "1212  8759310eeffffff        10                    1\n",
       "\n",
       "[1213 rows x 3 columns]"
      ]
     },
     "execution_count": 23,
     "metadata": {},
     "output_type": "execute_result"
    }
   ],
   "source": [
    "f = e.groupby(['h3index','TimeSlot']).agg({'NumUniqueBusesDay': 'sum'}).reset_index()\n",
    "#We will rename the column NumUniqueBusesDay to NumUniqueBusesMonth because \n",
    "# we have summed the number of unique buses for the entire month\n",
    "f.rename(columns = {'NumUniqueBusesDay':'NumUniqueBusesMonth'}, inplace = True)\n",
    "f"
   ]
  },
  {
   "cell_type": "markdown",
   "id": "61e0ce50",
   "metadata": {},
   "source": [
    "We expect each HAT to have at least 10 unique license plate per day. Therefore across 31 days, we expect 310 buses at least. The following statement filters out the buses which passes the condition"
   ]
  },
  {
   "cell_type": "code",
   "execution_count": 24,
   "id": "eb7e4d8e",
   "metadata": {
    "scrolled": true
   },
   "outputs": [
    {
     "data": {
      "text/plain": [
       "31"
      ]
     },
     "execution_count": 24,
     "metadata": {},
     "output_type": "execute_result"
    }
   ],
   "source": [
    "date = data1['Date'].unique()\n",
    "min_bus_per_HAT = 10\n",
    "NumDays = len(date)\n",
    "NumDays\n"
   ]
  },
  {
   "cell_type": "code",
   "execution_count": 25,
   "id": "e1ed1d83",
   "metadata": {},
   "outputs": [
    {
     "data": {
      "text/html": [
       "<div>\n",
       "<style scoped>\n",
       "    .dataframe tbody tr th:only-of-type {\n",
       "        vertical-align: middle;\n",
       "    }\n",
       "\n",
       "    .dataframe tbody tr th {\n",
       "        vertical-align: top;\n",
       "    }\n",
       "\n",
       "    .dataframe thead th {\n",
       "        text-align: right;\n",
       "    }\n",
       "</style>\n",
       "<table border=\"1\" class=\"dataframe\">\n",
       "  <thead>\n",
       "    <tr style=\"text-align: right;\">\n",
       "      <th></th>\n",
       "      <th>h3index</th>\n",
       "      <th>TimeSlot</th>\n",
       "      <th>NumUniqueBusesMonth</th>\n",
       "    </tr>\n",
       "  </thead>\n",
       "  <tbody>\n",
       "    <tr>\n",
       "      <th>160</th>\n",
       "      <td>8742d98a0ffffff</td>\n",
       "      <td>1</td>\n",
       "      <td>684</td>\n",
       "    </tr>\n",
       "    <tr>\n",
       "      <th>161</th>\n",
       "      <td>8742d98a0ffffff</td>\n",
       "      <td>2</td>\n",
       "      <td>759</td>\n",
       "    </tr>\n",
       "    <tr>\n",
       "      <th>162</th>\n",
       "      <td>8742d98a0ffffff</td>\n",
       "      <td>3</td>\n",
       "      <td>682</td>\n",
       "    </tr>\n",
       "    <tr>\n",
       "      <th>163</th>\n",
       "      <td>8742d98a0ffffff</td>\n",
       "      <td>4</td>\n",
       "      <td>514</td>\n",
       "    </tr>\n",
       "    <tr>\n",
       "      <th>164</th>\n",
       "      <td>8742d98a0ffffff</td>\n",
       "      <td>5</td>\n",
       "      <td>468</td>\n",
       "    </tr>\n",
       "    <tr>\n",
       "      <th>...</th>\n",
       "      <td>...</td>\n",
       "      <td>...</td>\n",
       "      <td>...</td>\n",
       "    </tr>\n",
       "    <tr>\n",
       "      <th>1091</th>\n",
       "      <td>8742d9d6effffff</td>\n",
       "      <td>10</td>\n",
       "      <td>576</td>\n",
       "    </tr>\n",
       "    <tr>\n",
       "      <th>1092</th>\n",
       "      <td>8742d9d6effffff</td>\n",
       "      <td>11</td>\n",
       "      <td>548</td>\n",
       "    </tr>\n",
       "    <tr>\n",
       "      <th>1093</th>\n",
       "      <td>8742d9d6effffff</td>\n",
       "      <td>12</td>\n",
       "      <td>434</td>\n",
       "    </tr>\n",
       "    <tr>\n",
       "      <th>1103</th>\n",
       "      <td>8742d9d71ffffff</td>\n",
       "      <td>1</td>\n",
       "      <td>316</td>\n",
       "    </tr>\n",
       "    <tr>\n",
       "      <th>1104</th>\n",
       "      <td>8742d9d71ffffff</td>\n",
       "      <td>2</td>\n",
       "      <td>330</td>\n",
       "    </tr>\n",
       "  </tbody>\n",
       "</table>\n",
       "<p>379 rows × 3 columns</p>\n",
       "</div>"
      ],
      "text/plain": [
       "              h3index  TimeSlot  NumUniqueBusesMonth\n",
       "160   8742d98a0ffffff         1                  684\n",
       "161   8742d98a0ffffff         2                  759\n",
       "162   8742d98a0ffffff         3                  682\n",
       "163   8742d98a0ffffff         4                  514\n",
       "164   8742d98a0ffffff         5                  468\n",
       "...               ...       ...                  ...\n",
       "1091  8742d9d6effffff        10                  576\n",
       "1092  8742d9d6effffff        11                  548\n",
       "1093  8742d9d6effffff        12                  434\n",
       "1103  8742d9d71ffffff         1                  316\n",
       "1104  8742d9d71ffffff         2                  330\n",
       "\n",
       "[379 rows x 3 columns]"
      ]
     },
     "execution_count": 25,
     "metadata": {},
     "output_type": "execute_result"
    }
   ],
   "source": [
    "limit = NumDays* min_bus_per_HAT\n",
    "g = f[f['NumUniqueBusesMonth']>=limit]\n",
    "g"
   ]
  },
  {
   "cell_type": "markdown",
   "id": "d28cf061",
   "metadata": {},
   "source": [
    "For a selected H3index, every timeslot must satisfy the condition of having 310 unique buses across all 31 days. Therefore, we count the number of timeslots in each h3index where this condition is satisfied. We select only those H3 indices for which this condition (of having sufficient number of operating buses in a HAT) is satisfied for all the timeslots. "
   ]
  },
  {
   "cell_type": "code",
   "execution_count": 26,
   "id": "10fa81b3",
   "metadata": {},
   "outputs": [
    {
     "data": {
      "text/html": [
       "<div>\n",
       "<style scoped>\n",
       "    .dataframe tbody tr th:only-of-type {\n",
       "        vertical-align: middle;\n",
       "    }\n",
       "\n",
       "    .dataframe tbody tr th {\n",
       "        vertical-align: top;\n",
       "    }\n",
       "\n",
       "    .dataframe thead th {\n",
       "        text-align: right;\n",
       "    }\n",
       "</style>\n",
       "<table border=\"1\" class=\"dataframe\">\n",
       "  <thead>\n",
       "    <tr style=\"text-align: right;\">\n",
       "      <th></th>\n",
       "      <th>h3index</th>\n",
       "      <th>NumTimeSlots</th>\n",
       "    </tr>\n",
       "  </thead>\n",
       "  <tbody>\n",
       "    <tr>\n",
       "      <th>0</th>\n",
       "      <td>8742d98a0ffffff</td>\n",
       "      <td>12</td>\n",
       "    </tr>\n",
       "    <tr>\n",
       "      <th>1</th>\n",
       "      <td>8742d98a1ffffff</td>\n",
       "      <td>1</td>\n",
       "    </tr>\n",
       "    <tr>\n",
       "      <th>2</th>\n",
       "      <td>8742d98a2ffffff</td>\n",
       "      <td>12</td>\n",
       "    </tr>\n",
       "    <tr>\n",
       "      <th>3</th>\n",
       "      <td>8742d98a3ffffff</td>\n",
       "      <td>1</td>\n",
       "    </tr>\n",
       "    <tr>\n",
       "      <th>4</th>\n",
       "      <td>8742d98a6ffffff</td>\n",
       "      <td>12</td>\n",
       "    </tr>\n",
       "    <tr>\n",
       "      <th>5</th>\n",
       "      <td>8742d98b0ffffff</td>\n",
       "      <td>12</td>\n",
       "    </tr>\n",
       "    <tr>\n",
       "      <th>6</th>\n",
       "      <td>8742d98b1ffffff</td>\n",
       "      <td>12</td>\n",
       "    </tr>\n",
       "    <tr>\n",
       "      <th>7</th>\n",
       "      <td>8742d98b2ffffff</td>\n",
       "      <td>12</td>\n",
       "    </tr>\n",
       "    <tr>\n",
       "      <th>8</th>\n",
       "      <td>8742d98b4ffffff</td>\n",
       "      <td>12</td>\n",
       "    </tr>\n",
       "    <tr>\n",
       "      <th>9</th>\n",
       "      <td>8742d98b5ffffff</td>\n",
       "      <td>12</td>\n",
       "    </tr>\n",
       "    <tr>\n",
       "      <th>10</th>\n",
       "      <td>8742d98b6ffffff</td>\n",
       "      <td>12</td>\n",
       "    </tr>\n",
       "    <tr>\n",
       "      <th>11</th>\n",
       "      <td>8742d998affffff</td>\n",
       "      <td>12</td>\n",
       "    </tr>\n",
       "    <tr>\n",
       "      <th>12</th>\n",
       "      <td>8742d9991ffffff</td>\n",
       "      <td>12</td>\n",
       "    </tr>\n",
       "    <tr>\n",
       "      <th>13</th>\n",
       "      <td>8742d9993ffffff</td>\n",
       "      <td>12</td>\n",
       "    </tr>\n",
       "    <tr>\n",
       "      <th>14</th>\n",
       "      <td>8742d9998ffffff</td>\n",
       "      <td>12</td>\n",
       "    </tr>\n",
       "    <tr>\n",
       "      <th>15</th>\n",
       "      <td>8742d9999ffffff</td>\n",
       "      <td>12</td>\n",
       "    </tr>\n",
       "    <tr>\n",
       "      <th>16</th>\n",
       "      <td>8742d999affffff</td>\n",
       "      <td>12</td>\n",
       "    </tr>\n",
       "    <tr>\n",
       "      <th>17</th>\n",
       "      <td>8742d999bffffff</td>\n",
       "      <td>12</td>\n",
       "    </tr>\n",
       "    <tr>\n",
       "      <th>18</th>\n",
       "      <td>8742d999cffffff</td>\n",
       "      <td>10</td>\n",
       "    </tr>\n",
       "    <tr>\n",
       "      <th>19</th>\n",
       "      <td>8742d9c64ffffff</td>\n",
       "      <td>3</td>\n",
       "    </tr>\n",
       "    <tr>\n",
       "      <th>20</th>\n",
       "      <td>8742d9d44ffffff</td>\n",
       "      <td>12</td>\n",
       "    </tr>\n",
       "    <tr>\n",
       "      <th>21</th>\n",
       "      <td>8742d9d45ffffff</td>\n",
       "      <td>12</td>\n",
       "    </tr>\n",
       "    <tr>\n",
       "      <th>22</th>\n",
       "      <td>8742d9d48ffffff</td>\n",
       "      <td>12</td>\n",
       "    </tr>\n",
       "    <tr>\n",
       "      <th>23</th>\n",
       "      <td>8742d9d49ffffff</td>\n",
       "      <td>12</td>\n",
       "    </tr>\n",
       "    <tr>\n",
       "      <th>24</th>\n",
       "      <td>8742d9d4bffffff</td>\n",
       "      <td>2</td>\n",
       "    </tr>\n",
       "    <tr>\n",
       "      <th>25</th>\n",
       "      <td>8742d9d4cffffff</td>\n",
       "      <td>12</td>\n",
       "    </tr>\n",
       "    <tr>\n",
       "      <th>26</th>\n",
       "      <td>8742d9d4dffffff</td>\n",
       "      <td>12</td>\n",
       "    </tr>\n",
       "    <tr>\n",
       "      <th>27</th>\n",
       "      <td>8742d9d63ffffff</td>\n",
       "      <td>12</td>\n",
       "    </tr>\n",
       "    <tr>\n",
       "      <th>28</th>\n",
       "      <td>8742d9d68ffffff</td>\n",
       "      <td>12</td>\n",
       "    </tr>\n",
       "    <tr>\n",
       "      <th>29</th>\n",
       "      <td>8742d9d69ffffff</td>\n",
       "      <td>12</td>\n",
       "    </tr>\n",
       "    <tr>\n",
       "      <th>30</th>\n",
       "      <td>8742d9d6affffff</td>\n",
       "      <td>12</td>\n",
       "    </tr>\n",
       "    <tr>\n",
       "      <th>31</th>\n",
       "      <td>8742d9d6bffffff</td>\n",
       "      <td>12</td>\n",
       "    </tr>\n",
       "    <tr>\n",
       "      <th>32</th>\n",
       "      <td>8742d9d6cffffff</td>\n",
       "      <td>12</td>\n",
       "    </tr>\n",
       "    <tr>\n",
       "      <th>33</th>\n",
       "      <td>8742d9d6dffffff</td>\n",
       "      <td>12</td>\n",
       "    </tr>\n",
       "    <tr>\n",
       "      <th>34</th>\n",
       "      <td>8742d9d6effffff</td>\n",
       "      <td>12</td>\n",
       "    </tr>\n",
       "    <tr>\n",
       "      <th>35</th>\n",
       "      <td>8742d9d71ffffff</td>\n",
       "      <td>2</td>\n",
       "    </tr>\n",
       "  </tbody>\n",
       "</table>\n",
       "</div>"
      ],
      "text/plain": [
       "            h3index  NumTimeSlots\n",
       "0   8742d98a0ffffff            12\n",
       "1   8742d98a1ffffff             1\n",
       "2   8742d98a2ffffff            12\n",
       "3   8742d98a3ffffff             1\n",
       "4   8742d98a6ffffff            12\n",
       "5   8742d98b0ffffff            12\n",
       "6   8742d98b1ffffff            12\n",
       "7   8742d98b2ffffff            12\n",
       "8   8742d98b4ffffff            12\n",
       "9   8742d98b5ffffff            12\n",
       "10  8742d98b6ffffff            12\n",
       "11  8742d998affffff            12\n",
       "12  8742d9991ffffff            12\n",
       "13  8742d9993ffffff            12\n",
       "14  8742d9998ffffff            12\n",
       "15  8742d9999ffffff            12\n",
       "16  8742d999affffff            12\n",
       "17  8742d999bffffff            12\n",
       "18  8742d999cffffff            10\n",
       "19  8742d9c64ffffff             3\n",
       "20  8742d9d44ffffff            12\n",
       "21  8742d9d45ffffff            12\n",
       "22  8742d9d48ffffff            12\n",
       "23  8742d9d49ffffff            12\n",
       "24  8742d9d4bffffff             2\n",
       "25  8742d9d4cffffff            12\n",
       "26  8742d9d4dffffff            12\n",
       "27  8742d9d63ffffff            12\n",
       "28  8742d9d68ffffff            12\n",
       "29  8742d9d69ffffff            12\n",
       "30  8742d9d6affffff            12\n",
       "31  8742d9d6bffffff            12\n",
       "32  8742d9d6cffffff            12\n",
       "33  8742d9d6dffffff            12\n",
       "34  8742d9d6effffff            12\n",
       "35  8742d9d71ffffff             2"
      ]
     },
     "execution_count": 26,
     "metadata": {},
     "output_type": "execute_result"
    }
   ],
   "source": [
    "h = g.groupby('h3index').agg({'TimeSlot':'count'}).reset_index()\n",
    "# NumTimeSlots shows the number of Time Slots (for a given H3 index) that has sufficient number of buses \n",
    "h.rename(columns = {'TimeSlot':'NumTimeSlots'}, inplace = True)\n",
    "h"
   ]
  },
  {
   "cell_type": "code",
   "execution_count": 27,
   "id": "1fbea1c4",
   "metadata": {},
   "outputs": [
    {
     "data": {
      "text/html": [
       "<div>\n",
       "<style scoped>\n",
       "    .dataframe tbody tr th:only-of-type {\n",
       "        vertical-align: middle;\n",
       "    }\n",
       "\n",
       "    .dataframe tbody tr th {\n",
       "        vertical-align: top;\n",
       "    }\n",
       "\n",
       "    .dataframe thead th {\n",
       "        text-align: right;\n",
       "    }\n",
       "</style>\n",
       "<table border=\"1\" class=\"dataframe\">\n",
       "  <thead>\n",
       "    <tr style=\"text-align: right;\">\n",
       "      <th></th>\n",
       "      <th>h3index</th>\n",
       "      <th>NumTimeSlots</th>\n",
       "    </tr>\n",
       "  </thead>\n",
       "  <tbody>\n",
       "    <tr>\n",
       "      <th>0</th>\n",
       "      <td>8742d98a0ffffff</td>\n",
       "      <td>12</td>\n",
       "    </tr>\n",
       "    <tr>\n",
       "      <th>2</th>\n",
       "      <td>8742d98a2ffffff</td>\n",
       "      <td>12</td>\n",
       "    </tr>\n",
       "    <tr>\n",
       "      <th>4</th>\n",
       "      <td>8742d98a6ffffff</td>\n",
       "      <td>12</td>\n",
       "    </tr>\n",
       "    <tr>\n",
       "      <th>5</th>\n",
       "      <td>8742d98b0ffffff</td>\n",
       "      <td>12</td>\n",
       "    </tr>\n",
       "    <tr>\n",
       "      <th>6</th>\n",
       "      <td>8742d98b1ffffff</td>\n",
       "      <td>12</td>\n",
       "    </tr>\n",
       "    <tr>\n",
       "      <th>7</th>\n",
       "      <td>8742d98b2ffffff</td>\n",
       "      <td>12</td>\n",
       "    </tr>\n",
       "    <tr>\n",
       "      <th>8</th>\n",
       "      <td>8742d98b4ffffff</td>\n",
       "      <td>12</td>\n",
       "    </tr>\n",
       "    <tr>\n",
       "      <th>9</th>\n",
       "      <td>8742d98b5ffffff</td>\n",
       "      <td>12</td>\n",
       "    </tr>\n",
       "    <tr>\n",
       "      <th>10</th>\n",
       "      <td>8742d98b6ffffff</td>\n",
       "      <td>12</td>\n",
       "    </tr>\n",
       "    <tr>\n",
       "      <th>11</th>\n",
       "      <td>8742d998affffff</td>\n",
       "      <td>12</td>\n",
       "    </tr>\n",
       "    <tr>\n",
       "      <th>12</th>\n",
       "      <td>8742d9991ffffff</td>\n",
       "      <td>12</td>\n",
       "    </tr>\n",
       "    <tr>\n",
       "      <th>13</th>\n",
       "      <td>8742d9993ffffff</td>\n",
       "      <td>12</td>\n",
       "    </tr>\n",
       "    <tr>\n",
       "      <th>14</th>\n",
       "      <td>8742d9998ffffff</td>\n",
       "      <td>12</td>\n",
       "    </tr>\n",
       "    <tr>\n",
       "      <th>15</th>\n",
       "      <td>8742d9999ffffff</td>\n",
       "      <td>12</td>\n",
       "    </tr>\n",
       "    <tr>\n",
       "      <th>16</th>\n",
       "      <td>8742d999affffff</td>\n",
       "      <td>12</td>\n",
       "    </tr>\n",
       "    <tr>\n",
       "      <th>17</th>\n",
       "      <td>8742d999bffffff</td>\n",
       "      <td>12</td>\n",
       "    </tr>\n",
       "    <tr>\n",
       "      <th>20</th>\n",
       "      <td>8742d9d44ffffff</td>\n",
       "      <td>12</td>\n",
       "    </tr>\n",
       "    <tr>\n",
       "      <th>21</th>\n",
       "      <td>8742d9d45ffffff</td>\n",
       "      <td>12</td>\n",
       "    </tr>\n",
       "    <tr>\n",
       "      <th>22</th>\n",
       "      <td>8742d9d48ffffff</td>\n",
       "      <td>12</td>\n",
       "    </tr>\n",
       "    <tr>\n",
       "      <th>23</th>\n",
       "      <td>8742d9d49ffffff</td>\n",
       "      <td>12</td>\n",
       "    </tr>\n",
       "    <tr>\n",
       "      <th>25</th>\n",
       "      <td>8742d9d4cffffff</td>\n",
       "      <td>12</td>\n",
       "    </tr>\n",
       "    <tr>\n",
       "      <th>26</th>\n",
       "      <td>8742d9d4dffffff</td>\n",
       "      <td>12</td>\n",
       "    </tr>\n",
       "    <tr>\n",
       "      <th>27</th>\n",
       "      <td>8742d9d63ffffff</td>\n",
       "      <td>12</td>\n",
       "    </tr>\n",
       "    <tr>\n",
       "      <th>28</th>\n",
       "      <td>8742d9d68ffffff</td>\n",
       "      <td>12</td>\n",
       "    </tr>\n",
       "    <tr>\n",
       "      <th>29</th>\n",
       "      <td>8742d9d69ffffff</td>\n",
       "      <td>12</td>\n",
       "    </tr>\n",
       "    <tr>\n",
       "      <th>30</th>\n",
       "      <td>8742d9d6affffff</td>\n",
       "      <td>12</td>\n",
       "    </tr>\n",
       "    <tr>\n",
       "      <th>31</th>\n",
       "      <td>8742d9d6bffffff</td>\n",
       "      <td>12</td>\n",
       "    </tr>\n",
       "    <tr>\n",
       "      <th>32</th>\n",
       "      <td>8742d9d6cffffff</td>\n",
       "      <td>12</td>\n",
       "    </tr>\n",
       "    <tr>\n",
       "      <th>33</th>\n",
       "      <td>8742d9d6dffffff</td>\n",
       "      <td>12</td>\n",
       "    </tr>\n",
       "    <tr>\n",
       "      <th>34</th>\n",
       "      <td>8742d9d6effffff</td>\n",
       "      <td>12</td>\n",
       "    </tr>\n",
       "  </tbody>\n",
       "</table>\n",
       "</div>"
      ],
      "text/plain": [
       "            h3index  NumTimeSlots\n",
       "0   8742d98a0ffffff            12\n",
       "2   8742d98a2ffffff            12\n",
       "4   8742d98a6ffffff            12\n",
       "5   8742d98b0ffffff            12\n",
       "6   8742d98b1ffffff            12\n",
       "7   8742d98b2ffffff            12\n",
       "8   8742d98b4ffffff            12\n",
       "9   8742d98b5ffffff            12\n",
       "10  8742d98b6ffffff            12\n",
       "11  8742d998affffff            12\n",
       "12  8742d9991ffffff            12\n",
       "13  8742d9993ffffff            12\n",
       "14  8742d9998ffffff            12\n",
       "15  8742d9999ffffff            12\n",
       "16  8742d999affffff            12\n",
       "17  8742d999bffffff            12\n",
       "20  8742d9d44ffffff            12\n",
       "21  8742d9d45ffffff            12\n",
       "22  8742d9d48ffffff            12\n",
       "23  8742d9d49ffffff            12\n",
       "25  8742d9d4cffffff            12\n",
       "26  8742d9d4dffffff            12\n",
       "27  8742d9d63ffffff            12\n",
       "28  8742d9d68ffffff            12\n",
       "29  8742d9d69ffffff            12\n",
       "30  8742d9d6affffff            12\n",
       "31  8742d9d6bffffff            12\n",
       "32  8742d9d6cffffff            12\n",
       "33  8742d9d6dffffff            12\n",
       "34  8742d9d6effffff            12"
      ]
     },
     "execution_count": 27,
     "metadata": {},
     "output_type": "execute_result"
    }
   ],
   "source": [
    "i = h[h['NumTimeSlots']==TotalTimeSlots]\n",
    "i\n"
   ]
  },
  {
   "cell_type": "markdown",
   "id": "467626cc",
   "metadata": {},
   "source": [
    "The selected h3index are displayed below"
   ]
  },
  {
   "cell_type": "code",
   "execution_count": 28,
   "id": "ccf1cb37",
   "metadata": {
    "scrolled": true
   },
   "outputs": [
    {
     "data": {
      "text/plain": [
       "0     8742d98a0ffffff\n",
       "2     8742d98a2ffffff\n",
       "4     8742d98a6ffffff\n",
       "5     8742d98b0ffffff\n",
       "6     8742d98b1ffffff\n",
       "7     8742d98b2ffffff\n",
       "8     8742d98b4ffffff\n",
       "9     8742d98b5ffffff\n",
       "10    8742d98b6ffffff\n",
       "11    8742d998affffff\n",
       "12    8742d9991ffffff\n",
       "13    8742d9993ffffff\n",
       "14    8742d9998ffffff\n",
       "15    8742d9999ffffff\n",
       "16    8742d999affffff\n",
       "17    8742d999bffffff\n",
       "20    8742d9d44ffffff\n",
       "21    8742d9d45ffffff\n",
       "22    8742d9d48ffffff\n",
       "23    8742d9d49ffffff\n",
       "25    8742d9d4cffffff\n",
       "26    8742d9d4dffffff\n",
       "27    8742d9d63ffffff\n",
       "28    8742d9d68ffffff\n",
       "29    8742d9d69ffffff\n",
       "30    8742d9d6affffff\n",
       "31    8742d9d6bffffff\n",
       "32    8742d9d6cffffff\n",
       "33    8742d9d6dffffff\n",
       "34    8742d9d6effffff\n",
       "Name: h3index, dtype: object"
      ]
     },
     "execution_count": 28,
     "metadata": {},
     "output_type": "execute_result"
    }
   ],
   "source": [
    "selected = i['h3index']\n",
    "selected\n",
    "# print(len(selected))"
   ]
  },
  {
   "cell_type": "code",
   "execution_count": 29,
   "id": "20267309",
   "metadata": {},
   "outputs": [
    {
     "data": {
      "text/plain": [
       "30"
      ]
     },
     "execution_count": 29,
     "metadata": {},
     "output_type": "execute_result"
    }
   ],
   "source": [
    "df = data1['h3index'].isin(selected)\n",
    "data1 = data1[df]\n",
    "\n",
    "NumUniqueHex = data1.h3index.nunique()\n",
    "NumUniqueHex"
   ]
  },
  {
   "cell_type": "code",
   "execution_count": 30,
   "id": "2c41120b",
   "metadata": {},
   "outputs": [
    {
     "data": {
      "text/html": [
       "<div>\n",
       "<style scoped>\n",
       "    .dataframe tbody tr th:only-of-type {\n",
       "        vertical-align: middle;\n",
       "    }\n",
       "\n",
       "    .dataframe tbody tr th {\n",
       "        vertical-align: top;\n",
       "    }\n",
       "\n",
       "    .dataframe thead th {\n",
       "        text-align: right;\n",
       "    }\n",
       "</style>\n",
       "<table border=\"1\" class=\"dataframe\">\n",
       "  <thead>\n",
       "    <tr style=\"text-align: right;\">\n",
       "      <th></th>\n",
       "      <th>speed</th>\n",
       "      <th>license_plate</th>\n",
       "      <th>h3index</th>\n",
       "      <th>Date</th>\n",
       "      <th>TimeSlot</th>\n",
       "      <th>HAT</th>\n",
       "    </tr>\n",
       "  </thead>\n",
       "  <tbody>\n",
       "    <tr>\n",
       "      <th>3</th>\n",
       "      <td>26.0</td>\n",
       "      <td>GJ05BX2081</td>\n",
       "      <td>8742d98b4ffffff</td>\n",
       "      <td>2021-11-15</td>\n",
       "      <td>1</td>\n",
       "      <td>1-8742d98b4ffffff</td>\n",
       "    </tr>\n",
       "    <tr>\n",
       "      <th>4</th>\n",
       "      <td>35.0</td>\n",
       "      <td>GJ05BX3399</td>\n",
       "      <td>8742d98b0ffffff</td>\n",
       "      <td>2021-11-15</td>\n",
       "      <td>1</td>\n",
       "      <td>1-8742d98b0ffffff</td>\n",
       "    </tr>\n",
       "    <tr>\n",
       "      <th>5</th>\n",
       "      <td>26.0</td>\n",
       "      <td>GJ05BZ3736</td>\n",
       "      <td>8742d98b5ffffff</td>\n",
       "      <td>2021-11-15</td>\n",
       "      <td>1</td>\n",
       "      <td>1-8742d98b5ffffff</td>\n",
       "    </tr>\n",
       "    <tr>\n",
       "      <th>6</th>\n",
       "      <td>20.0</td>\n",
       "      <td>GJ05BX3119</td>\n",
       "      <td>8742d9d48ffffff</td>\n",
       "      <td>2021-11-15</td>\n",
       "      <td>1</td>\n",
       "      <td>1-8742d9d48ffffff</td>\n",
       "    </tr>\n",
       "    <tr>\n",
       "      <th>8</th>\n",
       "      <td>0.0</td>\n",
       "      <td>GJ05BX3214</td>\n",
       "      <td>8742d999affffff</td>\n",
       "      <td>2021-11-15</td>\n",
       "      <td>1</td>\n",
       "      <td>1-8742d999affffff</td>\n",
       "    </tr>\n",
       "  </tbody>\n",
       "</table>\n",
       "</div>"
      ],
      "text/plain": [
       "   speed license_plate          h3index        Date  TimeSlot  \\\n",
       "3   26.0    GJ05BX2081  8742d98b4ffffff  2021-11-15         1   \n",
       "4   35.0    GJ05BX3399  8742d98b0ffffff  2021-11-15         1   \n",
       "5   26.0    GJ05BZ3736  8742d98b5ffffff  2021-11-15         1   \n",
       "6   20.0    GJ05BX3119  8742d9d48ffffff  2021-11-15         1   \n",
       "8    0.0    GJ05BX3214  8742d999affffff  2021-11-15         1   \n",
       "\n",
       "                 HAT  \n",
       "3  1-8742d98b4ffffff  \n",
       "4  1-8742d98b0ffffff  \n",
       "5  1-8742d98b5ffffff  \n",
       "6  1-8742d9d48ffffff  \n",
       "8  1-8742d999affffff  "
      ]
     },
     "execution_count": 30,
     "metadata": {},
     "output_type": "execute_result"
    }
   ],
   "source": [
    "data1.head()"
   ]
  },
  {
   "cell_type": "markdown",
   "id": "8fc20771",
   "metadata": {},
   "source": [
    "### Save the preprocessed dataset"
   ]
  },
  {
   "cell_type": "code",
   "execution_count": 31,
   "id": "7549724d",
   "metadata": {},
   "outputs": [],
   "source": [
    "data1.to_csv('data-NovDec-processed1.csv',index=False)"
   ]
  },
  {
   "cell_type": "markdown",
   "id": "40ea07ad",
   "metadata": {},
   "source": [
    "## If the preprocessed dataset is directly loaded, then run from the following cells"
   ]
  },
  {
   "cell_type": "markdown",
   "id": "f30516e7",
   "metadata": {},
   "source": [
    "#### Import the necessary libraries and load the preprocessed csv file"
   ]
  },
  {
   "cell_type": "code",
   "execution_count": 32,
   "id": "2acc15c3",
   "metadata": {},
   "outputs": [
    {
     "data": {
      "text/html": [
       "<div>\n",
       "<style scoped>\n",
       "    .dataframe tbody tr th:only-of-type {\n",
       "        vertical-align: middle;\n",
       "    }\n",
       "\n",
       "    .dataframe tbody tr th {\n",
       "        vertical-align: top;\n",
       "    }\n",
       "\n",
       "    .dataframe thead th {\n",
       "        text-align: right;\n",
       "    }\n",
       "</style>\n",
       "<table border=\"1\" class=\"dataframe\">\n",
       "  <thead>\n",
       "    <tr style=\"text-align: right;\">\n",
       "      <th></th>\n",
       "      <th>speed</th>\n",
       "      <th>license_plate</th>\n",
       "      <th>h3index</th>\n",
       "      <th>Date</th>\n",
       "      <th>TimeSlot</th>\n",
       "      <th>HAT</th>\n",
       "    </tr>\n",
       "  </thead>\n",
       "  <tbody>\n",
       "    <tr>\n",
       "      <th>0</th>\n",
       "      <td>26.0</td>\n",
       "      <td>GJ05BX2081</td>\n",
       "      <td>8742d98b4ffffff</td>\n",
       "      <td>2021-11-15</td>\n",
       "      <td>1</td>\n",
       "      <td>1-8742d98b4ffffff</td>\n",
       "    </tr>\n",
       "    <tr>\n",
       "      <th>1</th>\n",
       "      <td>35.0</td>\n",
       "      <td>GJ05BX3399</td>\n",
       "      <td>8742d98b0ffffff</td>\n",
       "      <td>2021-11-15</td>\n",
       "      <td>1</td>\n",
       "      <td>1-8742d98b0ffffff</td>\n",
       "    </tr>\n",
       "    <tr>\n",
       "      <th>2</th>\n",
       "      <td>26.0</td>\n",
       "      <td>GJ05BZ3736</td>\n",
       "      <td>8742d98b5ffffff</td>\n",
       "      <td>2021-11-15</td>\n",
       "      <td>1</td>\n",
       "      <td>1-8742d98b5ffffff</td>\n",
       "    </tr>\n",
       "    <tr>\n",
       "      <th>3</th>\n",
       "      <td>20.0</td>\n",
       "      <td>GJ05BX3119</td>\n",
       "      <td>8742d9d48ffffff</td>\n",
       "      <td>2021-11-15</td>\n",
       "      <td>1</td>\n",
       "      <td>1-8742d9d48ffffff</td>\n",
       "    </tr>\n",
       "    <tr>\n",
       "      <th>4</th>\n",
       "      <td>0.0</td>\n",
       "      <td>GJ05BX3214</td>\n",
       "      <td>8742d999affffff</td>\n",
       "      <td>2021-11-15</td>\n",
       "      <td>1</td>\n",
       "      <td>1-8742d999affffff</td>\n",
       "    </tr>\n",
       "    <tr>\n",
       "      <th>...</th>\n",
       "      <td>...</td>\n",
       "      <td>...</td>\n",
       "      <td>...</td>\n",
       "      <td>...</td>\n",
       "      <td>...</td>\n",
       "      <td>...</td>\n",
       "    </tr>\n",
       "    <tr>\n",
       "      <th>10919288</th>\n",
       "      <td>28.0</td>\n",
       "      <td>GJ05CU2012</td>\n",
       "      <td>8742d9991ffffff</td>\n",
       "      <td>2021-12-15</td>\n",
       "      <td>12</td>\n",
       "      <td>12-8742d9991ffffff</td>\n",
       "    </tr>\n",
       "    <tr>\n",
       "      <th>10919289</th>\n",
       "      <td>0.0</td>\n",
       "      <td>GJ05CU1366</td>\n",
       "      <td>8742d98b2ffffff</td>\n",
       "      <td>2021-12-15</td>\n",
       "      <td>12</td>\n",
       "      <td>12-8742d98b2ffffff</td>\n",
       "    </tr>\n",
       "    <tr>\n",
       "      <th>10919290</th>\n",
       "      <td>2.0</td>\n",
       "      <td>GJ05CU2414</td>\n",
       "      <td>8742d98b4ffffff</td>\n",
       "      <td>2021-12-15</td>\n",
       "      <td>12</td>\n",
       "      <td>12-8742d98b4ffffff</td>\n",
       "    </tr>\n",
       "    <tr>\n",
       "      <th>10919291</th>\n",
       "      <td>22.0</td>\n",
       "      <td>GJ05CU2147</td>\n",
       "      <td>8742d98b4ffffff</td>\n",
       "      <td>2021-12-15</td>\n",
       "      <td>12</td>\n",
       "      <td>12-8742d98b4ffffff</td>\n",
       "    </tr>\n",
       "    <tr>\n",
       "      <th>10919292</th>\n",
       "      <td>15.0</td>\n",
       "      <td>GJ05CU2192</td>\n",
       "      <td>8742d9d49ffffff</td>\n",
       "      <td>2021-12-15</td>\n",
       "      <td>12</td>\n",
       "      <td>12-8742d9d49ffffff</td>\n",
       "    </tr>\n",
       "  </tbody>\n",
       "</table>\n",
       "<p>10919293 rows × 6 columns</p>\n",
       "</div>"
      ],
      "text/plain": [
       "          speed license_plate          h3index        Date  TimeSlot  \\\n",
       "0          26.0    GJ05BX2081  8742d98b4ffffff  2021-11-15         1   \n",
       "1          35.0    GJ05BX3399  8742d98b0ffffff  2021-11-15         1   \n",
       "2          26.0    GJ05BZ3736  8742d98b5ffffff  2021-11-15         1   \n",
       "3          20.0    GJ05BX3119  8742d9d48ffffff  2021-11-15         1   \n",
       "4           0.0    GJ05BX3214  8742d999affffff  2021-11-15         1   \n",
       "...         ...           ...              ...         ...       ...   \n",
       "10919288   28.0    GJ05CU2012  8742d9991ffffff  2021-12-15        12   \n",
       "10919289    0.0    GJ05CU1366  8742d98b2ffffff  2021-12-15        12   \n",
       "10919290    2.0    GJ05CU2414  8742d98b4ffffff  2021-12-15        12   \n",
       "10919291   22.0    GJ05CU2147  8742d98b4ffffff  2021-12-15        12   \n",
       "10919292   15.0    GJ05CU2192  8742d9d49ffffff  2021-12-15        12   \n",
       "\n",
       "                         HAT  \n",
       "0          1-8742d98b4ffffff  \n",
       "1          1-8742d98b0ffffff  \n",
       "2          1-8742d98b5ffffff  \n",
       "3          1-8742d9d48ffffff  \n",
       "4          1-8742d999affffff  \n",
       "...                      ...  \n",
       "10919288  12-8742d9991ffffff  \n",
       "10919289  12-8742d98b2ffffff  \n",
       "10919290  12-8742d98b4ffffff  \n",
       "10919291  12-8742d98b4ffffff  \n",
       "10919292  12-8742d9d49ffffff  \n",
       "\n",
       "[10919293 rows x 6 columns]"
      ]
     },
     "execution_count": 32,
     "metadata": {},
     "output_type": "execute_result"
    }
   ],
   "source": [
    "import pandas as pd\n",
    "import numpy as np\n",
    "import h3\n",
    "\n",
    "datanew = pd.read_csv('data-NovDec-processed1.csv')\n",
    "datanew"
   ]
  },
  {
   "cell_type": "markdown",
   "id": "3455af34",
   "metadata": {},
   "source": [
    "#### Defining all possible dates"
   ]
  },
  {
   "cell_type": "code",
   "execution_count": 33,
   "id": "55d81d46",
   "metadata": {
    "scrolled": true
   },
   "outputs": [],
   "source": [
    "date = datanew['Date'].unique()\n",
    "timeslot = datanew['TimeSlot'].unique()"
   ]
  },
  {
   "cell_type": "code",
   "execution_count": 34,
   "id": "3093641f",
   "metadata": {},
   "outputs": [
    {
     "data": {
      "text/plain": [
       "array(['2021-11-15', '2021-11-16', '2021-11-17', '2021-11-18',\n",
       "       '2021-11-19', '2021-11-20', '2021-11-21', '2021-11-22',\n",
       "       '2021-11-23', '2021-11-24', '2021-11-25', '2021-11-26',\n",
       "       '2021-11-27', '2021-11-28', '2021-11-29', '2021-11-30',\n",
       "       '2021-12-01', '2021-12-02', '2021-12-03', '2021-12-04',\n",
       "       '2021-12-05', '2021-12-06', '2021-12-07', '2021-12-08',\n",
       "       '2021-12-09', '2021-12-10', '2021-12-11', '2021-12-12',\n",
       "       '2021-12-13', '2021-12-14', '2021-12-15'], dtype=object)"
      ]
     },
     "execution_count": 34,
     "metadata": {},
     "output_type": "execute_result"
    }
   ],
   "source": [
    "date"
   ]
  },
  {
   "cell_type": "code",
   "execution_count": 35,
   "id": "095f0ce7",
   "metadata": {},
   "outputs": [
    {
     "data": {
      "text/plain": [
       "array([ 1,  2,  3,  4,  5,  6,  7,  8,  9, 10, 11, 12])"
      ]
     },
     "execution_count": 35,
     "metadata": {},
     "output_type": "execute_result"
    }
   ],
   "source": [
    "timeslot"
   ]
  },
  {
   "cell_type": "markdown",
   "id": "e3736ab6",
   "metadata": {},
   "source": [
    "#### All h3index that are selected are defined here"
   ]
  },
  {
   "cell_type": "code",
   "execution_count": 36,
   "id": "66d8ad4b",
   "metadata": {},
   "outputs": [
    {
     "data": {
      "text/plain": [
       "array(['8742d98b4ffffff', '8742d98b0ffffff', '8742d98b5ffffff',\n",
       "       '8742d9d48ffffff', '8742d999affffff', '8742d98a0ffffff',\n",
       "       '8742d9d69ffffff', '8742d9998ffffff', '8742d9d6effffff',\n",
       "       '8742d9d6bffffff', '8742d98b2ffffff', '8742d98a2ffffff',\n",
       "       '8742d999bffffff', '8742d98b6ffffff', '8742d998affffff',\n",
       "       '8742d9d6dffffff', '8742d9d4dffffff', '8742d9d4cffffff',\n",
       "       '8742d9d6affffff', '8742d9991ffffff', '8742d98b1ffffff',\n",
       "       '8742d9993ffffff', '8742d9999ffffff', '8742d9d63ffffff',\n",
       "       '8742d9d49ffffff', '8742d9d68ffffff', '8742d9d6cffffff',\n",
       "       '8742d9d45ffffff', '8742d9d44ffffff', '8742d98a6ffffff'],\n",
       "      dtype=object)"
      ]
     },
     "execution_count": 36,
     "metadata": {},
     "output_type": "execute_result"
    }
   ],
   "source": [
    "hindex = datanew['h3index'].unique()\n",
    "hindex"
   ]
  },
  {
   "cell_type": "markdown",
   "id": "c9e4599b",
   "metadata": {},
   "source": [
    "#### Copy the dataframe for further processing"
   ]
  },
  {
   "cell_type": "code",
   "execution_count": 37,
   "id": "2d6557f5",
   "metadata": {},
   "outputs": [],
   "source": [
    "df1 = datanew"
   ]
  },
  {
   "cell_type": "markdown",
   "id": "57814266",
   "metadata": {},
   "source": [
    "# 3. Queries\n",
    "## Query 1 -  Average Speed of Buses Passing through a HAT\n",
    "### Input - H3index, Time Slot and choice of B\n",
    "### Output - Average Speed of Bus Passing through the specific H3index, Time Slot with an added Laplace noise with parameter B, Computed Epsilon value for the query"
   ]
  },
  {
   "cell_type": "markdown",
   "id": "2feef897",
   "metadata": {},
   "source": [
    "#### avg_query_noise_q1(h3index, timeslot,B)\n",
    "\tSelect records where h3index and time slot matches the user input\n",
    "    \n",
    "    For each day, calculate the average speed of each bus in the chosen HAT\n",
    "    \n",
    "    Calculate the monthly average speed of the HAT as the mean value of the average speed per bus per day  \n",
    "    \n",
    "    Define Ni to be the number of unique buses in the chosen HAT on day 'i'\n",
    "    Define N to be sum of Ni (over all days in a month)\n",
    "    \n",
    "\tCalculate Sensitivity as (Maximum Speed - Minimum Speed)/N = (65/N) (where a neighboring database allows changes in records of a single user for a given day for the chosen HAT)\n",
    "    \n",
    "\tCalculate Epsilon as Sensitivity/B\n",
    "    \n",
    "    Add Laplacian noise (with parameter B) to the overall average speed of the HAT\n",
    "    \n",
    "    Return the noisy monthly average speed and the calculated value of epsilon\n"
   ]
  },
  {
   "cell_type": "markdown",
   "id": "0ac14856",
   "metadata": {},
   "source": [
    "### Choice of Laplacian noise parameter B (with corresponding noise variance $2B^2$)\n",
    "###### Recommended value for B should lie within the interval [0.5, 2]. Laplacian Noise with parameter B implies that more than 95% of the times, the absolute value of the noise sample will be less than 3B"
   ]
  },
  {
   "cell_type": "code",
   "execution_count": 38,
   "id": "a6870f38",
   "metadata": {},
   "outputs": [],
   "source": [
    "# Epsilon User Per day per HAT: Neighbouring data can change average speed of a bus for a given day for a given HAT\n",
    "def avg_query_noise_q1(h,t,b):\n",
    "    \n",
    "    # Select records where h3index and time slot matches the user input\n",
    "    d = datanew[(datanew['h3index'] == h ) & (datanew['TimeSlot'] == t)]\n",
    "    \n",
    "    #For each day, calculate the average speed of each bus in the chosen HAT\n",
    "    df1 = d.groupby(['Date','license_plate']).agg({'speed':'mean'}).reset_index()\n",
    "    \n",
    "    # Calculate the monthly average speed of the HAT as the mean of the average speeds per bus per day for the chosen HAT  \n",
    "    MonthlyAvgSpeed = df1['speed'].mean()\n",
    "    \n",
    "    # Define Ni to be the number of unique buses in the chosen HAT on day 'i'\n",
    "    # Define N to be sum of Ni (over all days in a month)\n",
    "    N = len(df1)\n",
    "    \n",
    "    # Calculate Sensitivity as (Maximum Speed - Minimum Speed)/N = (65/N) (where a neighboring database allows changes in records of a single user for a given day for the chosen HAT)\n",
    "    maxspeed = datanew['speed'].max()\n",
    "    minspeed = datanew['speed'].min()\n",
    "    sensitivity = (maxspeed-minspeed)/N\n",
    "    \n",
    "    # Calculate Epsilon as Sensitivity/B\n",
    "    ep = sensitivity/(b)\n",
    "\n",
    "    # Add Laplacian noise (with parameter B) to the overall average speed of the HAT         \n",
    "    noise = np.random.laplace(0,b,1)\n",
    "    NoisyAvgSpeed= MonthlyAvgSpeed + noise\n",
    "    \n",
    "    # Fancy print outputs\n",
    "    bolded_speed = f\"\\033[1m{NoisyAvgSpeed[0]}\\033[0m\"\n",
    "    bolded_ep = f\"\\033[1m{ep}\\033[0m\"\n",
    "    print('----------------------------------')\n",
    "    print('Noisy Average Speed', bolded_speed)\n",
    "    print('Epsilon',bolded_ep)\n",
    "    print('----------------------------------\\n')\n",
    "    \n",
    "    # Return the noisy monthly average speed and the calculated value of epsilon\n",
    "    return NoisyAvgSpeed[0],ep\n"
   ]
  },
  {
   "cell_type": "markdown",
   "id": "df6b8277",
   "metadata": {},
   "source": [
    "#### Testing the avg_query_noise and thereby executing query 1"
   ]
  },
  {
   "cell_type": "code",
   "execution_count": 39,
   "id": "1d77ab4c",
   "metadata": {},
   "outputs": [
    {
     "name": "stdout",
     "output_type": "stream",
     "text": [
      "----------------------------------\n",
      "Noisy Average Speed \u001b[1m16.320169051814915\u001b[0m\n",
      "Epsilon \u001b[1m0.23049645390070922\u001b[0m\n",
      "----------------------------------\n",
      "\n",
      "----------------------------------\n",
      "Noisy Average Speed \u001b[1m16.49537762062364\u001b[0m\n",
      "Epsilon \u001b[1m0.11524822695035461\u001b[0m\n",
      "----------------------------------\n",
      "\n",
      "----------------------------------\n",
      "Noisy Average Speed \u001b[1m15.72539977082207\u001b[0m\n",
      "Epsilon \u001b[1m0.057624113475177305\u001b[0m\n",
      "----------------------------------\n",
      "\n"
     ]
    }
   ],
   "source": [
    "#Testing New Approach\n",
    "[Speed, Epsilon] = avg_query_noise_q1('8742d9d48ffffff',10,0.5)\n",
    "[Speed, Epsilon] = avg_query_noise_q1('8742d9d48ffffff',10,1)\n",
    "[Speed, Epsilon] = avg_query_noise_q1('8742d9d48ffffff',10,2)"
   ]
  },
  {
   "cell_type": "markdown",
   "id": "b56a5a99",
   "metadata": {},
   "source": [
    "#### Plot the calculated epsilon values for different B values"
   ]
  },
  {
   "cell_type": "code",
   "execution_count": 40,
   "id": "a2fe4e31",
   "metadata": {},
   "outputs": [],
   "source": [
    "import matplotlib.pyplot as plt\n",
    "\n",
    "def draw_B_eps_graph_q1(h,t,b):\n",
    "    e = []\n",
    "     #choice_of_B = [0.2,0.3,0.4,0.5,0.6,0.7,0.8,0.9,1.0,1.1,1.2,1.3,1.4,1.5,1.6,1.7,1.8,1.9,2.0]\n",
    "    choice_of_B = np.arange(0.2,2.1,0.1)\n",
    "\n",
    "    d = datanew[(datanew['h3index'] == h ) & (datanew['TimeSlot'] == t)]\n",
    "    df1 = d.groupby(['Date','license_plate']).agg({'speed':'mean'}).reset_index()\n",
    "    # MonthlyAvgSpeed = df1['speed'].mean()\n",
    "    N = len(df1)\n",
    "    \n",
    "    maxspeed = datanew['speed'].max()\n",
    "    minspeed = datanew['speed'].min() \n",
    "    sensitivity = (maxspeed-minspeed)/N\n",
    "    \n",
    "    # ep = sensitivity/(b)\n",
    "    for k in choice_of_B:\n",
    "        e.append(sensitivity/k)\n",
    "        \n",
    "    plt.plot(choice_of_B,e,color='blue',marker='o')\n",
    "    ep_b = sensitivity/b\n",
    "    plt.plot(b,ep_b,color='red',marker='o')\n",
    "    plt.title('B Vs Epsilon')\n",
    "    plt.xlabel('B')\n",
    "    plt.ylabel('Epsilon (Privacy Loss)')\n",
    "    plt.show()\n",
    "    #return ep_b\n",
    "    return"
   ]
  },
  {
   "cell_type": "code",
   "execution_count": 41,
   "id": "9a41fcf6",
   "metadata": {},
   "outputs": [],
   "source": [
    "def draw_B_var_graph_q1(b):\n",
    "    #choice_of_B = [0.2,0.3,0.4,0.5,0.6,0.7,0.8,0.9,1.0,1.1,1.2,1.3,1.4,1.5,1.6,1.7,1.8,1.9,2.0]\n",
    "    choice_of_B = np.arange(0.2,2.1,0.1)\n",
    "    variance = list(np.multiply(choice_of_B, choice_of_B)) \n",
    "    variance = list(np.array(variance)*2)\n",
    "    var_b = 2*b*b\n",
    "    \n",
    "    #plotting\n",
    "    plt.plot(choice_of_B, variance, color = 'b', marker ='o')\n",
    "    plt.plot(b,var_b,color='red',marker='o')\n",
    "    plt.title('B Vs Noise Variance')\n",
    "    plt.xlabel('B')\n",
    "    plt.ylabel('Noise Variance')\n",
    "    plt.show()\n",
    "    return"
   ]
  },
  {
   "cell_type": "code",
   "execution_count": 42,
   "id": "24584805",
   "metadata": {},
   "outputs": [],
   "source": [
    "def draw_eps_var_graph_q1(h,t,b):\n",
    "    e = []\n",
    "    #choice_of_B = [0.2,0.3,0.4,0.5,0.6,0.7,0.8,0.9,1.0,1.1,1.2,1.3,1.4,1.5,1.6,1.7,1.8,1.9,2.0]\n",
    "    choice_of_B = np.arange(0.2,2.1,0.1)\n",
    "\n",
    "    d = datanew[(datanew['h3index'] == h ) & (datanew['TimeSlot'] == t)]\n",
    "    df1 = d.groupby(['Date','license_plate']).agg({'speed':'mean'}).reset_index()\n",
    "    N = len(df1)\n",
    "    \n",
    "    maxspeed = datanew['speed'].max()\n",
    "    minspeed = datanew['speed'].min() \n",
    "    sensitivity = (maxspeed-minspeed)/N\n",
    "    \n",
    "    # ep = sensitivity/(b)\n",
    "    for k in choice_of_B :\n",
    "        e.append(sensitivity/k)\n",
    "\n",
    "    ep_b = sensitivity/b\n",
    "    variance = list(np.multiply(choice_of_B, choice_of_B)) \n",
    "    variance = list(np.array(variance)*2)\n",
    "    var_b = 2*b*b\n",
    "    \n",
    "    #plotting\n",
    "    plt.plot(e, variance, color = 'b', marker ='o')\n",
    "    plt.plot(ep_b,var_b,color='red',marker='o')\n",
    "    plt.title('Privacy Loss VS Noise Variance')\n",
    "    plt.xlabel('Epsilon (Privacy Loss)')\n",
    "    plt.ylabel('Noise Variance')\n",
    "    plt.show()\n",
    "    return"
   ]
  },
  {
   "cell_type": "markdown",
   "id": "4b7fcc76",
   "metadata": {},
   "source": [
    "## Query 2 -   Average Number of buses per day that exceed a user-specified speed threshold in a given HAT (averaged over the entire month)\n",
    "\n",
    "### Input - HAT value (H3index and Time Slot), Speed Threshold and choice of B\n",
    "### Output - Average Number of buses per day that exceed the speed threshold in the chosen HAT. We add Laplacian noise (with parameter B) to the average number of buses that exceed the speed threshold. We return the noisy value of the average number of buses and the calculated Epsilon for the query"
   ]
  },
  {
   "cell_type": "markdown",
   "id": "939d538c",
   "metadata": {},
   "source": [
    "#### count_average_buses_noise_q2(h3index, Time Slot, Speed Limit, B)\n",
    "    Select records where h3index and time slot matches the user input\n",
    "\t\n",
    "    Calculate the maximum speed for each bus for each day in the selected HAT\n",
    "    \n",
    "    Select records that exceed the speed threshold given by the user\n",
    "    \n",
    "    Count the number of records (over the entire month) as 'N'\n",
    "    \n",
    "    Find the average number of buses per day that exceed the speed threshold by dividing 'N' by number of days in the dataset\n",
    "    \n",
    "\tAdd Laplacian noise (with parameter B) to average number of buses\n",
    "    \n",
    "    Compute Sensitivity as 1/(total number of Days in the dataset) where we assume that a neighboring dataset replaces the records of one of the user for one day in the chosen HAT. This corresponds to Epsilon-DP per user per HAT per Day.\n",
    "    \n",
    "\tCalculate Epsilon = Sensitivity/B\n",
    "\t\n",
    "    Return the noisy value and epsilon\n"
   ]
  },
  {
   "cell_type": "code",
   "execution_count": 43,
   "id": "0f6f452a",
   "metadata": {},
   "outputs": [],
   "source": [
    "def count_average_buses_noise_q2(h,t,s,b):\n",
    "    \n",
    "    # Select records where h3index and time slot matches the user input\n",
    "    df1 = datanew[(datanew['h3index']== h) & (datanew['TimeSlot']==t) ]\n",
    "    \n",
    "    # Calculate the maximum speed for each bus for each day in the selected HAT\n",
    "    e= df1.groupby(['license_plate','Date']).agg({'speed':'max'}).reset_index()\n",
    "    \n",
    "    # Select records that exceed the speed threshold given by the user\n",
    "    f= e[(e['speed']>s)]\n",
    "    \n",
    "    # Count the number of records (over the entire month) as 'N'\n",
    "    N = len(f)\n",
    "    \n",
    "    # Find the average number of buses per day that exceed the speed threshold by dividing 'N' by number of days in the dataset\n",
    "    avg_N = N/len(date) \n",
    "    \n",
    "    # Add Laplacian noise (with parameter B) to average number of buses\n",
    "    noise = np.random.laplace(0,b,1)\n",
    "    avg_N = avg_N + noise\n",
    "\n",
    "    # Compute Sensitivity as 1/(total number of Days in the dataset) where we assume that a neighboring dataset replaces the records of one of the user for one day in the chosen HAT. This corresponds to Epsilon-DP per user per HAT per Day.\n",
    "    sensitivity = 1/len(date)\n",
    "    \n",
    "    # Calculate Epsilon = Sensitivity/B\n",
    "    # Compute Epsilon per user per HAT per Day\n",
    "    eps = sensitivity/b\n",
    "    \n",
    "    avg_N = np.around(avg_N[0])\n",
    "    \n",
    "    if(avg_N<0):\n",
    "        avg_N = +0.0\n",
    "    \n",
    "    bolded_num = f\"\\033[1m{avg_N}\\033[0m\"\n",
    "    bolded_ep = f\"\\033[1m{eps}\\033[0m\"\n",
    "    print('----------------------------------------------------------------')\n",
    "    print('Average Number of Buses Crossing the speed limit', bolded_num)\n",
    "    print('Epsilon',bolded_ep)\n",
    "    print('---------------------------------------------------------------')\n",
    "    return avg_N,eps\n",
    "    "
   ]
  },
  {
   "cell_type": "markdown",
   "id": "ca315079",
   "metadata": {},
   "source": [
    "#### Testing  query 2"
   ]
  },
  {
   "cell_type": "code",
   "execution_count": 44,
   "id": "f0c51438",
   "metadata": {},
   "outputs": [
    {
     "name": "stdout",
     "output_type": "stream",
     "text": [
      "----------------------------------------------------------------\n",
      "Average Number of Buses Crossing the speed limit \u001b[1m0.0\u001b[0m\n",
      "Epsilon \u001b[1m0.016129032258064516\u001b[0m\n",
      "---------------------------------------------------------------\n"
     ]
    },
    {
     "data": {
      "text/plain": [
       "(0.0, 0.016129032258064516)"
      ]
     },
     "execution_count": 44,
     "metadata": {},
     "output_type": "execute_result"
    }
   ],
   "source": [
    "count_average_buses_noise_q2(\"8742d9d48ffffff\",10,65,2)"
   ]
  },
  {
   "cell_type": "code",
   "execution_count": 45,
   "id": "74350b22",
   "metadata": {},
   "outputs": [],
   "source": [
    "def draw_B_eps_graph_q2(b):\n",
    "    e = []\n",
    "    #choice_of_B = [0.2,0.3,0.4,0.5,0.6,0.7,0.8,0.9,1.0,1.1,1.2,1.3,1.4,1.5,1.6,1.7,1.8,1.9,2.0]\n",
    "    choice_of_B = np.arange(0.2,2.1,0.1)\n",
    "    sensitivity = 1/len(date)\n",
    "    for k in choice_of_B:\n",
    "        e.append(sensitivity/k)\n",
    "    plt.plot(choice_of_B,e,color='blue',marker='o')\n",
    "    ep = sensitivity/b\n",
    "    plt.plot(b,ep,color='red',marker='o')\n",
    "    plt.title('B vs Epsilon')\n",
    "    plt.xlabel('B')\n",
    "    plt.ylabel('Epsilon (Privacy Loss)')\n",
    "    plt.show()\n",
    "    return"
   ]
  },
  {
   "cell_type": "code",
   "execution_count": 46,
   "id": "73b79bd0",
   "metadata": {},
   "outputs": [],
   "source": [
    "def draw_eps_var_graph_q2(b):\n",
    "    e = []\n",
    "    #choice_of_B = [0.2,0.3,0.4,0.5,0.6,0.7,0.8,0.9,1.0,1.1,1.2,1.3,1.4,1.5,1.6,1.7,1.8,1.9,2.0]\n",
    "    choice_of_B = np.arange(0.2,2.1,0.1)\n",
    "    sensitivity = 1/len(date)\n",
    "    for k in choice_of_B:\n",
    "        e.append(sensitivity/k)\n",
    "\n",
    "    # Compute epsilon for the user specified value of B\n",
    "    ep_b = sensitivity/b\n",
    "    \n",
    "    variance = list(np.multiply(choice_of_B, choice_of_B)) \n",
    "    variance = list(np.array(variance)*2)\n",
    "    var_b = 2*b*b\n",
    "\n",
    "    plt.plot(e,variance,color='blue',marker='o')\n",
    "\n",
    "    plt.plot(ep_b,var_b,color='red',marker='o')\n",
    "    plt.title('Epsilon vs Noise Variance')\n",
    "    plt.xlabel('Epsilon (Privacy Loss)')\n",
    "    plt.ylabel('Noise Variance')\n",
    "    plt.show()\n",
    "    return"
   ]
  },
  {
   "cell_type": "markdown",
   "id": "ec674947",
   "metadata": {},
   "source": [
    "# 4. Using Widgets"
   ]
  },
  {
   "cell_type": "markdown",
   "id": "3b984ce6",
   "metadata": {},
   "source": [
    "Description - Interactive Functions"
   ]
  },
  {
   "cell_type": "code",
   "execution_count": 47,
   "id": "e97a585d",
   "metadata": {},
   "outputs": [],
   "source": [
    "from ipywidgets import interact\n",
    "import ipywidgets as widgets"
   ]
  },
  {
   "cell_type": "markdown",
   "id": "c7858a55",
   "metadata": {},
   "source": [
    "#### Widgets for Query 1"
   ]
  },
  {
   "cell_type": "code",
   "execution_count": 48,
   "id": "f42c5be9",
   "metadata": {},
   "outputs": [],
   "source": [
    "hat = datanew['HAT'].unique()\n",
    "h3= datanew['h3index'].unique()\n",
    "time= datanew['TimeSlot'].unique()"
   ]
  },
  {
   "cell_type": "code",
   "execution_count": 49,
   "id": "b80643d0",
   "metadata": {},
   "outputs": [
    {
     "data": {
      "application/vnd.jupyter.widget-view+json": {
       "model_id": "120fd311f93540f2a29c480fb460b0f6",
       "version_major": 2,
       "version_minor": 0
      },
      "text/plain": [
       "interactive(children=(Dropdown(description='H3index', options=('8742d98b4ffffff', '8742d98b0ffffff', '8742d98b…"
      ]
     },
     "metadata": {},
     "output_type": "display_data"
    }
   ],
   "source": [
    "import ipywidgets as widgets\n",
    "from ipywidgets import interact, fixed\n",
    "\n",
    "h3index_selected = widgets.Dropdown(options = h3, description='H3index')\n",
    "timeslot_selected = widgets.Dropdown(options=time, description='TimeSlot')\n",
    "b_selected = widgets.FloatSlider(value=1,min=0.5,max=2,description = 'B')\n",
    "\n",
    "def test_q1(**kwargs):\n",
    "    x = kwargs.pop('val')\n",
    "    if all(kwargs.values()):\n",
    "#         print('The Selected Values are as follows')\n",
    "#         bolded_h3 = f\"\\033[1m{kwargs['h3index_selected']}\\033[0m\"\n",
    "#         bolded_ts = f\"\\033[1m{kwargs['timeslot_selected']}\\033[0m\"\n",
    "#         bolded_b = f\"\\033[1m{kwargs['b_selected']}\\033[0m\"\n",
    "#         print('-------------------------------------')\n",
    "#         print('H3index Selected',bolded_h3)\n",
    "#         print('Time Slot Selected',bolded_ts)\n",
    "#         print('B Value Selected',bolded_b)\n",
    "        print('The Red dot (in the plots below) corresponds to the selected value of B')\n",
    "\n",
    "        avg_query_noise_q1(kwargs['h3index_selected'],kwargs['timeslot_selected'],kwargs['b_selected'])\n",
    "        draw_B_eps_graph_q1(kwargs['h3index_selected'],kwargs['timeslot_selected'],kwargs['b_selected'])\n",
    "        draw_B_var_graph_q1(kwargs['b_selected'])\n",
    "        draw_eps_var_graph_q1(kwargs['h3index_selected'],kwargs['timeslot_selected'],kwargs['b_selected'])\n",
    "interact(test_q1, val = fixed(3), h3index_selected=h3index_selected, timeslot_selected=timeslot_selected,b_selected=b_selected);"
   ]
  },
  {
   "cell_type": "markdown",
   "id": "2d61f8f8",
   "metadata": {},
   "source": [
    "#### Widgets for Query 2"
   ]
  },
  {
   "cell_type": "code",
   "execution_count": 60,
   "id": "bf17e4cb",
   "metadata": {
    "scrolled": false
   },
   "outputs": [
    {
     "data": {
      "application/vnd.jupyter.widget-view+json": {
       "model_id": "b01594b0e2bb43529de8115dbf99373d",
       "version_major": 2,
       "version_minor": 0
      },
      "text/plain": [
       "interactive(children=(Dropdown(description='H3index', options=('8742d98b4ffffff', '8742d98b0ffffff', '8742d98b…"
      ]
     },
     "metadata": {},
     "output_type": "display_data"
    }
   ],
   "source": [
    "import ipywidgets as widgets\n",
    "from ipywidgets import interact, fixed\n",
    "\n",
    "h3index_selected = widgets.Dropdown(options = h3, description='H3index')\n",
    "timeslot_selected = widgets.Dropdown(options=time, description='TimeSlot')\n",
    "limit_selected = widgets.BoundedIntText(value=7,min=0,max=65,step=5,description='Speed Limit',disabled=False)\n",
    "b_selected = widgets.FloatSlider(value=7.5,min=0.5,max=2,description = 'B')\n",
    "\n",
    "def test_q2(**kwargs):\n",
    "    x = kwargs.pop('val')\n",
    "    if all(kwargs.values()):\n",
    "#         print('The Selected Values are as follows')\n",
    "#         bolded_h3 = f\"\\033[1m{kwargs['h3index_selected']}\\033[0m\"\n",
    "#         bolded_ts = f\"\\033[1m{kwargs['timeslot_selected']}\\033[0m\"\n",
    "#         bolded_limit = f\"\\033[1m{kwargs['limit_selected']}\\033[0m\"\n",
    "#         bolded_b = f\"\\033[1m{kwargs['b_selected']}\\033[0m\"\n",
    "#         print('-------------------------------------')\n",
    "#         print('H3index Selected',bolded_h3)\n",
    "#         print('Time Slot Selected',bolded_ts)\n",
    "#         print('Limit Selected',bolded_limit)\n",
    "#         print('B Value Selected',bolded_b)\n",
    "        print('The Red dot (in the plots below) corresponds to the selected value of B')\n",
    "        count_average_buses_noise_q2(kwargs['h3index_selected'],kwargs['timeslot_selected'],kwargs['limit_selected'],kwargs['b_selected'])\n",
    "        draw_B_eps_graph_q2(kwargs['b_selected'])\n",
    "        draw_eps_var_graph_q2(kwargs['b_selected'])\n",
    "interact(test_q2, val = fixed(4), h3index_selected=h3index_selected, timeslot_selected=timeslot_selected,limit_selected=limit_selected,b_selected=b_selected);"
   ]
  },
  {
   "cell_type": "markdown",
   "id": "bedf121e",
   "metadata": {},
   "source": [
    "## 5. Cumulative Epsilon (Epsilon Per Day)"
   ]
  },
  {
   "cell_type": "markdown",
   "id": "663117f0",
   "metadata": {},
   "source": [
    "Sensitivity is the maximum possible variation in the query output if certain number of records are replaced or omitted by a given user\n",
    "\n",
    "Epsilon Per HAT Per Day - Sensitivity is calculated for a neighboring dataset that allows changes in the records of a single user for a given Day in a given HAT\n",
    "\n",
    "Epsilon Per Day - Sensitivity is calculated for a neighboring dataset that allows changes in the records of a single user for a given day for all possible HAT's"
   ]
  },
  {
   "cell_type": "markdown",
   "id": "999d1a02",
   "metadata": {},
   "source": [
    "#### cumulative_epsilon_query1()\n",
    "    Let 'K' denote the maximum number of HATs any bus can pass through in a single day\n",
    "    For Query 1, define Worst Case Epsilon per day as the sum of top ‘K’ worst (largest) epsilon-per-HAT-per-Day values\n",
    "\n",
    "#### cumulative_epsilon_query2()\n",
    "    Let 'K' denote the maximum number of HATs any bus can pass through in a single day\n",
    "    For Query 2, define Worst Case Epsilon per day as the product of 'K' and Epsilon-per-HAT-per-Day\n"
   ]
  },
  {
   "cell_type": "markdown",
   "id": "f09292e2",
   "metadata": {},
   "source": [
    "### Query 1 - Average Speed of Buses Passing through a HAT"
   ]
  },
  {
   "cell_type": "markdown",
   "id": "005e222f",
   "metadata": {},
   "source": [
    "    Sensitivity is computed as the difference between Maximum Speed achieved by a bus and the minimum speed by a bus over the Sum of Total Number of Unique Buses per day for the given HAT(N)\n"
   ]
  },
  {
   "cell_type": "markdown",
   "id": "0d5d32b4",
   "metadata": {},
   "source": [
    "$$\n",
    "Sensitivity = \\frac {(Maximum Speed -Minimum Speed)}{N}\n",
    "$$"
   ]
  },
  {
   "cell_type": "markdown",
   "id": "504ed4da",
   "metadata": {},
   "source": [
    "$$\n",
    "N = {N_1+N_2…..+N_{31}}\n",
    "$$"
   ]
  },
  {
   "cell_type": "markdown",
   "id": "95b21a13",
   "metadata": {},
   "source": [
    "$$\n",
    "\\\\\n",
    "N_i = \\mathrm { Number\\ of\\ Unique\\ Buses\\ in\\ a\\ given\\ HAT\\ on\\ Day \\ i}\n",
    "$$"
   ]
  },
  {
   "cell_type": "markdown",
   "id": "6711693f",
   "metadata": {},
   "source": [
    "$$\n",
    "EpsilonPerHATperDay = \\frac {Sensitivity}  {B}\n",
    "$$"
   ]
  },
  {
   "cell_type": "markdown",
   "id": "58df762e",
   "metadata": {},
   "source": [
    "\n",
    "    We know that the Maximum Speed and Minimum Speed are constant, therefore the least value of N will give us the largest value of Sensitivity thereby the largest value (or worst case) Epsilon-per-HAT-per-Day\n"
   ]
  },
  {
   "cell_type": "markdown",
   "id": "79c875d9",
   "metadata": {},
   "source": [
    "#### cumulative_epsilon_query1()\n",
    "    Let 'K' denote the maximum number of HATs any bus can pass through in a single day\n",
    "    For Query 1, define Worst Case Epsilon per day as the sum of top ‘K’ worst Epsilon-per-HAT-per-Day values\n"
   ]
  },
  {
   "cell_type": "code",
   "execution_count": 61,
   "id": "b8208504",
   "metadata": {},
   "outputs": [],
   "source": [
    "df1 = datanew"
   ]
  },
  {
   "cell_type": "code",
   "execution_count": 62,
   "id": "6a5e740c",
   "metadata": {},
   "outputs": [],
   "source": [
    "max_speed = df1['speed'].max()\n",
    "# min_speed = 0"
   ]
  },
  {
   "cell_type": "code",
   "execution_count": 63,
   "id": "267f3dd5",
   "metadata": {
    "scrolled": true
   },
   "outputs": [],
   "source": [
    "df2 = df1.groupby(['Date','h3index','TimeSlot']).agg({'license_plate':'nunique'}).reset_index()\n",
    "df3 = df2.groupby(['h3index','TimeSlot']).agg({'license_plate':'sum'}).reset_index()\n",
    "df3.rename(columns = {'license_plate':'NumUniqueBusesMonth'}, inplace = True)\n",
    "\n",
    "# User can select B\n",
    "B=0.5\n",
    "\n",
    "df3['Epsilon_q1'] = (max_speed/ df3['NumUniqueBusesMonth'])\n",
    "df3['Epsilon_q1'] = df3['Epsilon_q1']/B"
   ]
  },
  {
   "cell_type": "code",
   "execution_count": 64,
   "id": "9295c615",
   "metadata": {},
   "outputs": [],
   "source": [
    "epsilon_per_HAT_per_Day = df3\n",
    "max_epsilon_q1 = epsilon_per_HAT_per_Day['Epsilon_q1'].max()"
   ]
  },
  {
   "cell_type": "code",
   "execution_count": 65,
   "id": "fbe146c8",
   "metadata": {},
   "outputs": [
    {
     "data": {
      "text/plain": [
       "314"
      ]
     },
     "execution_count": 65,
     "metadata": {},
     "output_type": "execute_result"
    }
   ],
   "source": [
    "df3['NumUniqueBusesMonth'].min()"
   ]
  },
  {
   "cell_type": "code",
   "execution_count": 66,
   "id": "34eb2aa5",
   "metadata": {},
   "outputs": [
    {
     "data": {
      "text/plain": [
       "0.4140127388535032"
      ]
     },
     "execution_count": 66,
     "metadata": {},
     "output_type": "execute_result"
    }
   ],
   "source": [
    "df3['Epsilon_q1'].max()"
   ]
  },
  {
   "cell_type": "code",
   "execution_count": 67,
   "id": "01a963f3",
   "metadata": {},
   "outputs": [
    {
     "data": {
      "text/html": [
       "<div>\n",
       "<style scoped>\n",
       "    .dataframe tbody tr th:only-of-type {\n",
       "        vertical-align: middle;\n",
       "    }\n",
       "\n",
       "    .dataframe tbody tr th {\n",
       "        vertical-align: top;\n",
       "    }\n",
       "\n",
       "    .dataframe thead th {\n",
       "        text-align: right;\n",
       "    }\n",
       "</style>\n",
       "<table border=\"1\" class=\"dataframe\">\n",
       "  <thead>\n",
       "    <tr style=\"text-align: right;\">\n",
       "      <th></th>\n",
       "      <th>Date</th>\n",
       "      <th>license_plate</th>\n",
       "      <th>NumUniqueHATsDay</th>\n",
       "    </tr>\n",
       "  </thead>\n",
       "  <tbody>\n",
       "    <tr>\n",
       "      <th>0</th>\n",
       "      <td>2021-11-15</td>\n",
       "      <td>GJ05BU3663</td>\n",
       "      <td>4</td>\n",
       "    </tr>\n",
       "    <tr>\n",
       "      <th>1</th>\n",
       "      <td>2021-11-15</td>\n",
       "      <td>GJ05BU8829</td>\n",
       "      <td>27</td>\n",
       "    </tr>\n",
       "    <tr>\n",
       "      <th>2</th>\n",
       "      <td>2021-11-15</td>\n",
       "      <td>GJ05BU8836</td>\n",
       "      <td>11</td>\n",
       "    </tr>\n",
       "    <tr>\n",
       "      <th>3</th>\n",
       "      <td>2021-11-15</td>\n",
       "      <td>GJ05BU8838</td>\n",
       "      <td>5</td>\n",
       "    </tr>\n",
       "    <tr>\n",
       "      <th>4</th>\n",
       "      <td>2021-11-15</td>\n",
       "      <td>GJ05BU8841</td>\n",
       "      <td>43</td>\n",
       "    </tr>\n",
       "    <tr>\n",
       "      <th>...</th>\n",
       "      <td>...</td>\n",
       "      <td>...</td>\n",
       "      <td>...</td>\n",
       "    </tr>\n",
       "    <tr>\n",
       "      <th>11152</th>\n",
       "      <td>2021-12-15</td>\n",
       "      <td>GJ05CU2568</td>\n",
       "      <td>12</td>\n",
       "    </tr>\n",
       "    <tr>\n",
       "      <th>11153</th>\n",
       "      <td>2021-12-15</td>\n",
       "      <td>GJ05CU2718</td>\n",
       "      <td>28</td>\n",
       "    </tr>\n",
       "    <tr>\n",
       "      <th>11154</th>\n",
       "      <td>2021-12-15</td>\n",
       "      <td>GJ05CU2891</td>\n",
       "      <td>13</td>\n",
       "    </tr>\n",
       "    <tr>\n",
       "      <th>11155</th>\n",
       "      <td>2021-12-15</td>\n",
       "      <td>GJ05bz0313</td>\n",
       "      <td>10</td>\n",
       "    </tr>\n",
       "    <tr>\n",
       "      <th>11156</th>\n",
       "      <td>2021-12-15</td>\n",
       "      <td>GJO5BU9184</td>\n",
       "      <td>32</td>\n",
       "    </tr>\n",
       "  </tbody>\n",
       "</table>\n",
       "<p>11157 rows × 3 columns</p>\n",
       "</div>"
      ],
      "text/plain": [
       "             Date license_plate  NumUniqueHATsDay\n",
       "0      2021-11-15    GJ05BU3663                 4\n",
       "1      2021-11-15    GJ05BU8829                27\n",
       "2      2021-11-15    GJ05BU8836                11\n",
       "3      2021-11-15    GJ05BU8838                 5\n",
       "4      2021-11-15    GJ05BU8841                43\n",
       "...           ...           ...               ...\n",
       "11152  2021-12-15    GJ05CU2568                12\n",
       "11153  2021-12-15    GJ05CU2718                28\n",
       "11154  2021-12-15    GJ05CU2891                13\n",
       "11155  2021-12-15    GJ05bz0313                10\n",
       "11156  2021-12-15    GJO5BU9184                32\n",
       "\n",
       "[11157 rows x 3 columns]"
      ]
     },
     "execution_count": 67,
     "metadata": {},
     "output_type": "execute_result"
    }
   ],
   "source": [
    "df2 = df1.groupby(['Date','license_plate']).agg({'HAT':'nunique'}).reset_index()\n",
    "df2.rename(columns = {'HAT':'NumUniqueHATsDay'}, inplace = True)\n",
    "df2\n"
   ]
  },
  {
   "cell_type": "code",
   "execution_count": 68,
   "id": "c75c59d3",
   "metadata": {},
   "outputs": [
    {
     "data": {
      "text/plain": [
       "<AxesSubplot:ylabel='Frequency'>"
      ]
     },
     "execution_count": 68,
     "metadata": {},
     "output_type": "execute_result"
    },
    {
     "data": {
      "image/png": "[encoded data removed]",
      "text/plain": [
       "<Figure size 432x288 with 1 Axes>"
      ]
     },
     "metadata": {
      "needs_background": "light"
     },
     "output_type": "display_data"
    }
   ],
   "source": [
    "df2['NumUniqueHATsDay'].plot.hist(bins=10)"
   ]
  },
  {
   "cell_type": "code",
   "execution_count": 69,
   "id": "4b4ab23f",
   "metadata": {},
   "outputs": [
    {
     "name": "stdout",
     "output_type": "stream",
     "text": [
      "89\n"
     ]
    }
   ],
   "source": [
    "K = df2['NumUniqueHATsDay'].max()\n",
    "print(K)"
   ]
  },
  {
   "cell_type": "code",
   "execution_count": 70,
   "id": "047f5e2e",
   "metadata": {},
   "outputs": [
    {
     "data": {
      "text/html": [
       "<div>\n",
       "<style scoped>\n",
       "    .dataframe tbody tr th:only-of-type {\n",
       "        vertical-align: middle;\n",
       "    }\n",
       "\n",
       "    .dataframe tbody tr th {\n",
       "        vertical-align: top;\n",
       "    }\n",
       "\n",
       "    .dataframe thead th {\n",
       "        text-align: right;\n",
       "    }\n",
       "</style>\n",
       "<table border=\"1\" class=\"dataframe\">\n",
       "  <thead>\n",
       "    <tr style=\"text-align: right;\">\n",
       "      <th></th>\n",
       "      <th>h3index</th>\n",
       "      <th>TimeSlot</th>\n",
       "      <th>NumUniqueBusesMonth</th>\n",
       "      <th>Epsilon_q1</th>\n",
       "    </tr>\n",
       "  </thead>\n",
       "  <tbody>\n",
       "    <tr>\n",
       "      <th>0</th>\n",
       "      <td>8742d98a0ffffff</td>\n",
       "      <td>1</td>\n",
       "      <td>684</td>\n",
       "      <td>0.190058</td>\n",
       "    </tr>\n",
       "    <tr>\n",
       "      <th>1</th>\n",
       "      <td>8742d98a0ffffff</td>\n",
       "      <td>2</td>\n",
       "      <td>759</td>\n",
       "      <td>0.171278</td>\n",
       "    </tr>\n",
       "    <tr>\n",
       "      <th>2</th>\n",
       "      <td>8742d98a0ffffff</td>\n",
       "      <td>3</td>\n",
       "      <td>682</td>\n",
       "      <td>0.190616</td>\n",
       "    </tr>\n",
       "    <tr>\n",
       "      <th>3</th>\n",
       "      <td>8742d98a0ffffff</td>\n",
       "      <td>4</td>\n",
       "      <td>514</td>\n",
       "      <td>0.252918</td>\n",
       "    </tr>\n",
       "    <tr>\n",
       "      <th>4</th>\n",
       "      <td>8742d98a0ffffff</td>\n",
       "      <td>5</td>\n",
       "      <td>468</td>\n",
       "      <td>0.277778</td>\n",
       "    </tr>\n",
       "    <tr>\n",
       "      <th>...</th>\n",
       "      <td>...</td>\n",
       "      <td>...</td>\n",
       "      <td>...</td>\n",
       "      <td>...</td>\n",
       "    </tr>\n",
       "    <tr>\n",
       "      <th>355</th>\n",
       "      <td>8742d9d6effffff</td>\n",
       "      <td>8</td>\n",
       "      <td>668</td>\n",
       "      <td>0.194611</td>\n",
       "    </tr>\n",
       "    <tr>\n",
       "      <th>356</th>\n",
       "      <td>8742d9d6effffff</td>\n",
       "      <td>9</td>\n",
       "      <td>637</td>\n",
       "      <td>0.204082</td>\n",
       "    </tr>\n",
       "    <tr>\n",
       "      <th>357</th>\n",
       "      <td>8742d9d6effffff</td>\n",
       "      <td>10</td>\n",
       "      <td>576</td>\n",
       "      <td>0.225694</td>\n",
       "    </tr>\n",
       "    <tr>\n",
       "      <th>358</th>\n",
       "      <td>8742d9d6effffff</td>\n",
       "      <td>11</td>\n",
       "      <td>548</td>\n",
       "      <td>0.237226</td>\n",
       "    </tr>\n",
       "    <tr>\n",
       "      <th>359</th>\n",
       "      <td>8742d9d6effffff</td>\n",
       "      <td>12</td>\n",
       "      <td>434</td>\n",
       "      <td>0.299539</td>\n",
       "    </tr>\n",
       "  </tbody>\n",
       "</table>\n",
       "<p>360 rows × 4 columns</p>\n",
       "</div>"
      ],
      "text/plain": [
       "             h3index  TimeSlot  NumUniqueBusesMonth  Epsilon_q1\n",
       "0    8742d98a0ffffff         1                  684    0.190058\n",
       "1    8742d98a0ffffff         2                  759    0.171278\n",
       "2    8742d98a0ffffff         3                  682    0.190616\n",
       "3    8742d98a0ffffff         4                  514    0.252918\n",
       "4    8742d98a0ffffff         5                  468    0.277778\n",
       "..               ...       ...                  ...         ...\n",
       "355  8742d9d6effffff         8                  668    0.194611\n",
       "356  8742d9d6effffff         9                  637    0.204082\n",
       "357  8742d9d6effffff        10                  576    0.225694\n",
       "358  8742d9d6effffff        11                  548    0.237226\n",
       "359  8742d9d6effffff        12                  434    0.299539\n",
       "\n",
       "[360 rows x 4 columns]"
      ]
     },
     "execution_count": 70,
     "metadata": {},
     "output_type": "execute_result"
    }
   ],
   "source": [
    "epsilon_per_HAT_per_Day"
   ]
  },
  {
   "cell_type": "markdown",
   "id": "c1036033",
   "metadata": {},
   "source": [
    "Sort epsilon_per_HAT_per_Day in descending order of Epsilon_q1\n",
    "\n",
    "To calculate Epsilon Per Day for Query 1, add the first 'K' number of values of Epsilon_q1 from the sorted epsilon_per_HAT_per_Day dataframe"
   ]
  },
  {
   "cell_type": "code",
   "execution_count": 71,
   "id": "bd802d2e",
   "metadata": {},
   "outputs": [
    {
     "name": "stdout",
     "output_type": "stream",
     "text": [
      "89\n",
      "24.72216109644188\n"
     ]
    }
   ],
   "source": [
    "cumulative_epsilon_q1 = epsilon_per_HAT_per_Day.nlargest(K, \"Epsilon_q1\")['Epsilon_q1'].sum()\n",
    "print(K)\n",
    "print(cumulative_epsilon_q1)"
   ]
  },
  {
   "cell_type": "markdown",
   "id": "f111ab99",
   "metadata": {},
   "source": [
    "## Query 2 - Average Number of buses exceeding a user-specified speed threshold for a HAT "
   ]
  },
  {
   "cell_type": "markdown",
   "id": "927bdddd",
   "metadata": {},
   "source": [
    "$$\n",
    "EpsilonPerHATperDay = \\frac {1} {Number\\ of\\ Days \\times B}\n",
    "$$"
   ]
  },
  {
   "cell_type": "code",
   "execution_count": 72,
   "id": "7cdf99fc",
   "metadata": {},
   "outputs": [
    {
     "name": "stdout",
     "output_type": "stream",
     "text": [
      "31\n"
     ]
    }
   ],
   "source": [
    "number_of_days =  len(df1['Date'].unique())\n",
    "print(number_of_days)"
   ]
  },
  {
   "cell_type": "code",
   "execution_count": 73,
   "id": "9da44bc2",
   "metadata": {},
   "outputs": [
    {
     "name": "stdout",
     "output_type": "stream",
     "text": [
      "0.06451612903225806\n"
     ]
    }
   ],
   "source": [
    "# User selects B value\n",
    "B = 0.5\n",
    "\n",
    "#  EpsilonPerHATperDay is same for all HATs for Query 2\n",
    "epsilon_per_HAT_per_Day_q2 = (1/number_of_days)/B\n",
    "print(epsilon_per_HAT_per_Day_q2)"
   ]
  },
  {
   "cell_type": "markdown",
   "id": "cc1b0e16",
   "metadata": {},
   "source": [
    "    For Query 2, we calculate the Epsilon per day by multiplying K (maximum number of HATs a bus travels in a given day) with the calculated epsilon_per_HAT_per_Day_q2"
   ]
  },
  {
   "cell_type": "code",
   "execution_count": 74,
   "id": "a976e100",
   "metadata": {},
   "outputs": [
    {
     "name": "stdout",
     "output_type": "stream",
     "text": [
      "89\n",
      "5.741935483870968\n"
     ]
    }
   ],
   "source": [
    "print(K)\n",
    "cumulative_epsilon_q2 = K * epsilon_per_HAT_per_Day_q2\n",
    "print(cumulative_epsilon_q2)"
   ]
  },
  {
   "cell_type": "markdown",
   "id": "45bbcef6",
   "metadata": {},
   "source": [
    "## Cumulative Epsilon (Epsilon Per Day) for both the Queries"
   ]
  },
  {
   "cell_type": "markdown",
   "id": "6badd75b",
   "metadata": {},
   "source": [
    "$$\n",
    "Cumulative\\ Epsilon = E_1 + E_2\n",
    "$$"
   ]
  },
  {
   "cell_type": "markdown",
   "id": "07aa3689",
   "metadata": {},
   "source": [
    "$$\n",
    "E_1 = Cumulative\\ Epsilon\\  of\\  Query \\ 1\n",
    "\\\\\n",
    "\\\\\n",
    "E_2 = Cumulative\\  Epsilon\\  of \\ Query \\ 2\n",
    "$$"
   ]
  },
  {
   "cell_type": "code",
   "execution_count": 75,
   "id": "1d582d02",
   "metadata": {},
   "outputs": [
    {
     "name": "stdout",
     "output_type": "stream",
     "text": [
      "30.464096580312848\n"
     ]
    }
   ],
   "source": [
    "cumulative_epsilon = cumulative_epsilon_q1 + cumulative_epsilon_q2\n",
    "print(cumulative_epsilon)"
   ]
  }
 ],
 "metadata": {
  "kernelspec": {
   "display_name": "Python 3 (ipykernel)",
   "language": "python",
   "name": "python3"
  },
  "language_info": {
   "codemirror_mode": {
    "name": "ipython",
    "version": 3
   },
   "file_extension": ".py",
   "mimetype": "text/x-python",
   "name": "python",
   "nbconvert_exporter": "python",
   "pygments_lexer": "ipython3",
   "version": "3.10.5"
  }
 },
 "nbformat": 4,
 "nbformat_minor": 5
}
