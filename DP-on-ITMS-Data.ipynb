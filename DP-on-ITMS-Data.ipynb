{
 "cells": [
  {
   "cell_type": "markdown",
   "metadata": {},
   "source": [
    "# Anonymization of Data via Differential Privacy"
   ]
  },
  {
   "cell_type": "markdown",
   "metadata": {},
   "source": [
    "## The following notebook implements anonymization of spatio-temporal data using Differential Privacy\n",
    "\n",
    "### We use the ITMS bus dataset and provide tools for pre-processing the spatio-temporal data as follows: The city area (spatial component) is divided into hexagonal regions, while the time of the day (time component) is divided into time-slots (say, each time-slot corresponds to one hour duration). We quantize the location-coordinates for each record of the ITMS dataset to a hexagon index, while the time-stamp of the record is quantized to a time-slot. For a combination of hexagon index and time slot, we release the following statistical queries:\n",
    "\n",
    "### 1. Average speed in the chosen Hexagon-And-Timeslot (HAT)\n",
    "### 2. Average number of buses exceeding a speed limit in a chosen HAT\n",
    "\n",
    "### We anonymize the query outputs by applying appropriate noise, and quantify the corresponding privacy-loss parameter in differential privacy. Based on the choice of noise parameters, we compute the privacy loss parameter (Epsilon) per user.\n"
   ]
  },
  {
   "cell_type": "markdown",
   "metadata": {},
   "source": [
    "The following notebook is seperated into 5 part\n",
    "1. Pre Processing of ITMS Dataset\n",
    "2. Selecting H3index\n",
    "3. Queries\n",
    "4. Interactive Graphs\n",
    "5. Calculating Cumulative Epsilon"
   ]
  },
  {
   "cell_type": "markdown",
   "metadata": {},
   "source": [
    "## 1. Pre Processing the ITMS Dataset"
   ]
  },
  {
   "cell_type": "markdown",
   "metadata": {},
   "source": [
    "##### We take the following steps to pre-process the data. \n",
    "1. Convert the observationDatetime string attribute into a datetime python object (to help in processing the record based on the value of the datetime object).\n",
    "2. Divide a day into Time Slots. Create a column called TimeSlot which will contain the Time Slot at which the data is recorded.\n",
    "5. Selected records correspond to one week of data spanning from 15th November 2021 to 21st November 2021. \n",
    "6. Select the records from 'BeginHour' (starting hour of the day for analyzing the data) to 'EndHour'. \n",
    "6. Create a column named HAT (to denote Hexagon and Time slot) which denotes a combination of the H3index and the Time Slot. For example, a record having H3 index 8742d9d69ffffff and Time Slot number 4 will have a HAT id as 4-8742d9d69ffffff.\n"
   ]
  },
  {
   "cell_type": "markdown",
   "metadata": {},
   "source": [
    "### Loading the dataset"
   ]
  },
  {
   "cell_type": "markdown",
   "metadata": {},
   "source": [
    "We consider the intelligent transport management system (ITMS) dataset from Surat city for our case study involving differentially private release of statistics. This dataset consists of records generated from transit buses operating in the city. \n",
    "\n",
    "We use the H3 is a geospatial indexing system (developed by Uber) that partitions the world into hexagonal cells. A latitude and longitude pair can be transformed to a 64-bit H3 index, identifying a hexagonal cell.\n",
    "\n",
    "We choose H3 resolution as 7 over 6 and 8 as when we use 8 resolution the size of h3indices is smaller and the number of h3indices that are selected is only 11%. We don't prefer resolution 6 as each h3index is approximately 36 km square. Resolution 7 is the best trade off in terms of size of each h3index and number of h3indices that can be selected.\n",
    "\n",
    "\n",
    "The parameters reported by the buses include licence plate number, instantaneous speed, observationDateTime and H3 index (generated using H3 resolution 7).\n",
    "\n",
    "The dataset contains ITMS bus records spanning one week (from 15Nov2021 to 21Nov2021).\n",
    "\n",
    "The license plate number of the original ITMS records have been randomized (hashed) for preserving anonymity."
   ]
  },
  {
   "cell_type": "markdown",
   "metadata": {},
   "source": [
    "#### Load the dataset from CompressedOneWeekDataset_H3.csv file\n"
   ]
  },
  {
   "cell_type": "code",
   "execution_count": 117,
   "metadata": {},
   "outputs": [],
   "source": [
    "import pandas as pd\n",
    "import numpy as np\n",
    "#import h3\n",
    "import warnings\n",
    "\n",
    "warnings.filterwarnings('ignore')\n",
    "\n",
    "#dataNov2021 = pd.read_csv('https://iudx-cat-sandbox-dev.s3.ap-south-1.amazonaws.com/dp-itms-1/CompressedRawDataset.csv')\n",
    "dataNov2021 = pd.read_csv('CompressedOneWeekDataset_H3.csv')\n",
    "n_tot = len(dataNov2021)"
   ]
  },
  {
   "cell_type": "code",
   "execution_count": 118,
   "metadata": {},
   "outputs": [
    {
     "data": {
      "text/html": [
       "<div>\n",
       "<style scoped>\n",
       "    .dataframe tbody tr th:only-of-type {\n",
       "        vertical-align: middle;\n",
       "    }\n",
       "\n",
       "    .dataframe tbody tr th {\n",
       "        vertical-align: top;\n",
       "    }\n",
       "\n",
       "    .dataframe thead th {\n",
       "        text-align: right;\n",
       "    }\n",
       "</style>\n",
       "<table border=\"1\" class=\"dataframe\">\n",
       "  <thead>\n",
       "    <tr style=\"text-align: right;\">\n",
       "      <th></th>\n",
       "      <th>speed</th>\n",
       "      <th>observationDateTime</th>\n",
       "      <th>license_plate</th>\n",
       "      <th>h3index</th>\n",
       "    </tr>\n",
       "  </thead>\n",
       "  <tbody>\n",
       "    <tr>\n",
       "      <th>0</th>\n",
       "      <td>16.0</td>\n",
       "      <td>2021-11-15 09:00:13+05:30</td>\n",
       "      <td>DX73CF7584</td>\n",
       "      <td>8742d9894ffffff</td>\n",
       "    </tr>\n",
       "    <tr>\n",
       "      <th>1</th>\n",
       "      <td>0.0</td>\n",
       "      <td>2021-11-15 09:00:32+05:30</td>\n",
       "      <td>DX73CF7584</td>\n",
       "      <td>8742d9894ffffff</td>\n",
       "    </tr>\n",
       "    <tr>\n",
       "      <th>2</th>\n",
       "      <td>0.0</td>\n",
       "      <td>2021-11-15 09:00:40+05:30</td>\n",
       "      <td>TO11QR8132</td>\n",
       "      <td>8742d9d4bffffff</td>\n",
       "    </tr>\n",
       "    <tr>\n",
       "      <th>3</th>\n",
       "      <td>26.0</td>\n",
       "      <td>2021-11-15 09:00:41+05:30</td>\n",
       "      <td>SB49ZI0030</td>\n",
       "      <td>8742d98b4ffffff</td>\n",
       "    </tr>\n",
       "    <tr>\n",
       "      <th>4</th>\n",
       "      <td>35.0</td>\n",
       "      <td>2021-11-15 09:00:44+05:30</td>\n",
       "      <td>PT48TT5261</td>\n",
       "      <td>8742d98b0ffffff</td>\n",
       "    </tr>\n",
       "  </tbody>\n",
       "</table>\n",
       "</div>"
      ],
      "text/plain": [
       "   speed        observationDateTime license_plate          h3index\n",
       "0   16.0  2021-11-15 09:00:13+05:30    DX73CF7584  8742d9894ffffff\n",
       "1    0.0  2021-11-15 09:00:32+05:30    DX73CF7584  8742d9894ffffff\n",
       "2    0.0  2021-11-15 09:00:40+05:30    TO11QR8132  8742d9d4bffffff\n",
       "3   26.0  2021-11-15 09:00:41+05:30    SB49ZI0030  8742d98b4ffffff\n",
       "4   35.0  2021-11-15 09:00:44+05:30    PT48TT5261  8742d98b0ffffff"
      ]
     },
     "execution_count": 118,
     "metadata": {},
     "output_type": "execute_result"
    }
   ],
   "source": [
    "dataNov2021.head()"
   ]
  },
  {
   "cell_type": "code",
   "execution_count": 119,
   "metadata": {},
   "outputs": [
    {
     "data": {
      "text/html": [
       "<div>\n",
       "<style scoped>\n",
       "    .dataframe tbody tr th:only-of-type {\n",
       "        vertical-align: middle;\n",
       "    }\n",
       "\n",
       "    .dataframe tbody tr th {\n",
       "        vertical-align: top;\n",
       "    }\n",
       "\n",
       "    .dataframe thead th {\n",
       "        text-align: right;\n",
       "    }\n",
       "</style>\n",
       "<table border=\"1\" class=\"dataframe\">\n",
       "  <thead>\n",
       "    <tr style=\"text-align: right;\">\n",
       "      <th></th>\n",
       "      <th>speed</th>\n",
       "      <th>observationDateTime</th>\n",
       "      <th>license_plate</th>\n",
       "      <th>h3index</th>\n",
       "    </tr>\n",
       "  </thead>\n",
       "  <tbody>\n",
       "    <tr>\n",
       "      <th>4603009</th>\n",
       "      <td>17.0</td>\n",
       "      <td>2021-11-21 20:59:59+05:30</td>\n",
       "      <td>GEG1CW2154</td>\n",
       "      <td>8742d98a2ffffff</td>\n",
       "    </tr>\n",
       "    <tr>\n",
       "      <th>4603010</th>\n",
       "      <td>7.0</td>\n",
       "      <td>2021-11-21 20:59:59+05:30</td>\n",
       "      <td>YF15UH1995</td>\n",
       "      <td>8742d9d69ffffff</td>\n",
       "    </tr>\n",
       "    <tr>\n",
       "      <th>4603011</th>\n",
       "      <td>23.0</td>\n",
       "      <td>2021-11-21 20:59:59+05:30</td>\n",
       "      <td>GE14PO1972</td>\n",
       "      <td>8742d98a1ffffff</td>\n",
       "    </tr>\n",
       "    <tr>\n",
       "      <th>4603012</th>\n",
       "      <td>16.0</td>\n",
       "      <td>2021-11-21 20:59:59+05:30</td>\n",
       "      <td>NL12OU3057</td>\n",
       "      <td>8742d98b0ffffff</td>\n",
       "    </tr>\n",
       "    <tr>\n",
       "      <th>4603013</th>\n",
       "      <td>39.0</td>\n",
       "      <td>2021-11-21 20:59:59+05:30</td>\n",
       "      <td>QL60FL4466</td>\n",
       "      <td>8742d98b6ffffff</td>\n",
       "    </tr>\n",
       "  </tbody>\n",
       "</table>\n",
       "</div>"
      ],
      "text/plain": [
       "         speed        observationDateTime license_plate          h3index\n",
       "4603009   17.0  2021-11-21 20:59:59+05:30    GEG1CW2154  8742d98a2ffffff\n",
       "4603010    7.0  2021-11-21 20:59:59+05:30    YF15UH1995  8742d9d69ffffff\n",
       "4603011   23.0  2021-11-21 20:59:59+05:30    GE14PO1972  8742d98a1ffffff\n",
       "4603012   16.0  2021-11-21 20:59:59+05:30    NL12OU3057  8742d98b0ffffff\n",
       "4603013   39.0  2021-11-21 20:59:59+05:30    QL60FL4466  8742d98b6ffffff"
      ]
     },
     "execution_count": 119,
     "metadata": {},
     "output_type": "execute_result"
    }
   ],
   "source": [
    "dataNov2021.tail()"
   ]
  },
  {
   "cell_type": "code",
   "execution_count": 120,
   "metadata": {},
   "outputs": [
    {
     "name": "stdout",
     "output_type": "stream",
     "text": [
      "107\n"
     ]
    }
   ],
   "source": [
    "print(len(pd.unique(dataNov2021['h3index'])))"
   ]
  },
  {
   "cell_type": "markdown",
   "metadata": {},
   "source": [
    "## User Configurable Parameters\n",
    "\n",
    "### TSR_minutes: Time Slot Resolution in minutes (Eg: TSR_minutes = 30 implies each slot is of 30 minutes)\n",
    "###### Recommended Values for TSR_minutes: 30, 60, 120\n",
    "\n",
    "### BeginHour: Starting Hour of the day (from when we want to observe the statistics)\n",
    "### EndHour: Ending Hour of the day (when the observation ends)\n",
    "###### The BeginHour and EndHour take absolute hour values. Eg. if we are interested in the time range 9am to 9pm, then BeginHour = 9 and EndHour = 21. Recommended Range 9 <= BeginHour < EndHour <= 21\n"
   ]
  },
  {
   "cell_type": "code",
   "execution_count": 121,
   "metadata": {},
   "outputs": [],
   "source": [
    "TSR_minutes = 60\n",
    "BeginHour = 9\n",
    "EndHour = 21"
   ]
  },
  {
   "cell_type": "markdown",
   "metadata": {},
   "source": [
    "### Splitting the observation Date Time into a Date and Time Column"
   ]
  },
  {
   "cell_type": "code",
   "execution_count": 122,
   "metadata": {},
   "outputs": [
    {
     "data": {
      "text/html": [
       "<div>\n",
       "<style scoped>\n",
       "    .dataframe tbody tr th:only-of-type {\n",
       "        vertical-align: middle;\n",
       "    }\n",
       "\n",
       "    .dataframe tbody tr th {\n",
       "        vertical-align: top;\n",
       "    }\n",
       "\n",
       "    .dataframe thead th {\n",
       "        text-align: right;\n",
       "    }\n",
       "</style>\n",
       "<table border=\"1\" class=\"dataframe\">\n",
       "  <thead>\n",
       "    <tr style=\"text-align: right;\">\n",
       "      <th></th>\n",
       "      <th>speed</th>\n",
       "      <th>observationDateTime</th>\n",
       "      <th>license_plate</th>\n",
       "      <th>h3index</th>\n",
       "      <th>Date</th>\n",
       "      <th>Time</th>\n",
       "    </tr>\n",
       "  </thead>\n",
       "  <tbody>\n",
       "    <tr>\n",
       "      <th>0</th>\n",
       "      <td>16.0</td>\n",
       "      <td>2021-11-15 09:00:13+05:30</td>\n",
       "      <td>DX73CF7584</td>\n",
       "      <td>8742d9894ffffff</td>\n",
       "      <td>2021-11-15</td>\n",
       "      <td>09:00:13</td>\n",
       "    </tr>\n",
       "    <tr>\n",
       "      <th>1</th>\n",
       "      <td>0.0</td>\n",
       "      <td>2021-11-15 09:00:32+05:30</td>\n",
       "      <td>DX73CF7584</td>\n",
       "      <td>8742d9894ffffff</td>\n",
       "      <td>2021-11-15</td>\n",
       "      <td>09:00:32</td>\n",
       "    </tr>\n",
       "    <tr>\n",
       "      <th>2</th>\n",
       "      <td>0.0</td>\n",
       "      <td>2021-11-15 09:00:40+05:30</td>\n",
       "      <td>TO11QR8132</td>\n",
       "      <td>8742d9d4bffffff</td>\n",
       "      <td>2021-11-15</td>\n",
       "      <td>09:00:40</td>\n",
       "    </tr>\n",
       "    <tr>\n",
       "      <th>3</th>\n",
       "      <td>26.0</td>\n",
       "      <td>2021-11-15 09:00:41+05:30</td>\n",
       "      <td>SB49ZI0030</td>\n",
       "      <td>8742d98b4ffffff</td>\n",
       "      <td>2021-11-15</td>\n",
       "      <td>09:00:41</td>\n",
       "    </tr>\n",
       "    <tr>\n",
       "      <th>4</th>\n",
       "      <td>35.0</td>\n",
       "      <td>2021-11-15 09:00:44+05:30</td>\n",
       "      <td>PT48TT5261</td>\n",
       "      <td>8742d98b0ffffff</td>\n",
       "      <td>2021-11-15</td>\n",
       "      <td>09:00:44</td>\n",
       "    </tr>\n",
       "  </tbody>\n",
       "</table>\n",
       "</div>"
      ],
      "text/plain": [
       "   speed        observationDateTime license_plate          h3index  \\\n",
       "0   16.0  2021-11-15 09:00:13+05:30    DX73CF7584  8742d9894ffffff   \n",
       "1    0.0  2021-11-15 09:00:32+05:30    DX73CF7584  8742d9894ffffff   \n",
       "2    0.0  2021-11-15 09:00:40+05:30    TO11QR8132  8742d9d4bffffff   \n",
       "3   26.0  2021-11-15 09:00:41+05:30    SB49ZI0030  8742d98b4ffffff   \n",
       "4   35.0  2021-11-15 09:00:44+05:30    PT48TT5261  8742d98b0ffffff   \n",
       "\n",
       "         Date      Time  \n",
       "0  2021-11-15  09:00:13  \n",
       "1  2021-11-15  09:00:32  \n",
       "2  2021-11-15  09:00:40  \n",
       "3  2021-11-15  09:00:41  \n",
       "4  2021-11-15  09:00:44  "
      ]
     },
     "execution_count": 122,
     "metadata": {},
     "output_type": "execute_result"
    }
   ],
   "source": [
    "dataNov2021['Date'] = pd.to_datetime(dataNov2021['observationDateTime']).dt.date\n",
    "dataNov2021['Time'] = pd.to_datetime(dataNov2021['observationDateTime']).dt.time\n",
    "\n",
    "dataNov2021.head()"
   ]
  },
  {
   "cell_type": "code",
   "execution_count": 123,
   "metadata": {},
   "outputs": [
    {
     "data": {
      "text/html": [
       "<div>\n",
       "<style scoped>\n",
       "    .dataframe tbody tr th:only-of-type {\n",
       "        vertical-align: middle;\n",
       "    }\n",
       "\n",
       "    .dataframe tbody tr th {\n",
       "        vertical-align: top;\n",
       "    }\n",
       "\n",
       "    .dataframe thead th {\n",
       "        text-align: right;\n",
       "    }\n",
       "</style>\n",
       "<table border=\"1\" class=\"dataframe\">\n",
       "  <thead>\n",
       "    <tr style=\"text-align: right;\">\n",
       "      <th></th>\n",
       "      <th>speed</th>\n",
       "      <th>observationDateTime</th>\n",
       "      <th>license_plate</th>\n",
       "      <th>h3index</th>\n",
       "      <th>Date</th>\n",
       "      <th>Time</th>\n",
       "    </tr>\n",
       "  </thead>\n",
       "  <tbody>\n",
       "    <tr>\n",
       "      <th>4603009</th>\n",
       "      <td>17.0</td>\n",
       "      <td>2021-11-21 20:59:59+05:30</td>\n",
       "      <td>GEG1CW2154</td>\n",
       "      <td>8742d98a2ffffff</td>\n",
       "      <td>2021-11-21</td>\n",
       "      <td>20:59:59</td>\n",
       "    </tr>\n",
       "    <tr>\n",
       "      <th>4603010</th>\n",
       "      <td>7.0</td>\n",
       "      <td>2021-11-21 20:59:59+05:30</td>\n",
       "      <td>YF15UH1995</td>\n",
       "      <td>8742d9d69ffffff</td>\n",
       "      <td>2021-11-21</td>\n",
       "      <td>20:59:59</td>\n",
       "    </tr>\n",
       "    <tr>\n",
       "      <th>4603011</th>\n",
       "      <td>23.0</td>\n",
       "      <td>2021-11-21 20:59:59+05:30</td>\n",
       "      <td>GE14PO1972</td>\n",
       "      <td>8742d98a1ffffff</td>\n",
       "      <td>2021-11-21</td>\n",
       "      <td>20:59:59</td>\n",
       "    </tr>\n",
       "    <tr>\n",
       "      <th>4603012</th>\n",
       "      <td>16.0</td>\n",
       "      <td>2021-11-21 20:59:59+05:30</td>\n",
       "      <td>NL12OU3057</td>\n",
       "      <td>8742d98b0ffffff</td>\n",
       "      <td>2021-11-21</td>\n",
       "      <td>20:59:59</td>\n",
       "    </tr>\n",
       "    <tr>\n",
       "      <th>4603013</th>\n",
       "      <td>39.0</td>\n",
       "      <td>2021-11-21 20:59:59+05:30</td>\n",
       "      <td>QL60FL4466</td>\n",
       "      <td>8742d98b6ffffff</td>\n",
       "      <td>2021-11-21</td>\n",
       "      <td>20:59:59</td>\n",
       "    </tr>\n",
       "  </tbody>\n",
       "</table>\n",
       "</div>"
      ],
      "text/plain": [
       "         speed        observationDateTime license_plate          h3index  \\\n",
       "4603009   17.0  2021-11-21 20:59:59+05:30    GEG1CW2154  8742d98a2ffffff   \n",
       "4603010    7.0  2021-11-21 20:59:59+05:30    YF15UH1995  8742d9d69ffffff   \n",
       "4603011   23.0  2021-11-21 20:59:59+05:30    GE14PO1972  8742d98a1ffffff   \n",
       "4603012   16.0  2021-11-21 20:59:59+05:30    NL12OU3057  8742d98b0ffffff   \n",
       "4603013   39.0  2021-11-21 20:59:59+05:30    QL60FL4466  8742d98b6ffffff   \n",
       "\n",
       "               Date      Time  \n",
       "4603009  2021-11-21  20:59:59  \n",
       "4603010  2021-11-21  20:59:59  \n",
       "4603011  2021-11-21  20:59:59  \n",
       "4603012  2021-11-21  20:59:59  \n",
       "4603013  2021-11-21  20:59:59  "
      ]
     },
     "execution_count": 123,
     "metadata": {},
     "output_type": "execute_result"
    }
   ],
   "source": [
    "dataNov2021.tail()"
   ]
  },
  {
   "cell_type": "markdown",
   "metadata": {},
   "source": [
    "### Select records from \"BeginHour\" to \"EndHour\""
   ]
  },
  {
   "cell_type": "code",
   "execution_count": 124,
   "metadata": {},
   "outputs": [],
   "source": [
    "dt = dataNov2021['Time']\n",
    "\n",
    "dataNov2021['hour'] = dt.apply(lambda x: x.hour)\n",
    "\n",
    "dataNov2021['minute']  = dt.apply(lambda x: x.minute)\n",
    "\n",
    "# Use the BeginHour and EndHour variables (from the config file) to select the records\n",
    "dataNov2021 = dataNov2021[(dataNov2021['hour']>= BeginHour) & (dataNov2021['hour']< EndHour)]"
   ]
  },
  {
   "cell_type": "markdown",
   "metadata": {},
   "source": [
    "### Create TimeSlots based on TimeSlotResolution"
   ]
  },
  {
   "cell_type": "code",
   "execution_count": 125,
   "metadata": {},
   "outputs": [
    {
     "data": {
      "text/plain": [
       "12.0"
      ]
     },
     "execution_count": 125,
     "metadata": {},
     "output_type": "execute_result"
    }
   ],
   "source": [
    "dataNov2021['TimeStamp'] = (dataNov2021['hour'] - BeginHour)*60 + dataNov2021['minute']\n",
    "\n",
    "# Use the Time Slot Resolution (TSR_minutes) value loaded from the config file\n",
    "dataNov2021['TimeSlot'] = TimeStamp.floordiv(TSR_minutes, fill_value=0) + 1\n",
    "\n",
    "dataNov2021.drop(columns = ['hour','minute','TimeStamp','observationDateTime','Time'], inplace = True)\n",
    "\n",
    "TotalTimeSlots = np.ceil(((EndHour - BeginHour)*60)/TSR_minutes)\n",
    "TotalTimeSlots"
   ]
  },
  {
   "cell_type": "code",
   "execution_count": 126,
   "metadata": {},
   "outputs": [
    {
     "data": {
      "text/html": [
       "<div>\n",
       "<style scoped>\n",
       "    .dataframe tbody tr th:only-of-type {\n",
       "        vertical-align: middle;\n",
       "    }\n",
       "\n",
       "    .dataframe tbody tr th {\n",
       "        vertical-align: top;\n",
       "    }\n",
       "\n",
       "    .dataframe thead th {\n",
       "        text-align: right;\n",
       "    }\n",
       "</style>\n",
       "<table border=\"1\" class=\"dataframe\">\n",
       "  <thead>\n",
       "    <tr style=\"text-align: right;\">\n",
       "      <th></th>\n",
       "      <th>speed</th>\n",
       "      <th>license_plate</th>\n",
       "      <th>h3index</th>\n",
       "      <th>Date</th>\n",
       "      <th>TimeSlot</th>\n",
       "    </tr>\n",
       "  </thead>\n",
       "  <tbody>\n",
       "    <tr>\n",
       "      <th>0</th>\n",
       "      <td>16.0</td>\n",
       "      <td>DX73CF7584</td>\n",
       "      <td>8742d9894ffffff</td>\n",
       "      <td>2021-11-15</td>\n",
       "      <td>1</td>\n",
       "    </tr>\n",
       "    <tr>\n",
       "      <th>1</th>\n",
       "      <td>0.0</td>\n",
       "      <td>DX73CF7584</td>\n",
       "      <td>8742d9894ffffff</td>\n",
       "      <td>2021-11-15</td>\n",
       "      <td>1</td>\n",
       "    </tr>\n",
       "    <tr>\n",
       "      <th>2</th>\n",
       "      <td>0.0</td>\n",
       "      <td>TO11QR8132</td>\n",
       "      <td>8742d9d4bffffff</td>\n",
       "      <td>2021-11-15</td>\n",
       "      <td>1</td>\n",
       "    </tr>\n",
       "    <tr>\n",
       "      <th>3</th>\n",
       "      <td>26.0</td>\n",
       "      <td>SB49ZI0030</td>\n",
       "      <td>8742d98b4ffffff</td>\n",
       "      <td>2021-11-15</td>\n",
       "      <td>1</td>\n",
       "    </tr>\n",
       "    <tr>\n",
       "      <th>4</th>\n",
       "      <td>35.0</td>\n",
       "      <td>PT48TT5261</td>\n",
       "      <td>8742d98b0ffffff</td>\n",
       "      <td>2021-11-15</td>\n",
       "      <td>1</td>\n",
       "    </tr>\n",
       "  </tbody>\n",
       "</table>\n",
       "</div>"
      ],
      "text/plain": [
       "   speed license_plate          h3index        Date  TimeSlot\n",
       "0   16.0    DX73CF7584  8742d9894ffffff  2021-11-15         1\n",
       "1    0.0    DX73CF7584  8742d9894ffffff  2021-11-15         1\n",
       "2    0.0    TO11QR8132  8742d9d4bffffff  2021-11-15         1\n",
       "3   26.0    SB49ZI0030  8742d98b4ffffff  2021-11-15         1\n",
       "4   35.0    PT48TT5261  8742d98b0ffffff  2021-11-15         1"
      ]
     },
     "execution_count": 126,
     "metadata": {},
     "output_type": "execute_result"
    }
   ],
   "source": [
    "dataNov2021.head()"
   ]
  },
  {
   "cell_type": "code",
   "execution_count": 127,
   "metadata": {},
   "outputs": [
    {
     "data": {
      "text/html": [
       "<div>\n",
       "<style scoped>\n",
       "    .dataframe tbody tr th:only-of-type {\n",
       "        vertical-align: middle;\n",
       "    }\n",
       "\n",
       "    .dataframe tbody tr th {\n",
       "        vertical-align: top;\n",
       "    }\n",
       "\n",
       "    .dataframe thead th {\n",
       "        text-align: right;\n",
       "    }\n",
       "</style>\n",
       "<table border=\"1\" class=\"dataframe\">\n",
       "  <thead>\n",
       "    <tr style=\"text-align: right;\">\n",
       "      <th></th>\n",
       "      <th>speed</th>\n",
       "      <th>license_plate</th>\n",
       "      <th>h3index</th>\n",
       "      <th>Date</th>\n",
       "      <th>TimeSlot</th>\n",
       "    </tr>\n",
       "  </thead>\n",
       "  <tbody>\n",
       "    <tr>\n",
       "      <th>4603009</th>\n",
       "      <td>17.0</td>\n",
       "      <td>GEG1CW2154</td>\n",
       "      <td>8742d98a2ffffff</td>\n",
       "      <td>2021-11-21</td>\n",
       "      <td>12</td>\n",
       "    </tr>\n",
       "    <tr>\n",
       "      <th>4603010</th>\n",
       "      <td>7.0</td>\n",
       "      <td>YF15UH1995</td>\n",
       "      <td>8742d9d69ffffff</td>\n",
       "      <td>2021-11-21</td>\n",
       "      <td>12</td>\n",
       "    </tr>\n",
       "    <tr>\n",
       "      <th>4603011</th>\n",
       "      <td>23.0</td>\n",
       "      <td>GE14PO1972</td>\n",
       "      <td>8742d98a1ffffff</td>\n",
       "      <td>2021-11-21</td>\n",
       "      <td>12</td>\n",
       "    </tr>\n",
       "    <tr>\n",
       "      <th>4603012</th>\n",
       "      <td>16.0</td>\n",
       "      <td>NL12OU3057</td>\n",
       "      <td>8742d98b0ffffff</td>\n",
       "      <td>2021-11-21</td>\n",
       "      <td>12</td>\n",
       "    </tr>\n",
       "    <tr>\n",
       "      <th>4603013</th>\n",
       "      <td>39.0</td>\n",
       "      <td>QL60FL4466</td>\n",
       "      <td>8742d98b6ffffff</td>\n",
       "      <td>2021-11-21</td>\n",
       "      <td>12</td>\n",
       "    </tr>\n",
       "  </tbody>\n",
       "</table>\n",
       "</div>"
      ],
      "text/plain": [
       "         speed license_plate          h3index        Date  TimeSlot\n",
       "4603009   17.0    GEG1CW2154  8742d98a2ffffff  2021-11-21        12\n",
       "4603010    7.0    YF15UH1995  8742d9d69ffffff  2021-11-21        12\n",
       "4603011   23.0    GE14PO1972  8742d98a1ffffff  2021-11-21        12\n",
       "4603012   16.0    NL12OU3057  8742d98b0ffffff  2021-11-21        12\n",
       "4603013   39.0    QL60FL4466  8742d98b6ffffff  2021-11-21        12"
      ]
     },
     "execution_count": 127,
     "metadata": {},
     "output_type": "execute_result"
    }
   ],
   "source": [
    "dataNov2021.tail()"
   ]
  },
  {
   "cell_type": "markdown",
   "metadata": {},
   "source": [
    "### HAT is defined as H3index and Time Slot\n",
    "#### For example if h3index = 8742d999affffff and Time Slot = 9, the HAT is 9-8742d999affffff"
   ]
  },
  {
   "cell_type": "code",
   "execution_count": 128,
   "metadata": {},
   "outputs": [],
   "source": [
    "dataNov2021['HAT'] = dataNov2021['TimeSlot'].astype(str) + '-' + dataNov2021['h3index']"
   ]
  },
  {
   "cell_type": "code",
   "execution_count": 129,
   "metadata": {},
   "outputs": [
    {
     "data": {
      "text/html": [
       "<div>\n",
       "<style scoped>\n",
       "    .dataframe tbody tr th:only-of-type {\n",
       "        vertical-align: middle;\n",
       "    }\n",
       "\n",
       "    .dataframe tbody tr th {\n",
       "        vertical-align: top;\n",
       "    }\n",
       "\n",
       "    .dataframe thead th {\n",
       "        text-align: right;\n",
       "    }\n",
       "</style>\n",
       "<table border=\"1\" class=\"dataframe\">\n",
       "  <thead>\n",
       "    <tr style=\"text-align: right;\">\n",
       "      <th></th>\n",
       "      <th>speed</th>\n",
       "      <th>license_plate</th>\n",
       "      <th>h3index</th>\n",
       "      <th>Date</th>\n",
       "      <th>TimeSlot</th>\n",
       "      <th>HAT</th>\n",
       "    </tr>\n",
       "  </thead>\n",
       "  <tbody>\n",
       "    <tr>\n",
       "      <th>0</th>\n",
       "      <td>16.0</td>\n",
       "      <td>DX73CF7584</td>\n",
       "      <td>8742d9894ffffff</td>\n",
       "      <td>2021-11-15</td>\n",
       "      <td>1</td>\n",
       "      <td>1-8742d9894ffffff</td>\n",
       "    </tr>\n",
       "    <tr>\n",
       "      <th>1</th>\n",
       "      <td>0.0</td>\n",
       "      <td>DX73CF7584</td>\n",
       "      <td>8742d9894ffffff</td>\n",
       "      <td>2021-11-15</td>\n",
       "      <td>1</td>\n",
       "      <td>1-8742d9894ffffff</td>\n",
       "    </tr>\n",
       "    <tr>\n",
       "      <th>2</th>\n",
       "      <td>0.0</td>\n",
       "      <td>TO11QR8132</td>\n",
       "      <td>8742d9d4bffffff</td>\n",
       "      <td>2021-11-15</td>\n",
       "      <td>1</td>\n",
       "      <td>1-8742d9d4bffffff</td>\n",
       "    </tr>\n",
       "    <tr>\n",
       "      <th>3</th>\n",
       "      <td>26.0</td>\n",
       "      <td>SB49ZI0030</td>\n",
       "      <td>8742d98b4ffffff</td>\n",
       "      <td>2021-11-15</td>\n",
       "      <td>1</td>\n",
       "      <td>1-8742d98b4ffffff</td>\n",
       "    </tr>\n",
       "    <tr>\n",
       "      <th>4</th>\n",
       "      <td>35.0</td>\n",
       "      <td>PT48TT5261</td>\n",
       "      <td>8742d98b0ffffff</td>\n",
       "      <td>2021-11-15</td>\n",
       "      <td>1</td>\n",
       "      <td>1-8742d98b0ffffff</td>\n",
       "    </tr>\n",
       "  </tbody>\n",
       "</table>\n",
       "</div>"
      ],
      "text/plain": [
       "   speed license_plate          h3index        Date  TimeSlot  \\\n",
       "0   16.0    DX73CF7584  8742d9894ffffff  2021-11-15         1   \n",
       "1    0.0    DX73CF7584  8742d9894ffffff  2021-11-15         1   \n",
       "2    0.0    TO11QR8132  8742d9d4bffffff  2021-11-15         1   \n",
       "3   26.0    SB49ZI0030  8742d98b4ffffff  2021-11-15         1   \n",
       "4   35.0    PT48TT5261  8742d98b0ffffff  2021-11-15         1   \n",
       "\n",
       "                 HAT  \n",
       "0  1-8742d9894ffffff  \n",
       "1  1-8742d9894ffffff  \n",
       "2  1-8742d9d4bffffff  \n",
       "3  1-8742d98b4ffffff  \n",
       "4  1-8742d98b0ffffff  "
      ]
     },
     "execution_count": 129,
     "metadata": {},
     "output_type": "execute_result"
    }
   ],
   "source": [
    "dataNov2021.head()"
   ]
  },
  {
   "cell_type": "code",
   "execution_count": 130,
   "metadata": {},
   "outputs": [
    {
     "data": {
      "text/html": [
       "<div>\n",
       "<style scoped>\n",
       "    .dataframe tbody tr th:only-of-type {\n",
       "        vertical-align: middle;\n",
       "    }\n",
       "\n",
       "    .dataframe tbody tr th {\n",
       "        vertical-align: top;\n",
       "    }\n",
       "\n",
       "    .dataframe thead th {\n",
       "        text-align: right;\n",
       "    }\n",
       "</style>\n",
       "<table border=\"1\" class=\"dataframe\">\n",
       "  <thead>\n",
       "    <tr style=\"text-align: right;\">\n",
       "      <th></th>\n",
       "      <th>speed</th>\n",
       "      <th>license_plate</th>\n",
       "      <th>h3index</th>\n",
       "      <th>Date</th>\n",
       "      <th>TimeSlot</th>\n",
       "      <th>HAT</th>\n",
       "    </tr>\n",
       "  </thead>\n",
       "  <tbody>\n",
       "    <tr>\n",
       "      <th>4603009</th>\n",
       "      <td>17.0</td>\n",
       "      <td>GEG1CW2154</td>\n",
       "      <td>8742d98a2ffffff</td>\n",
       "      <td>2021-11-21</td>\n",
       "      <td>12</td>\n",
       "      <td>12-8742d98a2ffffff</td>\n",
       "    </tr>\n",
       "    <tr>\n",
       "      <th>4603010</th>\n",
       "      <td>7.0</td>\n",
       "      <td>YF15UH1995</td>\n",
       "      <td>8742d9d69ffffff</td>\n",
       "      <td>2021-11-21</td>\n",
       "      <td>12</td>\n",
       "      <td>12-8742d9d69ffffff</td>\n",
       "    </tr>\n",
       "    <tr>\n",
       "      <th>4603011</th>\n",
       "      <td>23.0</td>\n",
       "      <td>GE14PO1972</td>\n",
       "      <td>8742d98a1ffffff</td>\n",
       "      <td>2021-11-21</td>\n",
       "      <td>12</td>\n",
       "      <td>12-8742d98a1ffffff</td>\n",
       "    </tr>\n",
       "    <tr>\n",
       "      <th>4603012</th>\n",
       "      <td>16.0</td>\n",
       "      <td>NL12OU3057</td>\n",
       "      <td>8742d98b0ffffff</td>\n",
       "      <td>2021-11-21</td>\n",
       "      <td>12</td>\n",
       "      <td>12-8742d98b0ffffff</td>\n",
       "    </tr>\n",
       "    <tr>\n",
       "      <th>4603013</th>\n",
       "      <td>39.0</td>\n",
       "      <td>QL60FL4466</td>\n",
       "      <td>8742d98b6ffffff</td>\n",
       "      <td>2021-11-21</td>\n",
       "      <td>12</td>\n",
       "      <td>12-8742d98b6ffffff</td>\n",
       "    </tr>\n",
       "  </tbody>\n",
       "</table>\n",
       "</div>"
      ],
      "text/plain": [
       "         speed license_plate          h3index        Date  TimeSlot  \\\n",
       "4603009   17.0    GEG1CW2154  8742d98a2ffffff  2021-11-21        12   \n",
       "4603010    7.0    YF15UH1995  8742d9d69ffffff  2021-11-21        12   \n",
       "4603011   23.0    GE14PO1972  8742d98a1ffffff  2021-11-21        12   \n",
       "4603012   16.0    NL12OU3057  8742d98b0ffffff  2021-11-21        12   \n",
       "4603013   39.0    QL60FL4466  8742d98b6ffffff  2021-11-21        12   \n",
       "\n",
       "                        HAT  \n",
       "4603009  12-8742d98a2ffffff  \n",
       "4603010  12-8742d9d69ffffff  \n",
       "4603011  12-8742d98a1ffffff  \n",
       "4603012  12-8742d98b0ffffff  \n",
       "4603013  12-8742d98b6ffffff  "
      ]
     },
     "execution_count": 130,
     "metadata": {},
     "output_type": "execute_result"
    }
   ],
   "source": [
    "dataNov2021.tail()"
   ]
  },
  {
   "cell_type": "code",
   "execution_count": 131,
   "metadata": {
    "scrolled": true
   },
   "outputs": [
    {
     "name": "stdout",
     "output_type": "stream",
     "text": [
      "1168\n"
     ]
    }
   ],
   "source": [
    "print(len(pd.unique(dataNov2021['HAT'])))"
   ]
  },
  {
   "cell_type": "markdown",
   "metadata": {},
   "source": [
    "## 2. Choosing H3index\n",
    "### Base Condition  = Has average more than 10 Unique Buses Every Day for all the selected Time Slots (say, from 9 am to 9 pm)"
   ]
  },
  {
   "cell_type": "markdown",
   "metadata": {},
   "source": [
    "The H3indices are given below and the number of H3indices are mentioned below too"
   ]
  },
  {
   "cell_type": "code",
   "execution_count": 132,
   "metadata": {},
   "outputs": [
    {
     "name": "stdout",
     "output_type": "stream",
     "text": [
      "107\n"
     ]
    }
   ],
   "source": [
    "data1 = dataNov2021\n",
    "h3index = data1['h3index'].unique()\n",
    "print(len(h3index))\n"
   ]
  },
  {
   "cell_type": "markdown",
   "metadata": {},
   "source": [
    "We groupby the Data by TimeSlot, Date and H3index with the aggregation function counting the number of unique license plate. 'e' dataframe depicts the number of unique buses per TimeSlot, Date and H3index"
   ]
  },
  {
   "cell_type": "code",
   "execution_count": 133,
   "metadata": {},
   "outputs": [
    {
     "data": {
      "text/html": [
       "<div>\n",
       "<style scoped>\n",
       "    .dataframe tbody tr th:only-of-type {\n",
       "        vertical-align: middle;\n",
       "    }\n",
       "\n",
       "    .dataframe tbody tr th {\n",
       "        vertical-align: top;\n",
       "    }\n",
       "\n",
       "    .dataframe thead th {\n",
       "        text-align: right;\n",
       "    }\n",
       "</style>\n",
       "<table border=\"1\" class=\"dataframe\">\n",
       "  <thead>\n",
       "    <tr style=\"text-align: right;\">\n",
       "      <th></th>\n",
       "      <th>h3index</th>\n",
       "      <th>TimeSlot</th>\n",
       "      <th>Date</th>\n",
       "      <th>NumUniqueBusesDay</th>\n",
       "    </tr>\n",
       "  </thead>\n",
       "  <tbody>\n",
       "    <tr>\n",
       "      <th>0</th>\n",
       "      <td>8742d9814ffffff</td>\n",
       "      <td>1</td>\n",
       "      <td>2021-11-15</td>\n",
       "      <td>2</td>\n",
       "    </tr>\n",
       "    <tr>\n",
       "      <th>1</th>\n",
       "      <td>8742d9814ffffff</td>\n",
       "      <td>1</td>\n",
       "      <td>2021-11-16</td>\n",
       "      <td>1</td>\n",
       "    </tr>\n",
       "    <tr>\n",
       "      <th>2</th>\n",
       "      <td>8742d9814ffffff</td>\n",
       "      <td>1</td>\n",
       "      <td>2021-11-17</td>\n",
       "      <td>2</td>\n",
       "    </tr>\n",
       "    <tr>\n",
       "      <th>3</th>\n",
       "      <td>8742d9814ffffff</td>\n",
       "      <td>1</td>\n",
       "      <td>2021-11-18</td>\n",
       "      <td>1</td>\n",
       "    </tr>\n",
       "    <tr>\n",
       "      <th>4</th>\n",
       "      <td>8742d9814ffffff</td>\n",
       "      <td>1</td>\n",
       "      <td>2021-11-20</td>\n",
       "      <td>3</td>\n",
       "    </tr>\n",
       "    <tr>\n",
       "      <th>...</th>\n",
       "      <td>...</td>\n",
       "      <td>...</td>\n",
       "      <td>...</td>\n",
       "      <td>...</td>\n",
       "    </tr>\n",
       "    <tr>\n",
       "      <th>7308</th>\n",
       "      <td>8742dd6ddffffff</td>\n",
       "      <td>12</td>\n",
       "      <td>2021-11-20</td>\n",
       "      <td>4</td>\n",
       "    </tr>\n",
       "    <tr>\n",
       "      <th>7309</th>\n",
       "      <td>8742dd6ddffffff</td>\n",
       "      <td>12</td>\n",
       "      <td>2021-11-21</td>\n",
       "      <td>6</td>\n",
       "    </tr>\n",
       "    <tr>\n",
       "      <th>7310</th>\n",
       "      <td>875931073ffffff</td>\n",
       "      <td>6</td>\n",
       "      <td>2021-11-19</td>\n",
       "      <td>1</td>\n",
       "    </tr>\n",
       "    <tr>\n",
       "      <th>7311</th>\n",
       "      <td>8759310ecffffff</td>\n",
       "      <td>9</td>\n",
       "      <td>2021-11-16</td>\n",
       "      <td>1</td>\n",
       "    </tr>\n",
       "    <tr>\n",
       "      <th>7312</th>\n",
       "      <td>8759310eeffffff</td>\n",
       "      <td>10</td>\n",
       "      <td>2021-11-21</td>\n",
       "      <td>1</td>\n",
       "    </tr>\n",
       "  </tbody>\n",
       "</table>\n",
       "<p>7313 rows × 4 columns</p>\n",
       "</div>"
      ],
      "text/plain": [
       "              h3index  TimeSlot        Date  NumUniqueBusesDay\n",
       "0     8742d9814ffffff         1  2021-11-15                  2\n",
       "1     8742d9814ffffff         1  2021-11-16                  1\n",
       "2     8742d9814ffffff         1  2021-11-17                  2\n",
       "3     8742d9814ffffff         1  2021-11-18                  1\n",
       "4     8742d9814ffffff         1  2021-11-20                  3\n",
       "...               ...       ...         ...                ...\n",
       "7308  8742dd6ddffffff        12  2021-11-20                  4\n",
       "7309  8742dd6ddffffff        12  2021-11-21                  6\n",
       "7310  875931073ffffff         6  2021-11-19                  1\n",
       "7311  8759310ecffffff         9  2021-11-16                  1\n",
       "7312  8759310eeffffff        10  2021-11-21                  1\n",
       "\n",
       "[7313 rows x 4 columns]"
      ]
     },
     "execution_count": 133,
     "metadata": {},
     "output_type": "execute_result"
    }
   ],
   "source": [
    "e = data1.groupby(['h3index','TimeSlot','Date']).agg({'license_plate': 'nunique'}).reset_index()\n",
    "e.rename(columns = {'license_plate':'NumUniqueBusesDay'}, inplace = True)\n",
    "e"
   ]
  },
  {
   "cell_type": "markdown",
   "metadata": {},
   "source": [
    "The 'e' dataframe is now grouped as the sum of license_plate across dates. Therefore the dataframe 'f' depicts the sum of unique license plate for the 7 days per Time Slot and H3index (HAT)"
   ]
  },
  {
   "cell_type": "code",
   "execution_count": 134,
   "metadata": {},
   "outputs": [
    {
     "data": {
      "text/html": [
       "<div>\n",
       "<style scoped>\n",
       "    .dataframe tbody tr th:only-of-type {\n",
       "        vertical-align: middle;\n",
       "    }\n",
       "\n",
       "    .dataframe tbody tr th {\n",
       "        vertical-align: top;\n",
       "    }\n",
       "\n",
       "    .dataframe thead th {\n",
       "        text-align: right;\n",
       "    }\n",
       "</style>\n",
       "<table border=\"1\" class=\"dataframe\">\n",
       "  <thead>\n",
       "    <tr style=\"text-align: right;\">\n",
       "      <th></th>\n",
       "      <th>h3index</th>\n",
       "      <th>TimeSlot</th>\n",
       "      <th>NumUniqueBusesWeek</th>\n",
       "    </tr>\n",
       "  </thead>\n",
       "  <tbody>\n",
       "    <tr>\n",
       "      <th>0</th>\n",
       "      <td>8742d9814ffffff</td>\n",
       "      <td>1</td>\n",
       "      <td>9</td>\n",
       "    </tr>\n",
       "    <tr>\n",
       "      <th>1</th>\n",
       "      <td>8742d9814ffffff</td>\n",
       "      <td>2</td>\n",
       "      <td>8</td>\n",
       "    </tr>\n",
       "    <tr>\n",
       "      <th>2</th>\n",
       "      <td>8742d9814ffffff</td>\n",
       "      <td>3</td>\n",
       "      <td>5</td>\n",
       "    </tr>\n",
       "    <tr>\n",
       "      <th>3</th>\n",
       "      <td>8742d9814ffffff</td>\n",
       "      <td>4</td>\n",
       "      <td>2</td>\n",
       "    </tr>\n",
       "    <tr>\n",
       "      <th>4</th>\n",
       "      <td>8742d9814ffffff</td>\n",
       "      <td>5</td>\n",
       "      <td>4</td>\n",
       "    </tr>\n",
       "    <tr>\n",
       "      <th>...</th>\n",
       "      <td>...</td>\n",
       "      <td>...</td>\n",
       "      <td>...</td>\n",
       "    </tr>\n",
       "    <tr>\n",
       "      <th>1163</th>\n",
       "      <td>8742dd6ddffffff</td>\n",
       "      <td>11</td>\n",
       "      <td>21</td>\n",
       "    </tr>\n",
       "    <tr>\n",
       "      <th>1164</th>\n",
       "      <td>8742dd6ddffffff</td>\n",
       "      <td>12</td>\n",
       "      <td>23</td>\n",
       "    </tr>\n",
       "    <tr>\n",
       "      <th>1165</th>\n",
       "      <td>875931073ffffff</td>\n",
       "      <td>6</td>\n",
       "      <td>1</td>\n",
       "    </tr>\n",
       "    <tr>\n",
       "      <th>1166</th>\n",
       "      <td>8759310ecffffff</td>\n",
       "      <td>9</td>\n",
       "      <td>1</td>\n",
       "    </tr>\n",
       "    <tr>\n",
       "      <th>1167</th>\n",
       "      <td>8759310eeffffff</td>\n",
       "      <td>10</td>\n",
       "      <td>1</td>\n",
       "    </tr>\n",
       "  </tbody>\n",
       "</table>\n",
       "<p>1168 rows × 3 columns</p>\n",
       "</div>"
      ],
      "text/plain": [
       "              h3index  TimeSlot  NumUniqueBusesWeek\n",
       "0     8742d9814ffffff         1                   9\n",
       "1     8742d9814ffffff         2                   8\n",
       "2     8742d9814ffffff         3                   5\n",
       "3     8742d9814ffffff         4                   2\n",
       "4     8742d9814ffffff         5                   4\n",
       "...               ...       ...                 ...\n",
       "1163  8742dd6ddffffff        11                  21\n",
       "1164  8742dd6ddffffff        12                  23\n",
       "1165  875931073ffffff         6                   1\n",
       "1166  8759310ecffffff         9                   1\n",
       "1167  8759310eeffffff        10                   1\n",
       "\n",
       "[1168 rows x 3 columns]"
      ]
     },
     "execution_count": 134,
     "metadata": {},
     "output_type": "execute_result"
    }
   ],
   "source": [
    "f = e.groupby(['h3index','TimeSlot']).agg({'NumUniqueBusesDay': 'sum'}).reset_index()\n",
    "#We will rename the column NumUniqueBusesDay to NumUniqueBusesWeek because \n",
    "# we have summed the number of unique buses for the entire week\n",
    "f.rename(columns = {'NumUniqueBusesDay':'NumUniqueBusesWeek'}, inplace = True)\n",
    "f"
   ]
  },
  {
   "cell_type": "markdown",
   "metadata": {},
   "source": [
    "We expect each HAT to have at least 10 unique license plate per day. Therefore across the 7 days, we expect 70 buses at least. The following statement filters out the buses which passes the condition"
   ]
  },
  {
   "cell_type": "code",
   "execution_count": 135,
   "metadata": {
    "scrolled": true
   },
   "outputs": [
    {
     "data": {
      "text/plain": [
       "7"
      ]
     },
     "execution_count": 135,
     "metadata": {},
     "output_type": "execute_result"
    }
   ],
   "source": [
    "date = data1['Date'].unique()\n",
    "min_bus_per_HAT = 10\n",
    "NumDays = len(date)\n",
    "NumDays\n"
   ]
  },
  {
   "cell_type": "code",
   "execution_count": 136,
   "metadata": {},
   "outputs": [
    {
     "data": {
      "text/html": [
       "<div>\n",
       "<style scoped>\n",
       "    .dataframe tbody tr th:only-of-type {\n",
       "        vertical-align: middle;\n",
       "    }\n",
       "\n",
       "    .dataframe tbody tr th {\n",
       "        vertical-align: top;\n",
       "    }\n",
       "\n",
       "    .dataframe thead th {\n",
       "        text-align: right;\n",
       "    }\n",
       "</style>\n",
       "<table border=\"1\" class=\"dataframe\">\n",
       "  <thead>\n",
       "    <tr style=\"text-align: right;\">\n",
       "      <th></th>\n",
       "      <th>h3index</th>\n",
       "      <th>TimeSlot</th>\n",
       "      <th>NumUniqueBusesWeek</th>\n",
       "    </tr>\n",
       "  </thead>\n",
       "  <tbody>\n",
       "    <tr>\n",
       "      <th>100</th>\n",
       "      <td>8742d9883ffffff</td>\n",
       "      <td>7</td>\n",
       "      <td>71</td>\n",
       "    </tr>\n",
       "    <tr>\n",
       "      <th>101</th>\n",
       "      <td>8742d9883ffffff</td>\n",
       "      <td>8</td>\n",
       "      <td>79</td>\n",
       "    </tr>\n",
       "    <tr>\n",
       "      <th>108</th>\n",
       "      <td>8742d9886ffffff</td>\n",
       "      <td>3</td>\n",
       "      <td>73</td>\n",
       "    </tr>\n",
       "    <tr>\n",
       "      <th>116</th>\n",
       "      <td>8742d9886ffffff</td>\n",
       "      <td>11</td>\n",
       "      <td>74</td>\n",
       "    </tr>\n",
       "    <tr>\n",
       "      <th>130</th>\n",
       "      <td>8742d9896ffffff</td>\n",
       "      <td>1</td>\n",
       "      <td>70</td>\n",
       "    </tr>\n",
       "    <tr>\n",
       "      <th>...</th>\n",
       "      <td>...</td>\n",
       "      <td>...</td>\n",
       "      <td>...</td>\n",
       "    </tr>\n",
       "    <tr>\n",
       "      <th>1078</th>\n",
       "      <td>8742d9d71ffffff</td>\n",
       "      <td>6</td>\n",
       "      <td>71</td>\n",
       "    </tr>\n",
       "    <tr>\n",
       "      <th>1080</th>\n",
       "      <td>8742d9d71ffffff</td>\n",
       "      <td>8</td>\n",
       "      <td>81</td>\n",
       "    </tr>\n",
       "    <tr>\n",
       "      <th>1081</th>\n",
       "      <td>8742d9d71ffffff</td>\n",
       "      <td>9</td>\n",
       "      <td>92</td>\n",
       "    </tr>\n",
       "    <tr>\n",
       "      <th>1082</th>\n",
       "      <td>8742d9d71ffffff</td>\n",
       "      <td>10</td>\n",
       "      <td>109</td>\n",
       "    </tr>\n",
       "    <tr>\n",
       "      <th>1083</th>\n",
       "      <td>8742d9d71ffffff</td>\n",
       "      <td>11</td>\n",
       "      <td>86</td>\n",
       "    </tr>\n",
       "  </tbody>\n",
       "</table>\n",
       "<p>449 rows × 3 columns</p>\n",
       "</div>"
      ],
      "text/plain": [
       "              h3index  TimeSlot  NumUniqueBusesWeek\n",
       "100   8742d9883ffffff         7                  71\n",
       "101   8742d9883ffffff         8                  79\n",
       "108   8742d9886ffffff         3                  73\n",
       "116   8742d9886ffffff        11                  74\n",
       "130   8742d9896ffffff         1                  70\n",
       "...               ...       ...                 ...\n",
       "1078  8742d9d71ffffff         6                  71\n",
       "1080  8742d9d71ffffff         8                  81\n",
       "1081  8742d9d71ffffff         9                  92\n",
       "1082  8742d9d71ffffff        10                 109\n",
       "1083  8742d9d71ffffff        11                  86\n",
       "\n",
       "[449 rows x 3 columns]"
      ]
     },
     "execution_count": 136,
     "metadata": {},
     "output_type": "execute_result"
    }
   ],
   "source": [
    "limit = NumDays* min_bus_per_HAT\n",
    "g = f[f['NumUniqueBusesWeek']>=limit]\n",
    "g"
   ]
  },
  {
   "cell_type": "markdown",
   "metadata": {},
   "source": [
    "For a selected H3index, every timeslot must satisfy the condition of having 70 unique buses across all 7 days. Therefore, we count the number of timeslots in each h3index where this condition is satisfied. We select only those H3 indices for which this condition (of having sufficient number of operating buses in a HAT) is satisfied for all the timeslots. "
   ]
  },
  {
   "cell_type": "code",
   "execution_count": 137,
   "metadata": {},
   "outputs": [
    {
     "data": {
      "text/html": [
       "<div>\n",
       "<style scoped>\n",
       "    .dataframe tbody tr th:only-of-type {\n",
       "        vertical-align: middle;\n",
       "    }\n",
       "\n",
       "    .dataframe tbody tr th {\n",
       "        vertical-align: top;\n",
       "    }\n",
       "\n",
       "    .dataframe thead th {\n",
       "        text-align: right;\n",
       "    }\n",
       "</style>\n",
       "<table border=\"1\" class=\"dataframe\">\n",
       "  <thead>\n",
       "    <tr style=\"text-align: right;\">\n",
       "      <th></th>\n",
       "      <th>h3index</th>\n",
       "      <th>NumTimeSlots</th>\n",
       "    </tr>\n",
       "  </thead>\n",
       "  <tbody>\n",
       "    <tr>\n",
       "      <th>0</th>\n",
       "      <td>8742d9883ffffff</td>\n",
       "      <td>2</td>\n",
       "    </tr>\n",
       "    <tr>\n",
       "      <th>1</th>\n",
       "      <td>8742d9886ffffff</td>\n",
       "      <td>2</td>\n",
       "    </tr>\n",
       "    <tr>\n",
       "      <th>2</th>\n",
       "      <td>8742d9896ffffff</td>\n",
       "      <td>3</td>\n",
       "    </tr>\n",
       "    <tr>\n",
       "      <th>3</th>\n",
       "      <td>8742d989dffffff</td>\n",
       "      <td>2</td>\n",
       "    </tr>\n",
       "    <tr>\n",
       "      <th>4</th>\n",
       "      <td>8742d98a0ffffff</td>\n",
       "      <td>12</td>\n",
       "    </tr>\n",
       "    <tr>\n",
       "      <th>5</th>\n",
       "      <td>8742d98a1ffffff</td>\n",
       "      <td>9</td>\n",
       "    </tr>\n",
       "    <tr>\n",
       "      <th>6</th>\n",
       "      <td>8742d98a2ffffff</td>\n",
       "      <td>12</td>\n",
       "    </tr>\n",
       "    <tr>\n",
       "      <th>7</th>\n",
       "      <td>8742d98a3ffffff</td>\n",
       "      <td>11</td>\n",
       "    </tr>\n",
       "    <tr>\n",
       "      <th>8</th>\n",
       "      <td>8742d98a6ffffff</td>\n",
       "      <td>12</td>\n",
       "    </tr>\n",
       "    <tr>\n",
       "      <th>9</th>\n",
       "      <td>8742d98acffffff</td>\n",
       "      <td>5</td>\n",
       "    </tr>\n",
       "    <tr>\n",
       "      <th>10</th>\n",
       "      <td>8742d98adffffff</td>\n",
       "      <td>4</td>\n",
       "    </tr>\n",
       "    <tr>\n",
       "      <th>11</th>\n",
       "      <td>8742d98b0ffffff</td>\n",
       "      <td>12</td>\n",
       "    </tr>\n",
       "    <tr>\n",
       "      <th>12</th>\n",
       "      <td>8742d98b1ffffff</td>\n",
       "      <td>12</td>\n",
       "    </tr>\n",
       "    <tr>\n",
       "      <th>13</th>\n",
       "      <td>8742d98b2ffffff</td>\n",
       "      <td>12</td>\n",
       "    </tr>\n",
       "    <tr>\n",
       "      <th>14</th>\n",
       "      <td>8742d98b4ffffff</td>\n",
       "      <td>12</td>\n",
       "    </tr>\n",
       "    <tr>\n",
       "      <th>15</th>\n",
       "      <td>8742d98b5ffffff</td>\n",
       "      <td>12</td>\n",
       "    </tr>\n",
       "    <tr>\n",
       "      <th>16</th>\n",
       "      <td>8742d98b6ffffff</td>\n",
       "      <td>12</td>\n",
       "    </tr>\n",
       "    <tr>\n",
       "      <th>17</th>\n",
       "      <td>8742d9982ffffff</td>\n",
       "      <td>3</td>\n",
       "    </tr>\n",
       "    <tr>\n",
       "      <th>18</th>\n",
       "      <td>8742d998affffff</td>\n",
       "      <td>12</td>\n",
       "    </tr>\n",
       "    <tr>\n",
       "      <th>19</th>\n",
       "      <td>8742d9991ffffff</td>\n",
       "      <td>12</td>\n",
       "    </tr>\n",
       "    <tr>\n",
       "      <th>20</th>\n",
       "      <td>8742d9993ffffff</td>\n",
       "      <td>12</td>\n",
       "    </tr>\n",
       "    <tr>\n",
       "      <th>21</th>\n",
       "      <td>8742d9998ffffff</td>\n",
       "      <td>12</td>\n",
       "    </tr>\n",
       "    <tr>\n",
       "      <th>22</th>\n",
       "      <td>8742d9999ffffff</td>\n",
       "      <td>12</td>\n",
       "    </tr>\n",
       "    <tr>\n",
       "      <th>23</th>\n",
       "      <td>8742d999affffff</td>\n",
       "      <td>12</td>\n",
       "    </tr>\n",
       "    <tr>\n",
       "      <th>24</th>\n",
       "      <td>8742d999bffffff</td>\n",
       "      <td>12</td>\n",
       "    </tr>\n",
       "    <tr>\n",
       "      <th>25</th>\n",
       "      <td>8742d999cffffff</td>\n",
       "      <td>12</td>\n",
       "    </tr>\n",
       "    <tr>\n",
       "      <th>26</th>\n",
       "      <td>8742d999effffff</td>\n",
       "      <td>3</td>\n",
       "    </tr>\n",
       "    <tr>\n",
       "      <th>27</th>\n",
       "      <td>8742d9c64ffffff</td>\n",
       "      <td>12</td>\n",
       "    </tr>\n",
       "    <tr>\n",
       "      <th>28</th>\n",
       "      <td>8742d9d44ffffff</td>\n",
       "      <td>12</td>\n",
       "    </tr>\n",
       "    <tr>\n",
       "      <th>29</th>\n",
       "      <td>8742d9d45ffffff</td>\n",
       "      <td>12</td>\n",
       "    </tr>\n",
       "    <tr>\n",
       "      <th>30</th>\n",
       "      <td>8742d9d48ffffff</td>\n",
       "      <td>12</td>\n",
       "    </tr>\n",
       "    <tr>\n",
       "      <th>31</th>\n",
       "      <td>8742d9d49ffffff</td>\n",
       "      <td>12</td>\n",
       "    </tr>\n",
       "    <tr>\n",
       "      <th>32</th>\n",
       "      <td>8742d9d4bffffff</td>\n",
       "      <td>12</td>\n",
       "    </tr>\n",
       "    <tr>\n",
       "      <th>33</th>\n",
       "      <td>8742d9d4cffffff</td>\n",
       "      <td>12</td>\n",
       "    </tr>\n",
       "    <tr>\n",
       "      <th>34</th>\n",
       "      <td>8742d9d4dffffff</td>\n",
       "      <td>12</td>\n",
       "    </tr>\n",
       "    <tr>\n",
       "      <th>35</th>\n",
       "      <td>8742d9d63ffffff</td>\n",
       "      <td>12</td>\n",
       "    </tr>\n",
       "    <tr>\n",
       "      <th>36</th>\n",
       "      <td>8742d9d68ffffff</td>\n",
       "      <td>12</td>\n",
       "    </tr>\n",
       "    <tr>\n",
       "      <th>37</th>\n",
       "      <td>8742d9d69ffffff</td>\n",
       "      <td>12</td>\n",
       "    </tr>\n",
       "    <tr>\n",
       "      <th>38</th>\n",
       "      <td>8742d9d6affffff</td>\n",
       "      <td>12</td>\n",
       "    </tr>\n",
       "    <tr>\n",
       "      <th>39</th>\n",
       "      <td>8742d9d6bffffff</td>\n",
       "      <td>12</td>\n",
       "    </tr>\n",
       "    <tr>\n",
       "      <th>40</th>\n",
       "      <td>8742d9d6cffffff</td>\n",
       "      <td>12</td>\n",
       "    </tr>\n",
       "    <tr>\n",
       "      <th>41</th>\n",
       "      <td>8742d9d6dffffff</td>\n",
       "      <td>12</td>\n",
       "    </tr>\n",
       "    <tr>\n",
       "      <th>42</th>\n",
       "      <td>8742d9d6effffff</td>\n",
       "      <td>12</td>\n",
       "    </tr>\n",
       "    <tr>\n",
       "      <th>43</th>\n",
       "      <td>8742d9d71ffffff</td>\n",
       "      <td>9</td>\n",
       "    </tr>\n",
       "  </tbody>\n",
       "</table>\n",
       "</div>"
      ],
      "text/plain": [
       "            h3index  NumTimeSlots\n",
       "0   8742d9883ffffff             2\n",
       "1   8742d9886ffffff             2\n",
       "2   8742d9896ffffff             3\n",
       "3   8742d989dffffff             2\n",
       "4   8742d98a0ffffff            12\n",
       "5   8742d98a1ffffff             9\n",
       "6   8742d98a2ffffff            12\n",
       "7   8742d98a3ffffff            11\n",
       "8   8742d98a6ffffff            12\n",
       "9   8742d98acffffff             5\n",
       "10  8742d98adffffff             4\n",
       "11  8742d98b0ffffff            12\n",
       "12  8742d98b1ffffff            12\n",
       "13  8742d98b2ffffff            12\n",
       "14  8742d98b4ffffff            12\n",
       "15  8742d98b5ffffff            12\n",
       "16  8742d98b6ffffff            12\n",
       "17  8742d9982ffffff             3\n",
       "18  8742d998affffff            12\n",
       "19  8742d9991ffffff            12\n",
       "20  8742d9993ffffff            12\n",
       "21  8742d9998ffffff            12\n",
       "22  8742d9999ffffff            12\n",
       "23  8742d999affffff            12\n",
       "24  8742d999bffffff            12\n",
       "25  8742d999cffffff            12\n",
       "26  8742d999effffff             3\n",
       "27  8742d9c64ffffff            12\n",
       "28  8742d9d44ffffff            12\n",
       "29  8742d9d45ffffff            12\n",
       "30  8742d9d48ffffff            12\n",
       "31  8742d9d49ffffff            12\n",
       "32  8742d9d4bffffff            12\n",
       "33  8742d9d4cffffff            12\n",
       "34  8742d9d4dffffff            12\n",
       "35  8742d9d63ffffff            12\n",
       "36  8742d9d68ffffff            12\n",
       "37  8742d9d69ffffff            12\n",
       "38  8742d9d6affffff            12\n",
       "39  8742d9d6bffffff            12\n",
       "40  8742d9d6cffffff            12\n",
       "41  8742d9d6dffffff            12\n",
       "42  8742d9d6effffff            12\n",
       "43  8742d9d71ffffff             9"
      ]
     },
     "execution_count": 137,
     "metadata": {},
     "output_type": "execute_result"
    }
   ],
   "source": [
    "h = g.groupby('h3index').agg({'TimeSlot':'count'}).reset_index()\n",
    "# NumTimeSlots shows the number of Time Slots (for a given H3 index) that has sufficient number of buses \n",
    "h.rename(columns = {'TimeSlot':'NumTimeSlots'}, inplace = True)\n",
    "h"
   ]
  },
  {
   "cell_type": "code",
   "execution_count": 138,
   "metadata": {},
   "outputs": [
    {
     "data": {
      "text/html": [
       "<div>\n",
       "<style scoped>\n",
       "    .dataframe tbody tr th:only-of-type {\n",
       "        vertical-align: middle;\n",
       "    }\n",
       "\n",
       "    .dataframe tbody tr th {\n",
       "        vertical-align: top;\n",
       "    }\n",
       "\n",
       "    .dataframe thead th {\n",
       "        text-align: right;\n",
       "    }\n",
       "</style>\n",
       "<table border=\"1\" class=\"dataframe\">\n",
       "  <thead>\n",
       "    <tr style=\"text-align: right;\">\n",
       "      <th></th>\n",
       "      <th>h3index</th>\n",
       "      <th>NumTimeSlots</th>\n",
       "    </tr>\n",
       "  </thead>\n",
       "  <tbody>\n",
       "    <tr>\n",
       "      <th>4</th>\n",
       "      <td>8742d98a0ffffff</td>\n",
       "      <td>12</td>\n",
       "    </tr>\n",
       "    <tr>\n",
       "      <th>6</th>\n",
       "      <td>8742d98a2ffffff</td>\n",
       "      <td>12</td>\n",
       "    </tr>\n",
       "    <tr>\n",
       "      <th>8</th>\n",
       "      <td>8742d98a6ffffff</td>\n",
       "      <td>12</td>\n",
       "    </tr>\n",
       "    <tr>\n",
       "      <th>11</th>\n",
       "      <td>8742d98b0ffffff</td>\n",
       "      <td>12</td>\n",
       "    </tr>\n",
       "    <tr>\n",
       "      <th>12</th>\n",
       "      <td>8742d98b1ffffff</td>\n",
       "      <td>12</td>\n",
       "    </tr>\n",
       "    <tr>\n",
       "      <th>13</th>\n",
       "      <td>8742d98b2ffffff</td>\n",
       "      <td>12</td>\n",
       "    </tr>\n",
       "    <tr>\n",
       "      <th>14</th>\n",
       "      <td>8742d98b4ffffff</td>\n",
       "      <td>12</td>\n",
       "    </tr>\n",
       "    <tr>\n",
       "      <th>15</th>\n",
       "      <td>8742d98b5ffffff</td>\n",
       "      <td>12</td>\n",
       "    </tr>\n",
       "    <tr>\n",
       "      <th>16</th>\n",
       "      <td>8742d98b6ffffff</td>\n",
       "      <td>12</td>\n",
       "    </tr>\n",
       "    <tr>\n",
       "      <th>18</th>\n",
       "      <td>8742d998affffff</td>\n",
       "      <td>12</td>\n",
       "    </tr>\n",
       "    <tr>\n",
       "      <th>19</th>\n",
       "      <td>8742d9991ffffff</td>\n",
       "      <td>12</td>\n",
       "    </tr>\n",
       "    <tr>\n",
       "      <th>20</th>\n",
       "      <td>8742d9993ffffff</td>\n",
       "      <td>12</td>\n",
       "    </tr>\n",
       "    <tr>\n",
       "      <th>21</th>\n",
       "      <td>8742d9998ffffff</td>\n",
       "      <td>12</td>\n",
       "    </tr>\n",
       "    <tr>\n",
       "      <th>22</th>\n",
       "      <td>8742d9999ffffff</td>\n",
       "      <td>12</td>\n",
       "    </tr>\n",
       "    <tr>\n",
       "      <th>23</th>\n",
       "      <td>8742d999affffff</td>\n",
       "      <td>12</td>\n",
       "    </tr>\n",
       "    <tr>\n",
       "      <th>24</th>\n",
       "      <td>8742d999bffffff</td>\n",
       "      <td>12</td>\n",
       "    </tr>\n",
       "    <tr>\n",
       "      <th>25</th>\n",
       "      <td>8742d999cffffff</td>\n",
       "      <td>12</td>\n",
       "    </tr>\n",
       "    <tr>\n",
       "      <th>27</th>\n",
       "      <td>8742d9c64ffffff</td>\n",
       "      <td>12</td>\n",
       "    </tr>\n",
       "    <tr>\n",
       "      <th>28</th>\n",
       "      <td>8742d9d44ffffff</td>\n",
       "      <td>12</td>\n",
       "    </tr>\n",
       "    <tr>\n",
       "      <th>29</th>\n",
       "      <td>8742d9d45ffffff</td>\n",
       "      <td>12</td>\n",
       "    </tr>\n",
       "    <tr>\n",
       "      <th>30</th>\n",
       "      <td>8742d9d48ffffff</td>\n",
       "      <td>12</td>\n",
       "    </tr>\n",
       "    <tr>\n",
       "      <th>31</th>\n",
       "      <td>8742d9d49ffffff</td>\n",
       "      <td>12</td>\n",
       "    </tr>\n",
       "    <tr>\n",
       "      <th>32</th>\n",
       "      <td>8742d9d4bffffff</td>\n",
       "      <td>12</td>\n",
       "    </tr>\n",
       "    <tr>\n",
       "      <th>33</th>\n",
       "      <td>8742d9d4cffffff</td>\n",
       "      <td>12</td>\n",
       "    </tr>\n",
       "    <tr>\n",
       "      <th>34</th>\n",
       "      <td>8742d9d4dffffff</td>\n",
       "      <td>12</td>\n",
       "    </tr>\n",
       "    <tr>\n",
       "      <th>35</th>\n",
       "      <td>8742d9d63ffffff</td>\n",
       "      <td>12</td>\n",
       "    </tr>\n",
       "    <tr>\n",
       "      <th>36</th>\n",
       "      <td>8742d9d68ffffff</td>\n",
       "      <td>12</td>\n",
       "    </tr>\n",
       "    <tr>\n",
       "      <th>37</th>\n",
       "      <td>8742d9d69ffffff</td>\n",
       "      <td>12</td>\n",
       "    </tr>\n",
       "    <tr>\n",
       "      <th>38</th>\n",
       "      <td>8742d9d6affffff</td>\n",
       "      <td>12</td>\n",
       "    </tr>\n",
       "    <tr>\n",
       "      <th>39</th>\n",
       "      <td>8742d9d6bffffff</td>\n",
       "      <td>12</td>\n",
       "    </tr>\n",
       "    <tr>\n",
       "      <th>40</th>\n",
       "      <td>8742d9d6cffffff</td>\n",
       "      <td>12</td>\n",
       "    </tr>\n",
       "    <tr>\n",
       "      <th>41</th>\n",
       "      <td>8742d9d6dffffff</td>\n",
       "      <td>12</td>\n",
       "    </tr>\n",
       "    <tr>\n",
       "      <th>42</th>\n",
       "      <td>8742d9d6effffff</td>\n",
       "      <td>12</td>\n",
       "    </tr>\n",
       "  </tbody>\n",
       "</table>\n",
       "</div>"
      ],
      "text/plain": [
       "            h3index  NumTimeSlots\n",
       "4   8742d98a0ffffff            12\n",
       "6   8742d98a2ffffff            12\n",
       "8   8742d98a6ffffff            12\n",
       "11  8742d98b0ffffff            12\n",
       "12  8742d98b1ffffff            12\n",
       "13  8742d98b2ffffff            12\n",
       "14  8742d98b4ffffff            12\n",
       "15  8742d98b5ffffff            12\n",
       "16  8742d98b6ffffff            12\n",
       "18  8742d998affffff            12\n",
       "19  8742d9991ffffff            12\n",
       "20  8742d9993ffffff            12\n",
       "21  8742d9998ffffff            12\n",
       "22  8742d9999ffffff            12\n",
       "23  8742d999affffff            12\n",
       "24  8742d999bffffff            12\n",
       "25  8742d999cffffff            12\n",
       "27  8742d9c64ffffff            12\n",
       "28  8742d9d44ffffff            12\n",
       "29  8742d9d45ffffff            12\n",
       "30  8742d9d48ffffff            12\n",
       "31  8742d9d49ffffff            12\n",
       "32  8742d9d4bffffff            12\n",
       "33  8742d9d4cffffff            12\n",
       "34  8742d9d4dffffff            12\n",
       "35  8742d9d63ffffff            12\n",
       "36  8742d9d68ffffff            12\n",
       "37  8742d9d69ffffff            12\n",
       "38  8742d9d6affffff            12\n",
       "39  8742d9d6bffffff            12\n",
       "40  8742d9d6cffffff            12\n",
       "41  8742d9d6dffffff            12\n",
       "42  8742d9d6effffff            12"
      ]
     },
     "execution_count": 138,
     "metadata": {},
     "output_type": "execute_result"
    }
   ],
   "source": [
    "i = h[h['NumTimeSlots']==TotalTimeSlots]\n",
    "i\n"
   ]
  },
  {
   "cell_type": "markdown",
   "metadata": {},
   "source": [
    "The selected h3index are displayed below"
   ]
  },
  {
   "cell_type": "code",
   "execution_count": 139,
   "metadata": {
    "scrolled": true
   },
   "outputs": [
    {
     "data": {
      "text/plain": [
       "4     8742d98a0ffffff\n",
       "6     8742d98a2ffffff\n",
       "8     8742d98a6ffffff\n",
       "11    8742d98b0ffffff\n",
       "12    8742d98b1ffffff\n",
       "13    8742d98b2ffffff\n",
       "14    8742d98b4ffffff\n",
       "15    8742d98b5ffffff\n",
       "16    8742d98b6ffffff\n",
       "18    8742d998affffff\n",
       "19    8742d9991ffffff\n",
       "20    8742d9993ffffff\n",
       "21    8742d9998ffffff\n",
       "22    8742d9999ffffff\n",
       "23    8742d999affffff\n",
       "24    8742d999bffffff\n",
       "25    8742d999cffffff\n",
       "27    8742d9c64ffffff\n",
       "28    8742d9d44ffffff\n",
       "29    8742d9d45ffffff\n",
       "30    8742d9d48ffffff\n",
       "31    8742d9d49ffffff\n",
       "32    8742d9d4bffffff\n",
       "33    8742d9d4cffffff\n",
       "34    8742d9d4dffffff\n",
       "35    8742d9d63ffffff\n",
       "36    8742d9d68ffffff\n",
       "37    8742d9d69ffffff\n",
       "38    8742d9d6affffff\n",
       "39    8742d9d6bffffff\n",
       "40    8742d9d6cffffff\n",
       "41    8742d9d6dffffff\n",
       "42    8742d9d6effffff\n",
       "Name: h3index, dtype: object"
      ]
     },
     "execution_count": 139,
     "metadata": {},
     "output_type": "execute_result"
    }
   ],
   "source": [
    "selected = i['h3index']\n",
    "selected\n",
    "# print(len(selected))"
   ]
  },
  {
   "cell_type": "code",
   "execution_count": 140,
   "metadata": {},
   "outputs": [
    {
     "data": {
      "text/plain": [
       "33"
      ]
     },
     "execution_count": 140,
     "metadata": {},
     "output_type": "execute_result"
    }
   ],
   "source": [
    "df = data1['h3index'].isin(selected)\n",
    "data1 = data1[df]\n",
    "\n",
    "NumUniqueHex = data1.h3index.nunique()\n",
    "NumUniqueHex"
   ]
  },
  {
   "cell_type": "code",
   "execution_count": 141,
   "metadata": {},
   "outputs": [
    {
     "data": {
      "text/html": [
       "<div>\n",
       "<style scoped>\n",
       "    .dataframe tbody tr th:only-of-type {\n",
       "        vertical-align: middle;\n",
       "    }\n",
       "\n",
       "    .dataframe tbody tr th {\n",
       "        vertical-align: top;\n",
       "    }\n",
       "\n",
       "    .dataframe thead th {\n",
       "        text-align: right;\n",
       "    }\n",
       "</style>\n",
       "<table border=\"1\" class=\"dataframe\">\n",
       "  <thead>\n",
       "    <tr style=\"text-align: right;\">\n",
       "      <th></th>\n",
       "      <th>speed</th>\n",
       "      <th>license_plate</th>\n",
       "      <th>h3index</th>\n",
       "      <th>Date</th>\n",
       "      <th>TimeSlot</th>\n",
       "      <th>HAT</th>\n",
       "    </tr>\n",
       "  </thead>\n",
       "  <tbody>\n",
       "    <tr>\n",
       "      <th>2</th>\n",
       "      <td>0.0</td>\n",
       "      <td>TO11QR8132</td>\n",
       "      <td>8742d9d4bffffff</td>\n",
       "      <td>2021-11-15</td>\n",
       "      <td>1</td>\n",
       "      <td>1-8742d9d4bffffff</td>\n",
       "    </tr>\n",
       "    <tr>\n",
       "      <th>3</th>\n",
       "      <td>26.0</td>\n",
       "      <td>SB49ZI0030</td>\n",
       "      <td>8742d98b4ffffff</td>\n",
       "      <td>2021-11-15</td>\n",
       "      <td>1</td>\n",
       "      <td>1-8742d98b4ffffff</td>\n",
       "    </tr>\n",
       "    <tr>\n",
       "      <th>4</th>\n",
       "      <td>35.0</td>\n",
       "      <td>PT48TT5261</td>\n",
       "      <td>8742d98b0ffffff</td>\n",
       "      <td>2021-11-15</td>\n",
       "      <td>1</td>\n",
       "      <td>1-8742d98b0ffffff</td>\n",
       "    </tr>\n",
       "    <tr>\n",
       "      <th>5</th>\n",
       "      <td>26.0</td>\n",
       "      <td>QB76GX2308</td>\n",
       "      <td>8742d98b5ffffff</td>\n",
       "      <td>2021-11-15</td>\n",
       "      <td>1</td>\n",
       "      <td>1-8742d98b5ffffff</td>\n",
       "    </tr>\n",
       "    <tr>\n",
       "      <th>6</th>\n",
       "      <td>20.0</td>\n",
       "      <td>PW61NU2450</td>\n",
       "      <td>8742d9d48ffffff</td>\n",
       "      <td>2021-11-15</td>\n",
       "      <td>1</td>\n",
       "      <td>1-8742d9d48ffffff</td>\n",
       "    </tr>\n",
       "  </tbody>\n",
       "</table>\n",
       "</div>"
      ],
      "text/plain": [
       "   speed license_plate          h3index        Date  TimeSlot  \\\n",
       "2    0.0    TO11QR8132  8742d9d4bffffff  2021-11-15         1   \n",
       "3   26.0    SB49ZI0030  8742d98b4ffffff  2021-11-15         1   \n",
       "4   35.0    PT48TT5261  8742d98b0ffffff  2021-11-15         1   \n",
       "5   26.0    QB76GX2308  8742d98b5ffffff  2021-11-15         1   \n",
       "6   20.0    PW61NU2450  8742d9d48ffffff  2021-11-15         1   \n",
       "\n",
       "                 HAT  \n",
       "2  1-8742d9d4bffffff  \n",
       "3  1-8742d98b4ffffff  \n",
       "4  1-8742d98b0ffffff  \n",
       "5  1-8742d98b5ffffff  \n",
       "6  1-8742d9d48ffffff  "
      ]
     },
     "execution_count": 141,
     "metadata": {},
     "output_type": "execute_result"
    }
   ],
   "source": [
    "data1.head()"
   ]
  },
  {
   "cell_type": "markdown",
   "metadata": {},
   "source": [
    "### Save the preprocessed dataset"
   ]
  },
  {
   "cell_type": "code",
   "execution_count": 142,
   "metadata": {},
   "outputs": [],
   "source": [
    "#data1.to_csv('data-NovDec-processed1.csv',index=False)"
   ]
  },
  {
   "cell_type": "markdown",
   "metadata": {},
   "source": [
    "## If the preprocessed dataset is directly loaded, then run from the following cells"
   ]
  },
  {
   "cell_type": "markdown",
   "metadata": {},
   "source": [
    "#### Import the necessary libraries and load the preprocessed csv file"
   ]
  },
  {
   "cell_type": "code",
   "execution_count": 143,
   "metadata": {},
   "outputs": [],
   "source": [
    "# import pandas as pd\n",
    "# import numpy as np\n",
    "# import h3\n",
    "\n",
    "# datanew = pd.read_csv('data-NovDec-processed1.csv')\n"
   ]
  },
  {
   "cell_type": "code",
   "execution_count": 144,
   "metadata": {},
   "outputs": [],
   "source": [
    "datanew = data1"
   ]
  },
  {
   "cell_type": "markdown",
   "metadata": {},
   "source": [
    "#### Defining all possible dates"
   ]
  },
  {
   "cell_type": "code",
   "execution_count": 145,
   "metadata": {
    "scrolled": true
   },
   "outputs": [],
   "source": [
    "date = datanew['Date'].unique()\n",
    "timeslot = datanew['TimeSlot'].unique()"
   ]
  },
  {
   "cell_type": "code",
   "execution_count": 146,
   "metadata": {},
   "outputs": [
    {
     "data": {
      "text/plain": [
       "array([datetime.date(2021, 11, 15), datetime.date(2021, 11, 16),\n",
       "       datetime.date(2021, 11, 17), datetime.date(2021, 11, 18),\n",
       "       datetime.date(2021, 11, 19), datetime.date(2021, 11, 20),\n",
       "       datetime.date(2021, 11, 21)], dtype=object)"
      ]
     },
     "execution_count": 146,
     "metadata": {},
     "output_type": "execute_result"
    }
   ],
   "source": [
    "date"
   ]
  },
  {
   "cell_type": "code",
   "execution_count": 147,
   "metadata": {},
   "outputs": [
    {
     "data": {
      "text/plain": [
       "array([ 1,  2,  3,  4,  5,  6,  7,  8,  9, 10, 11, 12])"
      ]
     },
     "execution_count": 147,
     "metadata": {},
     "output_type": "execute_result"
    }
   ],
   "source": [
    "timeslot"
   ]
  },
  {
   "cell_type": "markdown",
   "metadata": {},
   "source": [
    "#### All h3index that are selected are defined here"
   ]
  },
  {
   "cell_type": "code",
   "execution_count": 148,
   "metadata": {},
   "outputs": [
    {
     "data": {
      "text/plain": [
       "array(['8742d9d4bffffff', '8742d98b4ffffff', '8742d98b0ffffff',\n",
       "       '8742d98b5ffffff', '8742d9d48ffffff', '8742d999affffff',\n",
       "       '8742d98a0ffffff', '8742d9d69ffffff', '8742d9c64ffffff',\n",
       "       '8742d9998ffffff', '8742d9d6effffff', '8742d9d6bffffff',\n",
       "       '8742d98b2ffffff', '8742d98a2ffffff', '8742d999bffffff',\n",
       "       '8742d98b6ffffff', '8742d998affffff', '8742d999cffffff',\n",
       "       '8742d9d6dffffff', '8742d9d4dffffff', '8742d9d4cffffff',\n",
       "       '8742d9d6affffff', '8742d9991ffffff', '8742d98b1ffffff',\n",
       "       '8742d9993ffffff', '8742d9999ffffff', '8742d9d63ffffff',\n",
       "       '8742d9d49ffffff', '8742d9d68ffffff', '8742d9d6cffffff',\n",
       "       '8742d9d45ffffff', '8742d9d44ffffff', '8742d98a6ffffff'],\n",
       "      dtype=object)"
      ]
     },
     "execution_count": 148,
     "metadata": {},
     "output_type": "execute_result"
    }
   ],
   "source": [
    "hindex = datanew['h3index'].unique()\n",
    "hindex"
   ]
  },
  {
   "cell_type": "markdown",
   "metadata": {},
   "source": [
    "#### Copy the dataframe for further processing"
   ]
  },
  {
   "cell_type": "code",
   "execution_count": 149,
   "metadata": {},
   "outputs": [],
   "source": [
    "df1 = datanew"
   ]
  },
  {
   "cell_type": "markdown",
   "metadata": {},
   "source": [
    "# 3. Queries\n",
    "## Query 1 -  Average Speed of Buses Passing through a HAT\n",
    "### Input - H3index, Time Slot and choice of B\n",
    "### Output - Average Speed of Bus Passing through the specific H3index, Time Slot with an added Laplace noise with parameter B, Computed Epsilon value for the query"
   ]
  },
  {
   "cell_type": "markdown",
   "metadata": {},
   "source": [
    "#### avg_query_noise_q1(h3index, timeslot,B)\n",
    "\tSelect records where h3index and time slot matches the user input\n",
    "    \n",
    "    For each day, calculate the average speed of each bus in the chosen HAT\n",
    "    \n",
    "    Calculate the weekly average speed of the HAT as the mean value of the average speed per bus per day  \n",
    "    \n",
    "    Define Ni to be the number of unique buses in the chosen HAT on day 'i'\n",
    "    Define N to be sum of Ni (over all days in a week)\n",
    "    \n",
    "\tCalculate Sensitivity as (Maximum Speed - Minimum Speed)/N = (65/N) (where a neighboring database allows changes in records of a single user for a given day for the chosen HAT)\n",
    "    \n",
    "\tCalculate Epsilon as Sensitivity/B\n",
    "    \n",
    "    Add Laplacian noise (with parameter B) to the overall average speed of the HAT\n",
    "    \n",
    "    Return the noisy weekly average speed and the calculated value of epsilon\n"
   ]
  },
  {
   "cell_type": "markdown",
   "metadata": {},
   "source": [
    "### Choice of Laplacian noise parameter B (with corresponding noise variance $2B^2$)\n",
    "###### Recommended value for B should lie within the interval [0.5, 2]. Laplacian Noise with parameter B implies that more than 95% of the times, the absolute value of the noise sample will be less than 3B"
   ]
  },
  {
   "cell_type": "code",
   "execution_count": 150,
   "metadata": {},
   "outputs": [],
   "source": [
    "# Epsilon User Per day per HAT: Neighbouring data can change average speed of a bus for a given day for a given HAT\n",
    "def avg_query_noise_q1(h,t,b):\n",
    "    \n",
    "    # Select records where h3index and time slot matches the user input\n",
    "    d = datanew[(datanew['h3index'] == h ) & (datanew['TimeSlot'] == t)]\n",
    "    \n",
    "    #For each day, calculate the average speed of each bus in the chosen HAT\n",
    "    df1 = d.groupby(['Date','license_plate']).agg({'speed':'mean'}).reset_index()\n",
    "    \n",
    "    # Calculate the weekly average speed of the HAT as the mean of the average speeds per bus per day for the chosen HAT  \n",
    "    WeeklyAvgSpeed = df1['speed'].mean()\n",
    "    \n",
    "    # Define Ni to be the number of unique buses in the chosen HAT on day 'i'\n",
    "    # Define N to be sum of Ni (over all days in a week)\n",
    "    N = len(df1)\n",
    "    \n",
    "    # Calculate Sensitivity as (Maximum Speed - Minimum Speed)/N = (65/N) (where a neighboring database allows changes in records of a single user for a given day for the chosen HAT)\n",
    "    maxspeed = datanew['speed'].max()\n",
    "    minspeed = datanew['speed'].min()\n",
    "    sensitivity = (maxspeed-minspeed)/N\n",
    "    \n",
    "    # Calculate Epsilon as Sensitivity/B\n",
    "    ep = sensitivity/(b)\n",
    "\n",
    "    # Add Laplacian noise (with parameter B) to the overall average speed of the HAT         \n",
    "    noise = np.random.laplace(0,b,1)\n",
    "    NoisyAvgSpeed= WeeklyAvgSpeed + noise\n",
    "    \n",
    "    # Fancy print outputs\n",
    "    bolded_speed = f\"\\033[1m{NoisyAvgSpeed[0]}\\033[0m\"\n",
    "    bolded_ep = f\"\\033[1m{ep}\\033[0m\"\n",
    "    print('----------------------------------')\n",
    "    print('Noisy Average Speed', bolded_speed)\n",
    "    print('Epsilon',bolded_ep)\n",
    "    print('----------------------------------\\n')\n",
    "    \n",
    "    # Return the noisy weekly average speed and the calculated value of epsilon\n",
    "    return NoisyAvgSpeed[0],ep\n"
   ]
  },
  {
   "cell_type": "markdown",
   "metadata": {},
   "source": [
    "#### Testing the avg_query_noise and thereby executing query 1"
   ]
  },
  {
   "cell_type": "code",
   "execution_count": 151,
   "metadata": {},
   "outputs": [
    {
     "name": "stdout",
     "output_type": "stream",
     "text": [
      "----------------------------------\n",
      "Noisy Average Speed \u001b[1m16.414944111102972\u001b[0m\n",
      "Epsilon \u001b[1m0.5701754385964912\u001b[0m\n",
      "----------------------------------\n",
      "\n",
      "----------------------------------\n",
      "Noisy Average Speed \u001b[1m19.033172676446718\u001b[0m\n",
      "Epsilon \u001b[1m0.2850877192982456\u001b[0m\n",
      "----------------------------------\n",
      "\n",
      "----------------------------------\n",
      "Noisy Average Speed \u001b[1m8.626434023494099\u001b[0m\n",
      "Epsilon \u001b[1m0.1425438596491228\u001b[0m\n",
      "----------------------------------\n",
      "\n"
     ]
    }
   ],
   "source": [
    "#Testing New Approach\n",
    "[Speed, Epsilon] = avg_query_noise_q1('8742d9d48ffffff',10,0.5)\n",
    "[Speed, Epsilon] = avg_query_noise_q1('8742d9d48ffffff',10,1)\n",
    "[Speed, Epsilon] = avg_query_noise_q1('8742d9d48ffffff',10,2)"
   ]
  },
  {
   "cell_type": "markdown",
   "metadata": {},
   "source": [
    "#### Plot the calculated epsilon values for different B values"
   ]
  },
  {
   "cell_type": "code",
   "execution_count": 152,
   "metadata": {},
   "outputs": [],
   "source": [
    "import matplotlib.pyplot as plt\n",
    "\n",
    "def draw_B_eps_graph_q1(h,t,b):\n",
    "    e = []\n",
    "    choice_of_B = np.arange(0.2,2.1,0.1)\n",
    "\n",
    "    d = datanew[(datanew['h3index'] == h ) & (datanew['TimeSlot'] == t)]\n",
    "    df1 = d.groupby(['Date','license_plate']).agg({'speed':'mean'}).reset_index()\n",
    "    N = len(df1)\n",
    "    \n",
    "    maxspeed = datanew['speed'].max()\n",
    "    minspeed = datanew['speed'].min() \n",
    "    sensitivity = (maxspeed-minspeed)/N\n",
    "    \n",
    "    # ep = sensitivity/(b)\n",
    "    for k in choice_of_B:\n",
    "        e.append(sensitivity/k)\n",
    "        \n",
    "    plt.plot(choice_of_B,e,color='blue',marker='o')\n",
    "    ep_b = sensitivity/b\n",
    "    plt.plot(b,ep_b,color='red',marker='o')\n",
    "    plt.title('B Vs Epsilon')\n",
    "    plt.xlabel('B')\n",
    "    plt.ylabel('Epsilon (Privacy Loss)')\n",
    "    plt.show()\n",
    "    #return ep_b\n",
    "    return"
   ]
  },
  {
   "cell_type": "code",
   "execution_count": 153,
   "metadata": {},
   "outputs": [],
   "source": [
    "def draw_B_var_graph_q1(b):\n",
    "    choice_of_B = np.arange(0.2,2.1,0.1)\n",
    "    variance = list(np.multiply(choice_of_B, choice_of_B)) \n",
    "    variance = list(np.array(variance)*2)\n",
    "    var_b = 2*b*b\n",
    "    \n",
    "    #plotting\n",
    "    plt.plot(choice_of_B, variance, color = 'b', marker ='o')\n",
    "    plt.plot(b,var_b,color='red',marker='o')\n",
    "    plt.title('B Vs Noise Variance')\n",
    "    plt.xlabel('B')\n",
    "    plt.ylabel('Noise Variance')\n",
    "    plt.show()\n",
    "    return"
   ]
  },
  {
   "cell_type": "code",
   "execution_count": 154,
   "metadata": {},
   "outputs": [],
   "source": [
    "def draw_eps_var_graph_q1(h,t,b):\n",
    "    e = []\n",
    "    choice_of_B = np.arange(0.2,2.1,0.1)\n",
    "\n",
    "    d = datanew[(datanew['h3index'] == h ) & (datanew['TimeSlot'] == t)]\n",
    "    df1 = d.groupby(['Date','license_plate']).agg({'speed':'mean'}).reset_index()\n",
    "    N = len(df1)\n",
    "    \n",
    "    maxspeed = datanew['speed'].max()\n",
    "    minspeed = datanew['speed'].min() \n",
    "    sensitivity = (maxspeed-minspeed)/N\n",
    "    \n",
    "    # ep = sensitivity/(b)\n",
    "    for k in choice_of_B :\n",
    "        e.append(sensitivity/k)\n",
    "\n",
    "    ep_b = sensitivity/b\n",
    "    variance = list(np.multiply(choice_of_B, choice_of_B)) \n",
    "    variance = list(np.array(variance)*2)\n",
    "    var_b = 2*b*b\n",
    "    \n",
    "    #plotting\n",
    "    plt.plot(e, variance, color = 'b', marker ='o')\n",
    "    plt.plot(ep_b,var_b,color='red',marker='o')\n",
    "    plt.title('Privacy Loss VS Noise Variance')\n",
    "    plt.xlabel('Epsilon (Privacy Loss)')\n",
    "    plt.ylabel('Noise Variance')\n",
    "    plt.show()\n",
    "    return"
   ]
  },
  {
   "cell_type": "markdown",
   "metadata": {},
   "source": [
    "## Query 2 -   Average Number of buses per day that exceed a user-specified speed threshold in a given HAT (averaged over the entire month)\n",
    "\n",
    "### Input - HAT value (H3index and Time Slot), Speed Threshold and choice of B\n",
    "### Output - Average Number of buses per day that exceed the speed threshold in the chosen HAT. We add Laplacian noise (with parameter B) to the average number of buses that exceed the speed threshold. We return the noisy value of the average number of buses and the calculated Epsilon for the query"
   ]
  },
  {
   "cell_type": "markdown",
   "metadata": {},
   "source": [
    "#### count_average_buses_noise_q2(h3index, Time Slot, Speed Limit, B)\n",
    "    Select records where h3index and time slot matches the user input\n",
    "\t\n",
    "    Calculate the maximum speed for each bus for each day in the selected HAT\n",
    "    \n",
    "    Select records that exceed the speed threshold given by the user\n",
    "    \n",
    "    Count the number of records (over the entire month) as 'N'\n",
    "    \n",
    "    Find the average number of buses per day that exceed the speed threshold by dividing 'N' by number of days in the dataset\n",
    "    \n",
    "\tAdd Laplacian noise (with parameter B) to average number of buses\n",
    "    \n",
    "    Compute Sensitivity as 1/(total number of Days in the dataset) where we assume that a neighboring dataset replaces the records of one of the user for one day in the chosen HAT. This corresponds to Epsilon-DP per user per HAT per Day.\n",
    "    \n",
    "\tCalculate Epsilon = Sensitivity/B\n",
    "\t\n",
    "    Return the noisy value and epsilon\n"
   ]
  },
  {
   "cell_type": "code",
   "execution_count": 155,
   "metadata": {},
   "outputs": [],
   "source": [
    "def count_average_buses_noise_q2(h,t,s,b):\n",
    "    \n",
    "    # Select records where h3index and time slot matches the user input\n",
    "    df1 = datanew[(datanew['h3index']== h) & (datanew['TimeSlot']==t) ]\n",
    "    \n",
    "    # Calculate the maximum speed for each bus for each day in the selected HAT\n",
    "    e= df1.groupby(['license_plate','Date']).agg({'speed':'max'}).reset_index()\n",
    "    \n",
    "    # Select records that exceed the speed threshold given by the user\n",
    "    f= e[(e['speed']>s)]\n",
    "    \n",
    "    # Count the number of records (over the entire week) as 'N'\n",
    "    N = len(f)\n",
    "    \n",
    "    # Find the average number of buses per day that exceed the speed threshold by dividing 'N' by number of days in the dataset\n",
    "    avg_N = N/len(date) \n",
    "    \n",
    "    # Add Laplacian noise (with parameter B) to average number of buses\n",
    "    noise = np.random.laplace(0,b,1)\n",
    "    avg_N = avg_N + noise\n",
    "\n",
    "    # Compute Sensitivity as 1/(total number of Days in the dataset)\n",
    "    # where we assume that a neighboring dataset replaces the records of one of the user\n",
    "    # for one day in the chosen HAT. This corresponds to Epsilon-DP per user per HAT per Day.\n",
    "    sensitivity = 1/len(date)\n",
    "    \n",
    "    # Calculate Epsilon = Sensitivity/B\n",
    "    # Compute Epsilon per user per HAT per Day\n",
    "    eps = sensitivity/b\n",
    "    \n",
    "    avg_N = np.around(avg_N[0])\n",
    "    \n",
    "    if(avg_N<0):\n",
    "        avg_N = +0.0\n",
    "    \n",
    "    bolded_num = f\"\\033[1m{avg_N}\\033[0m\"\n",
    "    bolded_ep = f\"\\033[1m{eps}\\033[0m\"\n",
    "    print('----------------------------------------------------------------')\n",
    "    print('Average Number of Buses Crossing the speed limit', bolded_num)\n",
    "    print('Epsilon',bolded_ep)\n",
    "    print('---------------------------------------------------------------')\n",
    "    return avg_N,eps\n",
    "    "
   ]
  },
  {
   "cell_type": "markdown",
   "metadata": {},
   "source": [
    "#### Testing  query 2"
   ]
  },
  {
   "cell_type": "code",
   "execution_count": 156,
   "metadata": {},
   "outputs": [
    {
     "name": "stdout",
     "output_type": "stream",
     "text": [
      "----------------------------------------------------------------\n",
      "Average Number of Buses Crossing the speed limit \u001b[1m9.0\u001b[0m\n",
      "Epsilon \u001b[1m0.07142857142857142\u001b[0m\n",
      "---------------------------------------------------------------\n"
     ]
    },
    {
     "data": {
      "text/plain": [
       "(9.0, 0.07142857142857142)"
      ]
     },
     "execution_count": 156,
     "metadata": {},
     "output_type": "execute_result"
    }
   ],
   "source": [
    "count_average_buses_noise_q2(\"8742d9d48ffffff\",10,45,2)"
   ]
  },
  {
   "cell_type": "code",
   "execution_count": 157,
   "metadata": {},
   "outputs": [],
   "source": [
    "def draw_B_eps_graph_q2(b):\n",
    "    e = []\n",
    "    choice_of_B = np.arange(0.2,2.1,0.1)\n",
    "    sensitivity = 1/len(date)\n",
    "    for k in choice_of_B:\n",
    "        e.append(sensitivity/k)\n",
    "    plt.plot(choice_of_B,e,color='blue',marker='o')\n",
    "    ep = sensitivity/b\n",
    "    plt.plot(b,ep,color='red',marker='o')\n",
    "    plt.title('B vs Epsilon')\n",
    "    plt.xlabel('B')\n",
    "    plt.ylabel('Epsilon (Privacy Loss)')\n",
    "    plt.show()\n",
    "    return"
   ]
  },
  {
   "cell_type": "code",
   "execution_count": 158,
   "metadata": {},
   "outputs": [],
   "source": [
    "def draw_eps_var_graph_q2(b):\n",
    "    e = []\n",
    "    choice_of_B = np.arange(0.2,2.1,0.1)\n",
    "    sensitivity = 1/len(date)\n",
    "    for k in choice_of_B:\n",
    "        e.append(sensitivity/k)\n",
    "\n",
    "    # Compute epsilon for the user specified value of B\n",
    "    ep_b = sensitivity/b\n",
    "    \n",
    "    variance = list(np.multiply(choice_of_B, choice_of_B)) \n",
    "    variance = list(np.array(variance)*2)\n",
    "    var_b = 2*b*b\n",
    "\n",
    "    plt.plot(e,variance,color='blue',marker='o')\n",
    "\n",
    "    plt.plot(ep_b,var_b,color='red',marker='o')\n",
    "    plt.title('Epsilon vs Noise Variance')\n",
    "    plt.xlabel('Epsilon (Privacy Loss)')\n",
    "    plt.ylabel('Noise Variance')\n",
    "    plt.show()\n",
    "    return"
   ]
  },
  {
   "cell_type": "markdown",
   "metadata": {},
   "source": [
    "# 4. Using Widgets"
   ]
  },
  {
   "cell_type": "markdown",
   "metadata": {},
   "source": [
    "Description - Interactive Functions"
   ]
  },
  {
   "cell_type": "code",
   "execution_count": 159,
   "metadata": {},
   "outputs": [],
   "source": [
    "from ipywidgets import interact\n",
    "import ipywidgets as widgets"
   ]
  },
  {
   "cell_type": "markdown",
   "metadata": {},
   "source": [
    "#### Widgets for Query 1"
   ]
  },
  {
   "cell_type": "code",
   "execution_count": 160,
   "metadata": {},
   "outputs": [],
   "source": [
    "hat = datanew['HAT'].unique()\n",
    "h3= datanew['h3index'].unique()\n",
    "time= datanew['TimeSlot'].unique()"
   ]
  },
  {
   "cell_type": "code",
   "execution_count": 161,
   "metadata": {},
   "outputs": [
    {
     "data": {
      "application/vnd.jupyter.widget-view+json": {
       "model_id": "851f45c7178d460a89d179b62161b774",
       "version_major": 2,
       "version_minor": 0
      },
      "text/plain": [
       "interactive(children=(Dropdown(description='H3index', options=('8742d9d4bffffff', '8742d98b4ffffff', '8742d98b…"
      ]
     },
     "metadata": {},
     "output_type": "display_data"
    }
   ],
   "source": [
    "import ipywidgets as widgets\n",
    "from ipywidgets import interact, fixed\n",
    "\n",
    "h3index_selected = widgets.Dropdown(options = h3, description='H3index')\n",
    "timeslot_selected = widgets.Dropdown(options=time, description='TimeSlot')\n",
    "b_selected = widgets.FloatSlider(value=1,min=0.5,max=2,description = 'B')\n",
    "\n",
    "def test_q1(**kwargs):\n",
    "    x = kwargs.pop('val')\n",
    "    if all(kwargs.values()):\n",
    "#         print('The Selected Values are as follows')\n",
    "#         bolded_h3 = f\"\\033[1m{kwargs['h3index_selected']}\\033[0m\"\n",
    "#         bolded_ts = f\"\\033[1m{kwargs['timeslot_selected']}\\033[0m\"\n",
    "#         bolded_b = f\"\\033[1m{kwargs['b_selected']}\\033[0m\"\n",
    "#         print('-------------------------------------')\n",
    "#         print('H3index Selected',bolded_h3)\n",
    "#         print('Time Slot Selected',bolded_ts)\n",
    "#         print('B Value Selected',bolded_b)\n",
    "        print('The Red dot (in the plots below) corresponds to the selected value of B')\n",
    "\n",
    "        avg_query_noise_q1(kwargs['h3index_selected'],kwargs['timeslot_selected'],kwargs['b_selected'])\n",
    "        draw_B_eps_graph_q1(kwargs['h3index_selected'],kwargs['timeslot_selected'],kwargs['b_selected'])\n",
    "        draw_B_var_graph_q1(kwargs['b_selected'])\n",
    "        draw_eps_var_graph_q1(kwargs['h3index_selected'],kwargs['timeslot_selected'],kwargs['b_selected'])\n",
    "interact(test_q1, val = fixed(3), h3index_selected=h3index_selected, timeslot_selected=timeslot_selected,b_selected=b_selected);"
   ]
  },
  {
   "cell_type": "markdown",
   "metadata": {},
   "source": [
    "#### Widgets for Query 2"
   ]
  },
  {
   "cell_type": "code",
   "execution_count": 163,
   "metadata": {
    "scrolled": false
   },
   "outputs": [
    {
     "data": {
      "application/vnd.jupyter.widget-view+json": {
       "model_id": "038a28ac41a9443f913abac9e77fb9dc",
       "version_major": 2,
       "version_minor": 0
      },
      "text/plain": [
       "interactive(children=(Dropdown(description='H3index', options=('8742d9d4bffffff', '8742d98b4ffffff', '8742d98b…"
      ]
     },
     "metadata": {},
     "output_type": "display_data"
    }
   ],
   "source": [
    "import ipywidgets as widgets\n",
    "from ipywidgets import interact, fixed\n",
    "\n",
    "h3index_selected = widgets.Dropdown(options = h3, description='H3index')\n",
    "timeslot_selected = widgets.Dropdown(options=time, description='TimeSlot')\n",
    "limit_selected = widgets.BoundedIntText(value=7,min=0,max=65,step=5,description='Speed Limit',disabled=False)\n",
    "b_selected = widgets.FloatSlider(value=7.5,min=0.5,max=2,description = 'B')\n",
    "\n",
    "def test_q2(**kwargs):\n",
    "    x = kwargs.pop('val')\n",
    "    if all(kwargs.values()):\n",
    "#         print('The Selected Values are as follows')\n",
    "#         bolded_h3 = f\"\\033[1m{kwargs['h3index_selected']}\\033[0m\"\n",
    "#         bolded_ts = f\"\\033[1m{kwargs['timeslot_selected']}\\033[0m\"\n",
    "#         bolded_limit = f\"\\033[1m{kwargs['limit_selected']}\\033[0m\"\n",
    "#         bolded_b = f\"\\033[1m{kwargs['b_selected']}\\033[0m\"\n",
    "#         print('-------------------------------------')\n",
    "#         print('H3index Selected',bolded_h3)\n",
    "#         print('Time Slot Selected',bolded_ts)\n",
    "#         print('Limit Selected',bolded_limit)\n",
    "#         print('B Value Selected',bolded_b)\n",
    "        print('The Red dot (in the plots below) corresponds to the selected value of B')\n",
    "        count_average_buses_noise_q2(kwargs['h3index_selected'],kwargs['timeslot_selected'],kwargs['limit_selected'],kwargs['b_selected'])\n",
    "        draw_B_eps_graph_q2(kwargs['b_selected'])\n",
    "        draw_eps_var_graph_q2(kwargs['b_selected'])\n",
    "interact(test_q2, val = fixed(4), h3index_selected=h3index_selected, timeslot_selected=timeslot_selected,limit_selected=limit_selected,b_selected=b_selected);"
   ]
  },
  {
   "cell_type": "markdown",
   "metadata": {},
   "source": [
    "## 5. Cumulative Epsilon (Epsilon Per Day)"
   ]
  },
  {
   "cell_type": "markdown",
   "metadata": {},
   "source": [
    "Sensitivity is the maximum possible variation in the query output if certain number of records are replaced or omitted by a given user\n",
    "\n",
    "Epsilon Per HAT Per Day - Sensitivity is calculated for a neighboring dataset that allows changes in the records of a single user for a given Day in a given HAT\n",
    "\n",
    "Epsilon Per Day - Sensitivity is calculated for a neighboring dataset that allows changes in the records of a single user for a given day for all possible HAT's"
   ]
  },
  {
   "cell_type": "markdown",
   "metadata": {},
   "source": [
    "#### cumulative_epsilon_query1()\n",
    "    Let 'K' denote the maximum number of HATs any bus can pass through in a single day\n",
    "    For Query 1, define Worst Case Epsilon per day as the sum of top ‘K’ worst (largest) epsilon-per-HAT-per-Day values\n",
    "\n",
    "#### cumulative_epsilon_query2()\n",
    "    Let 'K' denote the maximum number of HATs any bus can pass through in a single day\n",
    "    For Query 2, define Worst Case Epsilon per day as the product of 'K' and Epsilon-per-HAT-per-Day\n"
   ]
  },
  {
   "cell_type": "markdown",
   "metadata": {},
   "source": [
    "### Query 1 - Average Speed of Buses Passing through a HAT"
   ]
  },
  {
   "cell_type": "markdown",
   "metadata": {},
   "source": [
    "    Sensitivity is computed as the difference between Maximum Speed achieved by a bus and the minimum speed by a bus over the Sum of Total Number of Unique Buses per day for the given HAT(N)\n"
   ]
  },
  {
   "cell_type": "markdown",
   "metadata": {},
   "source": [
    "$$\n",
    "Sensitivity = \\frac {(Maximum Speed -Minimum Speed)}{N}\n",
    "$$"
   ]
  },
  {
   "cell_type": "markdown",
   "metadata": {},
   "source": [
    "$$\n",
    "N = {N_1+N_2…..+N_{7}}\n",
    "$$"
   ]
  },
  {
   "cell_type": "markdown",
   "metadata": {},
   "source": [
    "$$\n",
    "\\\\\n",
    "N_i = \\mathrm { Number\\ of\\ Unique\\ Buses\\ in\\ a\\ given\\ HAT\\ on\\ Day \\ i}\n",
    "$$"
   ]
  },
  {
   "cell_type": "markdown",
   "metadata": {},
   "source": [
    "$$\n",
    "EpsilonPerHATperDay = \\frac {Sensitivity}  {B}\n",
    "$$"
   ]
  },
  {
   "cell_type": "markdown",
   "metadata": {},
   "source": [
    "\n",
    "    We know that the Maximum Speed and Minimum Speed are constant, therefore the least value of N will give us the largest value of Sensitivity thereby the largest value (or worst case) Epsilon-per-HAT-per-Day\n"
   ]
  },
  {
   "cell_type": "markdown",
   "metadata": {},
   "source": [
    "#### cumulative_epsilon_query1()\n",
    "    Let 'K' denote the maximum number of HATs any bus can pass through in a single day\n",
    "    For Query 1, define Worst Case Epsilon per day as the sum of top ‘K’ worst Epsilon-per-HAT-per-Day values\n"
   ]
  },
  {
   "cell_type": "code",
   "execution_count": 164,
   "metadata": {},
   "outputs": [],
   "source": [
    "df1 = datanew"
   ]
  },
  {
   "cell_type": "code",
   "execution_count": 165,
   "metadata": {},
   "outputs": [],
   "source": [
    "max_speed = df1['speed'].max()\n",
    "# min_speed = 0"
   ]
  },
  {
   "cell_type": "code",
   "execution_count": 166,
   "metadata": {
    "scrolled": true
   },
   "outputs": [],
   "source": [
    "df2 = df1.groupby(['Date','h3index','TimeSlot']).agg({'license_plate':'nunique'}).reset_index()\n",
    "df3 = df2.groupby(['h3index','TimeSlot']).agg({'license_plate':'sum'}).reset_index()\n",
    "df3.rename(columns = {'license_plate':'NumUniqueBusesWeek'}, inplace = True)\n",
    "\n",
    "# User can select B\n",
    "B=0.5\n",
    "\n",
    "df3['Epsilon_q1'] = (max_speed/ df3['NumUniqueBusesWeek'])\n",
    "df3['Epsilon_q1'] = df3['Epsilon_q1']/B"
   ]
  },
  {
   "cell_type": "code",
   "execution_count": 167,
   "metadata": {},
   "outputs": [],
   "source": [
    "epsilon_per_HAT_per_Day = df3\n",
    "max_epsilon_q1 = epsilon_per_HAT_per_Day['Epsilon_q1'].max()"
   ]
  },
  {
   "cell_type": "code",
   "execution_count": 168,
   "metadata": {},
   "outputs": [
    {
     "data": {
      "text/plain": [
       "91"
      ]
     },
     "execution_count": 168,
     "metadata": {},
     "output_type": "execute_result"
    }
   ],
   "source": [
    "df3['NumUniqueBusesWeek'].min()"
   ]
  },
  {
   "cell_type": "code",
   "execution_count": 169,
   "metadata": {},
   "outputs": [
    {
     "data": {
      "text/plain": [
       "1.4285714285714286"
      ]
     },
     "execution_count": 169,
     "metadata": {},
     "output_type": "execute_result"
    }
   ],
   "source": [
    "df3['Epsilon_q1'].max()"
   ]
  },
  {
   "cell_type": "code",
   "execution_count": 170,
   "metadata": {},
   "outputs": [
    {
     "data": {
      "text/html": [
       "<div>\n",
       "<style scoped>\n",
       "    .dataframe tbody tr th:only-of-type {\n",
       "        vertical-align: middle;\n",
       "    }\n",
       "\n",
       "    .dataframe tbody tr th {\n",
       "        vertical-align: top;\n",
       "    }\n",
       "\n",
       "    .dataframe thead th {\n",
       "        text-align: right;\n",
       "    }\n",
       "</style>\n",
       "<table border=\"1\" class=\"dataframe\">\n",
       "  <thead>\n",
       "    <tr style=\"text-align: right;\">\n",
       "      <th></th>\n",
       "      <th>Date</th>\n",
       "      <th>license_plate</th>\n",
       "      <th>NumUniqueHATsDay</th>\n",
       "    </tr>\n",
       "  </thead>\n",
       "  <tbody>\n",
       "    <tr>\n",
       "      <th>0</th>\n",
       "      <td>2021-11-15</td>\n",
       "      <td>AE44FZ3300</td>\n",
       "      <td>32</td>\n",
       "    </tr>\n",
       "    <tr>\n",
       "      <th>1</th>\n",
       "      <td>2021-11-15</td>\n",
       "      <td>AG20MG4714</td>\n",
       "      <td>20</td>\n",
       "    </tr>\n",
       "    <tr>\n",
       "      <th>2</th>\n",
       "      <td>2021-11-15</td>\n",
       "      <td>AI03AQ3246</td>\n",
       "      <td>12</td>\n",
       "    </tr>\n",
       "    <tr>\n",
       "      <th>3</th>\n",
       "      <td>2021-11-15</td>\n",
       "      <td>AJ66ZK6637</td>\n",
       "      <td>47</td>\n",
       "    </tr>\n",
       "    <tr>\n",
       "      <th>4</th>\n",
       "      <td>2021-11-15</td>\n",
       "      <td>AL57KW5421</td>\n",
       "      <td>47</td>\n",
       "    </tr>\n",
       "    <tr>\n",
       "      <th>...</th>\n",
       "      <td>...</td>\n",
       "      <td>...</td>\n",
       "      <td>...</td>\n",
       "    </tr>\n",
       "    <tr>\n",
       "      <th>2803</th>\n",
       "      <td>2021-11-21</td>\n",
       "      <td>ZQ37HI7940</td>\n",
       "      <td>61</td>\n",
       "    </tr>\n",
       "    <tr>\n",
       "      <th>2804</th>\n",
       "      <td>2021-11-21</td>\n",
       "      <td>ZR17KP4221</td>\n",
       "      <td>12</td>\n",
       "    </tr>\n",
       "    <tr>\n",
       "      <th>2805</th>\n",
       "      <td>2021-11-21</td>\n",
       "      <td>ZU72KF4713</td>\n",
       "      <td>62</td>\n",
       "    </tr>\n",
       "    <tr>\n",
       "      <th>2806</th>\n",
       "      <td>2021-11-21</td>\n",
       "      <td>ZV02XI2374</td>\n",
       "      <td>16</td>\n",
       "    </tr>\n",
       "    <tr>\n",
       "      <th>2807</th>\n",
       "      <td>2021-11-21</td>\n",
       "      <td>ZW95NA6477</td>\n",
       "      <td>4</td>\n",
       "    </tr>\n",
       "  </tbody>\n",
       "</table>\n",
       "<p>2808 rows × 3 columns</p>\n",
       "</div>"
      ],
      "text/plain": [
       "            Date license_plate  NumUniqueHATsDay\n",
       "0     2021-11-15    AE44FZ3300                32\n",
       "1     2021-11-15    AG20MG4714                20\n",
       "2     2021-11-15    AI03AQ3246                12\n",
       "3     2021-11-15    AJ66ZK6637                47\n",
       "4     2021-11-15    AL57KW5421                47\n",
       "...          ...           ...               ...\n",
       "2803  2021-11-21    ZQ37HI7940                61\n",
       "2804  2021-11-21    ZR17KP4221                12\n",
       "2805  2021-11-21    ZU72KF4713                62\n",
       "2806  2021-11-21    ZV02XI2374                16\n",
       "2807  2021-11-21    ZW95NA6477                 4\n",
       "\n",
       "[2808 rows x 3 columns]"
      ]
     },
     "execution_count": 170,
     "metadata": {},
     "output_type": "execute_result"
    }
   ],
   "source": [
    "df2 = df1.groupby(['Date','license_plate']).agg({'HAT':'nunique'}).reset_index()\n",
    "df2.rename(columns = {'HAT':'NumUniqueHATsDay'}, inplace = True)\n",
    "df2\n"
   ]
  },
  {
   "cell_type": "code",
   "execution_count": 172,
   "metadata": {},
   "outputs": [
    {
     "data": {
      "text/plain": [
       "<AxesSubplot:ylabel='Frequency'>"
      ]
     },
     "execution_count": 172,
     "metadata": {},
     "output_type": "execute_result"
    },
    {
     "data": {
      "image/png": "[encoded data removed]",
      "text/plain": [
       "<Figure size 432x288 with 1 Axes>"
      ]
     },
     "metadata": {
      "needs_background": "light"
     },
     "output_type": "display_data"
    }
   ],
   "source": [
    "df2['NumUniqueHATsDay'].plot.hist(bins=20)"
   ]
  },
  {
   "cell_type": "code",
   "execution_count": 173,
   "metadata": {},
   "outputs": [
    {
     "name": "stdout",
     "output_type": "stream",
     "text": [
      "88\n"
     ]
    }
   ],
   "source": [
    "K = df2['NumUniqueHATsDay'].max()\n",
    "print(K)"
   ]
  },
  {
   "cell_type": "code",
   "execution_count": 174,
   "metadata": {},
   "outputs": [
    {
     "data": {
      "text/html": [
       "<div>\n",
       "<style scoped>\n",
       "    .dataframe tbody tr th:only-of-type {\n",
       "        vertical-align: middle;\n",
       "    }\n",
       "\n",
       "    .dataframe tbody tr th {\n",
       "        vertical-align: top;\n",
       "    }\n",
       "\n",
       "    .dataframe thead th {\n",
       "        text-align: right;\n",
       "    }\n",
       "</style>\n",
       "<table border=\"1\" class=\"dataframe\">\n",
       "  <thead>\n",
       "    <tr style=\"text-align: right;\">\n",
       "      <th></th>\n",
       "      <th>h3index</th>\n",
       "      <th>TimeSlot</th>\n",
       "      <th>NumUniqueBusesWeek</th>\n",
       "      <th>Epsilon_q1</th>\n",
       "    </tr>\n",
       "  </thead>\n",
       "  <tbody>\n",
       "    <tr>\n",
       "      <th>0</th>\n",
       "      <td>8742d98a0ffffff</td>\n",
       "      <td>1</td>\n",
       "      <td>196</td>\n",
       "      <td>0.663265</td>\n",
       "    </tr>\n",
       "    <tr>\n",
       "      <th>1</th>\n",
       "      <td>8742d98a0ffffff</td>\n",
       "      <td>2</td>\n",
       "      <td>186</td>\n",
       "      <td>0.698925</td>\n",
       "    </tr>\n",
       "    <tr>\n",
       "      <th>2</th>\n",
       "      <td>8742d98a0ffffff</td>\n",
       "      <td>3</td>\n",
       "      <td>201</td>\n",
       "      <td>0.646766</td>\n",
       "    </tr>\n",
       "    <tr>\n",
       "      <th>3</th>\n",
       "      <td>8742d98a0ffffff</td>\n",
       "      <td>4</td>\n",
       "      <td>156</td>\n",
       "      <td>0.833333</td>\n",
       "    </tr>\n",
       "    <tr>\n",
       "      <th>4</th>\n",
       "      <td>8742d98a0ffffff</td>\n",
       "      <td>5</td>\n",
       "      <td>137</td>\n",
       "      <td>0.948905</td>\n",
       "    </tr>\n",
       "    <tr>\n",
       "      <th>...</th>\n",
       "      <td>...</td>\n",
       "      <td>...</td>\n",
       "      <td>...</td>\n",
       "      <td>...</td>\n",
       "    </tr>\n",
       "    <tr>\n",
       "      <th>391</th>\n",
       "      <td>8742d9d6effffff</td>\n",
       "      <td>8</td>\n",
       "      <td>218</td>\n",
       "      <td>0.596330</td>\n",
       "    </tr>\n",
       "    <tr>\n",
       "      <th>392</th>\n",
       "      <td>8742d9d6effffff</td>\n",
       "      <td>9</td>\n",
       "      <td>220</td>\n",
       "      <td>0.590909</td>\n",
       "    </tr>\n",
       "    <tr>\n",
       "      <th>393</th>\n",
       "      <td>8742d9d6effffff</td>\n",
       "      <td>10</td>\n",
       "      <td>215</td>\n",
       "      <td>0.604651</td>\n",
       "    </tr>\n",
       "    <tr>\n",
       "      <th>394</th>\n",
       "      <td>8742d9d6effffff</td>\n",
       "      <td>11</td>\n",
       "      <td>201</td>\n",
       "      <td>0.646766</td>\n",
       "    </tr>\n",
       "    <tr>\n",
       "      <th>395</th>\n",
       "      <td>8742d9d6effffff</td>\n",
       "      <td>12</td>\n",
       "      <td>171</td>\n",
       "      <td>0.760234</td>\n",
       "    </tr>\n",
       "  </tbody>\n",
       "</table>\n",
       "<p>396 rows × 4 columns</p>\n",
       "</div>"
      ],
      "text/plain": [
       "             h3index  TimeSlot  NumUniqueBusesWeek  Epsilon_q1\n",
       "0    8742d98a0ffffff         1                 196    0.663265\n",
       "1    8742d98a0ffffff         2                 186    0.698925\n",
       "2    8742d98a0ffffff         3                 201    0.646766\n",
       "3    8742d98a0ffffff         4                 156    0.833333\n",
       "4    8742d98a0ffffff         5                 137    0.948905\n",
       "..               ...       ...                 ...         ...\n",
       "391  8742d9d6effffff         8                 218    0.596330\n",
       "392  8742d9d6effffff         9                 220    0.590909\n",
       "393  8742d9d6effffff        10                 215    0.604651\n",
       "394  8742d9d6effffff        11                 201    0.646766\n",
       "395  8742d9d6effffff        12                 171    0.760234\n",
       "\n",
       "[396 rows x 4 columns]"
      ]
     },
     "execution_count": 174,
     "metadata": {},
     "output_type": "execute_result"
    }
   ],
   "source": [
    "epsilon_per_HAT_per_Day"
   ]
  },
  {
   "cell_type": "markdown",
   "metadata": {},
   "source": [
    "Sort epsilon_per_HAT_per_Day in descending order of Epsilon_q1\n",
    "\n",
    "To calculate Epsilon Per Day for Query 1, add the first 'K' number of values of Epsilon_q1 from the sorted epsilon_per_HAT_per_Day dataframe"
   ]
  },
  {
   "cell_type": "code",
   "execution_count": 175,
   "metadata": {},
   "outputs": [
    {
     "name": "stdout",
     "output_type": "stream",
     "text": [
      "88\n",
      "88.45936792652356\n"
     ]
    }
   ],
   "source": [
    "cumulative_epsilon_q1 = epsilon_per_HAT_per_Day.nlargest(K, \"Epsilon_q1\")['Epsilon_q1'].sum()\n",
    "print(K)\n",
    "print(cumulative_epsilon_q1)"
   ]
  },
  {
   "cell_type": "markdown",
   "metadata": {},
   "source": [
    "## Query 2 - Average Number of buses exceeding a user-specified speed threshold for a HAT "
   ]
  },
  {
   "cell_type": "markdown",
   "metadata": {},
   "source": [
    "$$\n",
    "EpsilonPerHATperDay = \\frac {1} {Number\\ of\\ Days \\times B}\n",
    "$$"
   ]
  },
  {
   "cell_type": "code",
   "execution_count": 176,
   "metadata": {},
   "outputs": [
    {
     "name": "stdout",
     "output_type": "stream",
     "text": [
      "7\n"
     ]
    }
   ],
   "source": [
    "number_of_days =  len(df1['Date'].unique())\n",
    "print(number_of_days)"
   ]
  },
  {
   "cell_type": "code",
   "execution_count": 177,
   "metadata": {},
   "outputs": [
    {
     "name": "stdout",
     "output_type": "stream",
     "text": [
      "0.2857142857142857\n"
     ]
    }
   ],
   "source": [
    "# User selects B value\n",
    "B = 0.5\n",
    "\n",
    "#  EpsilonPerHATperDay is same for all HATs for Query 2\n",
    "epsilon_per_HAT_per_Day_q2 = (1/number_of_days)/B\n",
    "print(epsilon_per_HAT_per_Day_q2)"
   ]
  },
  {
   "cell_type": "markdown",
   "metadata": {},
   "source": [
    "    For Query 2, we calculate the Epsilon per day by multiplying K (maximum number of HATs a bus travels in a given day) with the calculated epsilon_per_HAT_per_Day_q2"
   ]
  },
  {
   "cell_type": "code",
   "execution_count": 178,
   "metadata": {},
   "outputs": [
    {
     "name": "stdout",
     "output_type": "stream",
     "text": [
      "88\n",
      "25.142857142857142\n"
     ]
    }
   ],
   "source": [
    "print(K)\n",
    "cumulative_epsilon_q2 = K * epsilon_per_HAT_per_Day_q2\n",
    "print(cumulative_epsilon_q2)"
   ]
  },
  {
   "cell_type": "markdown",
   "metadata": {},
   "source": [
    "## Cumulative Epsilon (Epsilon Per Day) for both the Queries"
   ]
  },
  {
   "cell_type": "markdown",
   "metadata": {},
   "source": [
    "$$\n",
    "Cumulative\\ Epsilon = E_1 + E_2\n",
    "$$"
   ]
  },
  {
   "cell_type": "markdown",
   "metadata": {},
   "source": [
    "$$\n",
    "E_1 = Cumulative\\ Epsilon\\  of\\  Query \\ 1\n",
    "\\\\\n",
    "\\\\\n",
    "E_2 = Cumulative\\  Epsilon\\  of \\ Query \\ 2\n",
    "$$"
   ]
  },
  {
   "cell_type": "code",
   "execution_count": 179,
   "metadata": {},
   "outputs": [
    {
     "name": "stdout",
     "output_type": "stream",
     "text": [
      "113.6022250693807\n"
     ]
    }
   ],
   "source": [
    "cumulative_epsilon = cumulative_epsilon_q1 + cumulative_epsilon_q2\n",
    "print(cumulative_epsilon)"
   ]
  }
 ],
 "metadata": {
  "kernelspec": {
   "display_name": "Python 3",
   "language": "python",
   "name": "python3"
  },
  "language_info": {
   "codemirror_mode": {
    "name": "ipython",
    "version": 3
   },
   "file_extension": ".py",
   "mimetype": "text/x-python",
   "name": "python",
   "nbconvert_exporter": "python",
   "pygments_lexer": "ipython3",
   "version": "3.8.3"
  }
 },
 "nbformat": 4,
 "nbformat_minor": 5
}
